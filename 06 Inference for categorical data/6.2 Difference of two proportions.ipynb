{
 "cells": [
  {
   "cell_type": "code",
   "execution_count": 6,
   "metadata": {
    "ExecuteTime": {
     "end_time": "2022-01-07T16:03:55.376553Z",
     "start_time": "2022-01-07T16:03:55.367553Z"
    },
    "id": "2njiu1i6PqH6"
   },
   "outputs": [],
   "source": [
    "import numpy as np\n",
    "import pandas as pd\n",
    "import matplotlib.pyplot as plt\n",
    "import seaborn as sns\n",
    "import math\n",
    "import scipy.stats"
   ]
  },
  {
   "cell_type": "markdown",
   "metadata": {},
   "source": [
    "\\begin{array}{ |c|c|c|c| } \n",
    " \\hline\n",
    "  & Covid & NoCovid & RowTotal \\\\\n",
    " \\hline\n",
    " Vaccinated & 8 & 21992 & 22000 \\\\\n",
    " \\hline\n",
    " Placebo & 162 & 21838 & 22000 \\\\\n",
    " \\hline\n",
    " Column Total & 170 & 43830 & 44000 \\\\\n",
    " \\hline\n",
    "\\end{array}"
   ]
  },
  {
   "cell_type": "markdown",
   "metadata": {},
   "source": [
    "${\\hat{p}_{vaccinated}} = \\frac{8}{8+22000} = 0.0004\\\\$\n",
    "${\\hat{p}_{placebo}} = \\frac{162}{162+22000} = 0.007$"
   ]
  },
  {
   "cell_type": "markdown",
   "metadata": {
    "id": "SF1zHGN1lJ2O"
   },
   "source": [
    "**Confidence Intervals**\n",
    "\n",
    "\n",
    "${\\hat{p_1}} - {\\hat{p_2}} \\pm z^{*} \\times SE$\n",
    "\n",
    "$SE = \\sqrt{\\frac{{p_1}(1-{p_1})}{n_1} + \\frac{{p_2}(1-{p_2})}{n_2}}$"
   ]
  },
  {
   "cell_type": "markdown",
   "metadata": {},
   "source": [
    "**Hypothesis**\n",
    "\n",
    "$H_o: p_1 - p_2 = 0\\\\$\n",
    "$H_A: p_1 - p_2 \\neq 0$"
   ]
  },
  {
   "cell_type": "markdown",
   "metadata": {},
   "source": [
    "**Pooled Proportion**\n",
    "\n",
    "${\\hat{p}_{pooled}}  = \\frac{\\hat{p_1}n_1 + \\hat{p_2}n_2}{n_1 + n_2} = \\frac{8 + 162}{22000 + 22000} = 0.004$"
   ]
  },
  {
   "cell_type": "markdown",
   "metadata": {
    "id": "DoOKZiN1q1Db"
   },
   "source": [
    "**success-failure condition**\n",
    "\n",
    "\n",
    "${\\hat{p}_{pooled}} \\times n_{vaccinated}  = 0.004 * 22000 = 88.0$\n",
    "\n",
    "$(1 - {\\hat{p}_{pooled}}) \\times n_{vaccinated}  = 0.996 * 22000 = 21912.0$\n",
    "\n",
    "${\\hat{p}_{pooled}} \\times n_{placebo}  = 0.004 * 22000 = 88.0$\n",
    "\n",
    "$(1 - {\\hat{p}_{pooled}}) \\times n_{placebo}  = 0.996 * 22000 = 21912.0$"
   ]
  },
  {
   "cell_type": "markdown",
   "metadata": {},
   "source": [
    "**difference of point estimates**\n",
    "\n",
    "${\\hat{p}_{vaccinated}} - {\\hat{p}_{placebo}} = 0.0004 - 0.007 = -0.0066$"
   ]
  },
  {
   "cell_type": "markdown",
   "metadata": {
    "ExecuteTime": {
     "end_time": "2022-01-07T15:50:59.462853Z",
     "start_time": "2022-01-07T15:50:59.445811Z"
    }
   },
   "source": [
    "**standard error**\n",
    "\n",
    "$SE = \\sqrt{\\frac{{\\hat{p}_{pooled}}(1-{\\hat{p}_{pooled}})}{n_{vaccinated}} + \\frac{{\\hat{p}_{pooled}}(1-{\\hat{p}_{pooled}})}{n_{placebo}}} = \\sqrt{\\frac{0.003984}{22000} + \\frac{0.003984}{22000}} = 1.8109090909090909e-07$"
   ]
  },
  {
   "cell_type": "markdown",
   "metadata": {},
   "source": [
    "**z-score**\n",
    "\n",
    "$Z = \\frac{−0.0066 - 0}{1.8109090909090909e-07} = -36445.78313253012$"
   ]
  },
  {
   "cell_type": "code",
   "execution_count": 7,
   "metadata": {
    "ExecuteTime": {
     "end_time": "2022-01-07T16:03:55.391554Z",
     "start_time": "2022-01-07T16:03:55.378553Z"
    },
    "id": "GcU1URlHe7UD"
   },
   "outputs": [
    {
     "data": {
      "text/plain": [
       "0.0"
      ]
     },
     "execution_count": 7,
     "metadata": {},
     "output_type": "execute_result"
    }
   ],
   "source": [
    "# p-value\n",
    "scipy.stats.norm.sf(abs(36445.78))*2"
   ]
  },
  {
   "cell_type": "code",
   "execution_count": null,
   "metadata": {},
   "outputs": [],
   "source": []
  }
 ],
 "metadata": {
  "colab": {
   "collapsed_sections": [],
   "name": "5.3 Hypothesis testing for a proportion",
   "provenance": []
  },
  "kernelspec": {
   "display_name": "Python 3 (ipykernel)",
   "language": "python",
   "name": "python3"
  },
  "language_info": {
   "codemirror_mode": {
    "name": "ipython",
    "version": 3
   },
   "file_extension": ".py",
   "mimetype": "text/x-python",
   "name": "python",
   "nbconvert_exporter": "python",
   "pygments_lexer": "ipython3",
   "version": "3.7.9"
  }
 },
 "nbformat": 4,
 "nbformat_minor": 1
}
