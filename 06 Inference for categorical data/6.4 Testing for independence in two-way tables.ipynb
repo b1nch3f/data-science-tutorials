{
 "cells": [
  {
   "cell_type": "code",
   "execution_count": 22,
   "metadata": {
    "ExecuteTime": {
     "end_time": "2022-01-09T16:04:18.936668Z",
     "start_time": "2022-01-09T16:04:18.928669Z"
    },
    "id": "2njiu1i6PqH6"
   },
   "outputs": [],
   "source": [
    "import numpy as np\n",
    "import pandas as pd\n",
    "import matplotlib.pyplot as plt\n",
    "import seaborn as sns\n",
    "import math\n",
    "import scipy.stats as stats\n",
    "from scipy.stats import chi2_contingency"
   ]
  },
  {
   "cell_type": "markdown",
   "metadata": {},
   "source": [
    "<h1><center>two-way tables</center></h1>\n",
    "\n",
    "\\begin{array}{ c|c|c|c|c } \n",
    " \\hline\n",
    " \\text{} & \\text{General} & \\text{Positive Assumption} & \\text{Negative Assumption} & \\text{Total} \\\\\n",
    " \\hline\n",
    " \\text{Disclose Problem} & 2 & 23 & 36 & 61 \\\\\n",
    " \\hline\n",
    " \\text{Hide Problem} & 71 & 50 & 37 & 158 \\\\\n",
    " \\hline\n",
    " \\text{Total} & 73 & 73 & 73 & 219 \\\\\n",
    " \\hline\n",
    "\\end{array}"
   ]
  },
  {
   "cell_type": "markdown",
   "metadata": {},
   "source": [
    "**Hypothesis**\n",
    "\n",
    "$H_o: \\text{The jurors are randomly sample, i.e. there is no racial bias}\\\\$\n",
    "$H_A: \\text{The jurors are not randomly sample, i.e. there is racial bias in juror selection}$"
   ]
  },
  {
   "cell_type": "markdown",
   "metadata": {},
   "source": [
    "**COMPUTING EXPECTED COUNTS IN A TWO-WAY TABLE**\n",
    "\n",
    "$\\text{Expected Count}_{\\text{row i, col j}} = \\frac{\\text{(row i total)} \\times \\text{(column j total)}}{\\text{table total}}$"
   ]
  },
  {
   "cell_type": "code",
   "execution_count": 23,
   "metadata": {
    "ExecuteTime": {
     "end_time": "2022-01-09T16:04:18.951703Z",
     "start_time": "2022-01-09T16:04:18.938668Z"
    }
   },
   "outputs": [
    {
     "name": "stdout",
     "output_type": "stream",
     "text": [
      "E11 20.333333333333332\n",
      "E12 20.333333333333332\n",
      "E13 20.333333333333332\n",
      "E21 52.666666666666664\n",
      "E22 52.666666666666664\n",
      "E23 52.666666666666664\n"
     ]
    }
   ],
   "source": [
    "# row 1, col 1 \n",
    "E11 = (61 * 73) / 219\n",
    "print(f'E11 {E11}')\n",
    "\n",
    "# row 1, col 2 \n",
    "E12 = (61 * 73) / 219\n",
    "print(f'E12 {E12}')\n",
    "\n",
    "# row 1, col 3\n",
    "E13 = (61 * 73) / 219\n",
    "print(f'E13 {E13}')\n",
    "\n",
    "# row 2, col 1 \n",
    "E21 = (158 * 73) / 219\n",
    "print(f'E21 {E21}')\n",
    "\n",
    "# row 2, col 2 \n",
    "E22 = (158 * 73) / 219\n",
    "print(f'E22 {E22}')\n",
    "\n",
    "# row 2, col 3\n",
    "E23 = (158 * 73) / 219\n",
    "print(f'E23 {E23}')"
   ]
  },
  {
   "cell_type": "markdown",
   "metadata": {},
   "source": [
    "**CONDITIONS FOR THE CHI-SQUARE TEST**\n",
    "\n",
    "1. Independence\n",
    "2. $E_k \\ge 5$"
   ]
  },
  {
   "cell_type": "markdown",
   "metadata": {},
   "source": [
    "**CHI-SQUARE TEST FOR ONE-WAY TABLE**\n",
    "\n",
    "$\\chi^2 = \\frac{(O_1 - E_1)^2}{E_1} + \\frac{(O_2 - E_2)^2}{E_2} + ... + \\frac{(O_k - E_k)^2}{E_k}$"
   ]
  },
  {
   "cell_type": "code",
   "execution_count": 24,
   "metadata": {
    "ExecuteTime": {
     "end_time": "2022-01-09T16:04:18.967669Z",
     "start_time": "2022-01-09T16:04:18.953670Z"
    }
   },
   "outputs": [
    {
     "data": {
      "text/plain": [
       "40.132076574754635"
      ]
     },
     "execution_count": 24,
     "metadata": {},
     "output_type": "execute_result"
    }
   ],
   "source": [
    "((2 - 20.33) ** 2) / 20.33 + \\\n",
    "((23 - 20.33) ** 2) / 20.33 + \\\n",
    "((36 - 20.33) ** 2) / 20.33 + \\\n",
    "((71 - 52.67) ** 2) / 52.67 + \\\n",
    "((50 - 52.67) ** 2) / 52.67 + \\\n",
    "((37 - 52.67) ** 2) / 52.67"
   ]
  },
  {
   "cell_type": "markdown",
   "metadata": {},
   "source": [
    "**COMPUTING DEGREES OF FREEDOM FOR A TWO-WAY TABLE**\n",
    "\n",
    "$df = \\text{(R - 1)} \\times \\text{(C - 1)}$"
   ]
  },
  {
   "cell_type": "code",
   "execution_count": 25,
   "metadata": {
    "ExecuteTime": {
     "end_time": "2022-01-09T16:04:18.983703Z",
     "start_time": "2022-01-09T16:04:18.969702Z"
    }
   },
   "outputs": [
    {
     "data": {
      "text/plain": [
       "2"
      ]
     },
     "execution_count": 25,
     "metadata": {},
     "output_type": "execute_result"
    }
   ],
   "source": [
    "# degreees of freedom\n",
    "(2 - 1) * (3 - 1)"
   ]
  },
  {
   "cell_type": "code",
   "execution_count": 26,
   "metadata": {
    "ExecuteTime": {
     "end_time": "2022-01-09T16:04:18.998703Z",
     "start_time": "2022-01-09T16:04:18.985707Z"
    }
   },
   "outputs": [
    {
     "data": {
      "text/plain": [
       "1.9314400079295524e-09"
      ]
     },
     "execution_count": 26,
     "metadata": {},
     "output_type": "execute_result"
    }
   ],
   "source": [
    "# p-value\n",
    "1 - stats.chi2.cdf(40.13, 2)"
   ]
  },
  {
   "cell_type": "markdown",
   "metadata": {},
   "source": [
    "**Find p-value Computationally**"
   ]
  },
  {
   "cell_type": "code",
   "execution_count": 27,
   "metadata": {
    "ExecuteTime": {
     "end_time": "2022-01-09T16:04:19.014705Z",
     "start_time": "2022-01-09T16:04:18.999669Z"
    }
   },
   "outputs": [],
   "source": [
    "f_obs = [2, 23, 36]"
   ]
  },
  {
   "cell_type": "code",
   "execution_count": 28,
   "metadata": {
    "ExecuteTime": {
     "end_time": "2022-01-09T16:04:19.030677Z",
     "start_time": "2022-01-09T16:04:19.015669Z"
    }
   },
   "outputs": [],
   "source": [
    "f_exp=[71, 50, 37]"
   ]
  },
  {
   "cell_type": "code",
   "execution_count": 29,
   "metadata": {
    "ExecuteTime": {
     "end_time": "2022-01-09T16:04:19.046692Z",
     "start_time": "2022-01-09T16:04:19.031669Z"
    }
   },
   "outputs": [],
   "source": [
    "stat, p, dof, expected = chi2_contingency([f_obs, f_exp])"
   ]
  },
  {
   "cell_type": "code",
   "execution_count": 30,
   "metadata": {
    "ExecuteTime": {
     "end_time": "2022-01-09T16:04:19.061694Z",
     "start_time": "2022-01-09T16:04:19.047695Z"
    }
   },
   "outputs": [
    {
     "data": {
      "text/plain": [
       "(40.12803486200457,\n",
       " 1.9333387023231875e-09,\n",
       " 2,\n",
       " array([[20.33333333, 20.33333333, 20.33333333],\n",
       "        [52.66666667, 52.66666667, 52.66666667]]))"
      ]
     },
     "execution_count": 30,
     "metadata": {},
     "output_type": "execute_result"
    }
   ],
   "source": [
    "stat, p, dof, expected "
   ]
  },
  {
   "cell_type": "code",
   "execution_count": null,
   "metadata": {},
   "outputs": [],
   "source": []
  }
 ],
 "metadata": {
  "colab": {
   "collapsed_sections": [],
   "name": "5.3 Hypothesis testing for a proportion",
   "provenance": []
  },
  "kernelspec": {
   "display_name": "Python 3 (ipykernel)",
   "language": "python",
   "name": "python3"
  },
  "language_info": {
   "codemirror_mode": {
    "name": "ipython",
    "version": 3
   },
   "file_extension": ".py",
   "mimetype": "text/x-python",
   "name": "python",
   "nbconvert_exporter": "python",
   "pygments_lexer": "ipython3",
   "version": "3.7.9"
  }
 },
 "nbformat": 4,
 "nbformat_minor": 1
}
