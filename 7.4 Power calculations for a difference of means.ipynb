{
 "cells": [
  {
   "cell_type": "code",
   "execution_count": 217,
   "metadata": {
    "ExecuteTime": {
     "end_time": "2022-01-14T09:10:42.221446Z",
     "start_time": "2022-01-14T09:10:42.209444Z"
    },
    "id": "2njiu1i6PqH6"
   },
   "outputs": [],
   "source": [
    "import numpy as np\n",
    "import pandas as pd\n",
    "import matplotlib.pyplot as plt\n",
    "import seaborn as sns\n",
    "import math\n",
    "import scipy.stats as stats\n",
    "from scipy.stats import chi2_contingency"
   ]
  },
  {
   "cell_type": "code",
   "execution_count": 218,
   "metadata": {
    "ExecuteTime": {
     "end_time": "2022-01-14T09:10:42.356375Z",
     "start_time": "2022-01-14T09:10:42.223444Z"
    }
   },
   "outputs": [
    {
     "data": {
      "image/png": "[encoded data removed]",
      "text/plain": [
       "<Figure size 432x288 with 1 Axes>"
      ]
     },
     "metadata": {
      "needs_background": "light"
     },
     "output_type": "display_data"
    }
   ],
   "source": [
    "mu = 0\n",
    "sigma = 1\n",
    "x = np.linspace(mu - 3*sigma, mu + 3*sigma, 500)\n",
    "plt.plot(x, stats.norm.pdf(x, mu, sigma))\n",
    "\n",
    "mu = -3\n",
    "sigma = 1\n",
    "x = np.linspace(mu - 3*sigma, mu + 3*sigma, 500)\n",
    "plt.plot(x, stats.norm.pdf(x, mu, sigma))\n",
    "\n",
    "plt.xticks(np.arange(-10, 10, step=1))\n",
    "\n",
    "plt.show()"
   ]
  },
  {
   "cell_type": "markdown",
   "metadata": {},
   "source": [
    "**standard error**\n",
    "\n",
    "$SE = \\sqrt{\\frac{\\sigma_1^2}{n_1} + \\frac{\\sigma_2^2}{n_2}}$"
   ]
  },
  {
   "cell_type": "code",
   "execution_count": 219,
   "metadata": {
    "ExecuteTime": {
     "end_time": "2022-01-14T09:10:42.371855Z",
     "start_time": "2022-01-14T09:10:42.357343Z"
    }
   },
   "outputs": [
    {
     "name": "stdout",
     "output_type": "stream",
     "text": [
      "0.758946638440411\n"
     ]
    }
   ],
   "source": [
    "#mu\n",
    "mu = -3\n",
    "\n",
    "#std_dev\n",
    "s = 12\n",
    "\n",
    "#n\n",
    "n = 500\n",
    "\n",
    "# std err\n",
    "std_err = math.sqrt((s**2)/n + (s**2)/n)\n",
    "print(std_err)"
   ]
  },
  {
   "cell_type": "markdown",
   "metadata": {},
   "source": [
    "**margin of error**\n",
    "\n",
    "$z^{\\ast} \\times SE$\n",
    "\n",
    "***effect***\n",
    "\n",
    "$\\mu$"
   ]
  },
  {
   "cell_type": "code",
   "execution_count": 220,
   "metadata": {
    "ExecuteTime": {
     "end_time": "2022-01-14T09:10:42.386827Z",
     "start_time": "2022-01-14T09:10:42.373790Z"
    }
   },
   "outputs": [
    {
     "name": "stdout",
     "output_type": "stream",
     "text": [
      "-1.4875354113432055\n"
     ]
    }
   ],
   "source": [
    "effect = 1.96 * -std_err\n",
    "print(effect)"
   ]
  },
  {
   "cell_type": "markdown",
   "metadata": {},
   "source": [
    "**z-statistic**\n",
    "\n",
    "$z = \\frac{\\bar{x} - \\mu}{SE}$"
   ]
  },
  {
   "cell_type": "code",
   "execution_count": 221,
   "metadata": {
    "ExecuteTime": {
     "end_time": "2022-01-14T09:10:42.401789Z",
     "start_time": "2022-01-14T09:10:42.388824Z"
    }
   },
   "outputs": [
    {
     "name": "stdout",
     "output_type": "stream",
     "text": [
      "1.9928470752104743\n"
     ]
    }
   ],
   "source": [
    "z_stat = (effect -(-3)) / std_err\n",
    "print(z_stat)"
   ]
  },
  {
   "cell_type": "markdown",
   "metadata": {},
   "source": [
    "***statistical power / probability that we'll find the p-value to reject the null hypothesis***"
   ]
  },
  {
   "cell_type": "code",
   "execution_count": 222,
   "metadata": {
    "ExecuteTime": {
     "end_time": "2022-01-14T09:10:42.416982Z",
     "start_time": "2022-01-14T09:10:42.403884Z"
    }
   },
   "outputs": [
    {
     "data": {
      "text/plain": [
       "0.9768609024258484"
      ]
     },
     "execution_count": 222,
     "metadata": {},
     "output_type": "execute_result"
    }
   ],
   "source": [
    "stats.norm.cdf(z_stat)"
   ]
  },
  {
   "cell_type": "code",
   "execution_count": 223,
   "metadata": {
    "ExecuteTime": {
     "end_time": "2022-01-14T09:10:42.431984Z",
     "start_time": "2022-01-14T09:10:42.418985Z"
    }
   },
   "outputs": [
    {
     "data": {
      "text/plain": [
       "0.02313909757415158"
      ]
     },
     "execution_count": 223,
     "metadata": {},
     "output_type": "execute_result"
    }
   ],
   "source": [
    "# p-value\n",
    "stats.norm.sf(z_stat)"
   ]
  },
  {
   "cell_type": "markdown",
   "metadata": {},
   "source": [
    "***calculate sample-size***"
   ]
  },
  {
   "cell_type": "code",
   "execution_count": 224,
   "metadata": {
    "ExecuteTime": {
     "end_time": "2022-01-14T09:10:42.447384Z",
     "start_time": "2022-01-14T09:10:42.433018Z"
    }
   },
   "outputs": [
    {
     "name": "stdout",
     "output_type": "stream",
     "text": [
      "1.9773684281819461\n"
     ]
    }
   ],
   "source": [
    "# for statistical power 97.6%\n",
    "z_stat = stats.norm.ppf(.976)\n",
    "print(z_stat)"
   ]
  },
  {
   "cell_type": "markdown",
   "metadata": {},
   "source": [
    "$1.97 \\times SE + 1.96 \\times SE = 3$\n",
    "\n",
    "$3.93 \\times SE = 3$\n",
    "\n",
    "$SE = \\frac{3}{3.93}$\n",
    "\n",
    "$SE = 0.763$"
   ]
  },
  {
   "cell_type": "markdown",
   "metadata": {},
   "source": [
    "**standard error**\n",
    "\n",
    "$SE = \\sqrt{\\frac{\\sigma_1^2}{n_1} + \\frac{\\sigma_2^2}{n_2}}$\n",
    "\n",
    "$SE^2 = \\frac{\\sigma_1^2}{n_1} + \\frac{\\sigma_2^2}{n_2}$"
   ]
  },
  {
   "cell_type": "code",
   "execution_count": 225,
   "metadata": {
    "ExecuteTime": {
     "end_time": "2022-01-14T09:10:42.462420Z",
     "start_time": "2022-01-14T09:10:42.448385Z"
    }
   },
   "outputs": [
    {
     "name": "stdout",
     "output_type": "stream",
     "text": [
      "494.70171032810055\n"
     ]
    }
   ],
   "source": [
    "n = (s**2/0.763**2) * 2\n",
    "print(n)"
   ]
  }
 ],
 "metadata": {
  "colab": {
   "collapsed_sections": [],
   "name": "5.3 Hypothesis testing for a proportion",
   "provenance": []
  },
  "kernelspec": {
   "display_name": "Python 3 (ipykernel)",
   "language": "python",
   "name": "python3"
  },
  "language_info": {
   "codemirror_mode": {
    "name": "ipython",
    "version": 3
   },
   "file_extension": ".py",
   "mimetype": "text/x-python",
   "name": "python",
   "nbconvert_exporter": "python",
   "pygments_lexer": "ipython3",
   "version": "3.7.9"
  }
 },
 "nbformat": 4,
 "nbformat_minor": 1
}
