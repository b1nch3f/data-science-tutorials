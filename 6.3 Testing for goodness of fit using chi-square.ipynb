{
 "cells": [
  {
   "cell_type": "code",
   "execution_count": 1,
   "metadata": {
    "ExecuteTime": {
     "end_time": "2022-01-09T15:40:12.577416Z",
     "start_time": "2022-01-09T15:40:07.612518Z"
    },
    "id": "2njiu1i6PqH6"
   },
   "outputs": [],
   "source": [
    "import numpy as np\n",
    "import pandas as pd\n",
    "import matplotlib.pyplot as plt\n",
    "import seaborn as sns\n",
    "import math\n",
    "import scipy.stats as stats"
   ]
  },
  {
   "cell_type": "markdown",
   "metadata": {},
   "source": [
    "<h1><center>one-way tables</center></h1>\n",
    "\n",
    "\\begin{array}{ |c|c|c|c|c|c| } \n",
    " \\hline\n",
    " \\text{Race} & \\text{White} & \\text{Black} & \\text{Hispanic} & \\text{Other} & \\text{Total} \\\\\n",
    " \\hline\n",
    " \\text{Representation in juries} & 205 & 26 & 25 & 19 & 275 \\\\\n",
    " \\hline\n",
    " \\text{Registered voters} & 0.72 & 0.07 & 0.12 & 0.09 & 1.00 \\\\\n",
    " \\hline\n",
    "\\end{array}"
   ]
  },
  {
   "cell_type": "markdown",
   "metadata": {},
   "source": [
    "**Hypothesis**\n",
    "\n",
    "$H_o: \\text{The questions had no impact on the sellers in the experiment}\\\\$\n",
    "$H_A: \\text{The questions had impact on the sellers in the experiment}$"
   ]
  },
  {
   "cell_type": "markdown",
   "metadata": {},
   "source": [
    "**CHI-SQUARE TEST FOR ONE-WAY TABLE**\n",
    "\n",
    "$X^2 = \\frac{(O_1 - E_1)^2}{E_1} + \\frac{(O_2 - E_2)^2}{E_2} + ... + \\frac{(O_k - E_k)^2}{E_k}$"
   ]
  },
  {
   "cell_type": "markdown",
   "metadata": {},
   "source": [
    "**CONDITIONS FOR THE CHI-SQUARE TEST**\n",
    "\n",
    "1. Independence\n",
    "2. $E_k \\ge 5$"
   ]
  },
  {
   "cell_type": "code",
   "execution_count": 2,
   "metadata": {
    "ExecuteTime": {
     "end_time": "2022-01-09T15:40:12.592954Z",
     "start_time": "2022-01-09T15:40:12.577416Z"
    }
   },
   "outputs": [],
   "source": [
    "f_obs = [205, 26, 25, 19]"
   ]
  },
  {
   "cell_type": "code",
   "execution_count": 3,
   "metadata": {
    "ExecuteTime": {
     "end_time": "2022-01-09T15:40:12.608577Z",
     "start_time": "2022-01-09T15:40:12.592954Z"
    }
   },
   "outputs": [],
   "source": [
    "f_exp=[198, 19.25, 33, 24.75]"
   ]
  },
  {
   "cell_type": "code",
   "execution_count": 4,
   "metadata": {
    "ExecuteTime": {
     "end_time": "2022-01-09T15:40:12.622602Z",
     "start_time": "2022-01-09T15:40:12.608577Z"
    }
   },
   "outputs": [
    {
     "data": {
      "text/plain": [
       "Power_divergenceResult(statistic=5.8896103896103895, pvalue=nan)"
      ]
     },
     "execution_count": 4,
     "metadata": {},
     "output_type": "execute_result"
    }
   ],
   "source": [
    "stats.chisquare(f_obs, f_exp, ddof=3)"
   ]
  },
  {
   "cell_type": "code",
   "execution_count": 5,
   "metadata": {
    "ExecuteTime": {
     "end_time": "2022-01-09T15:40:12.649533Z",
     "start_time": "2022-01-09T15:40:12.622602Z"
    }
   },
   "outputs": [
    {
     "data": {
      "text/plain": [
       "0.1170863469934531"
      ]
     },
     "execution_count": 5,
     "metadata": {},
     "output_type": "execute_result"
    }
   ],
   "source": [
    "1 - stats.chi2.cdf(5.89, 3)"
   ]
  },
  {
   "cell_type": "code",
   "execution_count": null,
   "metadata": {},
   "outputs": [],
   "source": []
  }
 ],
 "metadata": {
  "colab": {
   "collapsed_sections": [],
   "name": "5.3 Hypothesis testing for a proportion",
   "provenance": []
  },
  "kernelspec": {
   "display_name": "Python 3 (ipykernel)",
   "language": "python",
   "name": "python3"
  },
  "language_info": {
   "codemirror_mode": {
    "name": "ipython",
    "version": 3
   },
   "file_extension": ".py",
   "mimetype": "text/x-python",
   "name": "python",
   "nbconvert_exporter": "python",
   "pygments_lexer": "ipython3",
   "version": "3.7.9"
  }
 },
 "nbformat": 4,
 "nbformat_minor": 1
}
