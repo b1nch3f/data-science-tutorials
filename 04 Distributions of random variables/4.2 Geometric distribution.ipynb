{
 "cells": [
  {
   "attachments": {
    "geometric.png": {
     "image/png": "[encoded data removed]"
    }
   },
   "cell_type": "markdown",
   "metadata": {},
   "source": [
    "![geometric.png](attachment:geometric.png)"
   ]
  },
  {
   "cell_type": "markdown",
   "metadata": {},
   "source": [
    "### Finding 1st success on nth trial\n",
    "$(1 - p)^{n-1}p$"
   ]
  },
  {
   "cell_type": "markdown",
   "metadata": {},
   "source": [
    "#### Expected value\n",
    "\n",
    "$\\mu = \\frac{1}{p}$\n",
    "\n",
    "#### Variance\n",
    "\n",
    "$\\sigma^2 = \\frac{1 - p}{p^2}$\n",
    "\n",
    "#### Standard deviation\n",
    "\n",
    "$\\sigma = \\sqrt{\\frac{1 - p}{p^2}}$"
   ]
  },
  {
   "cell_type": "code",
   "execution_count": null,
   "metadata": {},
   "outputs": [],
   "source": []
  }
 ],
 "metadata": {
  "accelerator": "GPU",
  "colab": {
   "name": "1.2 Data basics notebook",
   "private_outputs": true,
   "provenance": []
  },
  "kernelspec": {
   "display_name": "Python 3 (ipykernel)",
   "language": "python",
   "name": "python3"
  },
  "language_info": {
   "codemirror_mode": {
    "name": "ipython",
    "version": 3
   },
   "file_extension": ".py",
   "mimetype": "text/x-python",
   "name": "python",
   "nbconvert_exporter": "python",
   "pygments_lexer": "ipython3",
   "version": "3.7.9"
  }
 },
 "nbformat": 4,
 "nbformat_minor": 1
}
