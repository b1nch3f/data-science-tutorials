{
 "cells": [
  {
   "cell_type": "code",
   "execution_count": 59,
   "id": "3012f222",
   "metadata": {
    "ExecuteTime": {
     "end_time": "2022-01-21T16:04:30.261335Z",
     "start_time": "2022-01-21T16:04:30.243338Z"
    }
   },
   "outputs": [],
   "source": [
    "import numpy as np\n",
    "import pandas as pd\n",
    "import matplotlib.pyplot as plt\n",
    "import seaborn as sns\n",
    "import statsmodels.formula.api as sm"
   ]
  },
  {
   "cell_type": "code",
   "execution_count": 60,
   "id": "39c3fc12",
   "metadata": {
    "ExecuteTime": {
     "end_time": "2022-01-21T16:04:30.336498Z",
     "start_time": "2022-01-21T16:04:30.263340Z"
    }
   },
   "outputs": [],
   "source": [
    "df = pd.read_csv('../data/loans_full_schema.csv')"
   ]
  },
  {
   "cell_type": "code",
   "execution_count": 61,
   "id": "0cf9bb6e",
   "metadata": {
    "ExecuteTime": {
     "end_time": "2022-01-21T16:04:30.366442Z",
     "start_time": "2022-01-21T16:04:30.337442Z"
    }
   },
   "outputs": [
    {
     "data": {
      "text/html": [
       "<div>\n",
       "<style scoped>\n",
       "    .dataframe tbody tr th:only-of-type {\n",
       "        vertical-align: middle;\n",
       "    }\n",
       "\n",
       "    .dataframe tbody tr th {\n",
       "        vertical-align: top;\n",
       "    }\n",
       "\n",
       "    .dataframe thead th {\n",
       "        text-align: right;\n",
       "    }\n",
       "</style>\n",
       "<table border=\"1\" class=\"dataframe\">\n",
       "  <thead>\n",
       "    <tr style=\"text-align: right;\">\n",
       "      <th></th>\n",
       "      <th>emp_title</th>\n",
       "      <th>emp_length</th>\n",
       "      <th>state</th>\n",
       "      <th>homeownership</th>\n",
       "      <th>annual_income</th>\n",
       "      <th>verified_income</th>\n",
       "      <th>debt_to_income</th>\n",
       "      <th>annual_income_joint</th>\n",
       "      <th>verification_income_joint</th>\n",
       "      <th>debt_to_income_joint</th>\n",
       "      <th>...</th>\n",
       "      <th>sub_grade</th>\n",
       "      <th>issue_month</th>\n",
       "      <th>loan_status</th>\n",
       "      <th>initial_listing_status</th>\n",
       "      <th>disbursement_method</th>\n",
       "      <th>balance</th>\n",
       "      <th>paid_total</th>\n",
       "      <th>paid_principal</th>\n",
       "      <th>paid_interest</th>\n",
       "      <th>paid_late_fees</th>\n",
       "    </tr>\n",
       "  </thead>\n",
       "  <tbody>\n",
       "    <tr>\n",
       "      <th>0</th>\n",
       "      <td>global config engineer</td>\n",
       "      <td>3.0</td>\n",
       "      <td>NJ</td>\n",
       "      <td>MORTGAGE</td>\n",
       "      <td>90000.0</td>\n",
       "      <td>Verified</td>\n",
       "      <td>18.01</td>\n",
       "      <td>NaN</td>\n",
       "      <td>NaN</td>\n",
       "      <td>NaN</td>\n",
       "      <td>...</td>\n",
       "      <td>C3</td>\n",
       "      <td>Mar-2018</td>\n",
       "      <td>Current</td>\n",
       "      <td>whole</td>\n",
       "      <td>Cash</td>\n",
       "      <td>27015.86</td>\n",
       "      <td>1999.33</td>\n",
       "      <td>984.14</td>\n",
       "      <td>1015.19</td>\n",
       "      <td>0.0</td>\n",
       "    </tr>\n",
       "    <tr>\n",
       "      <th>1</th>\n",
       "      <td>warehouse office clerk</td>\n",
       "      <td>10.0</td>\n",
       "      <td>HI</td>\n",
       "      <td>RENT</td>\n",
       "      <td>40000.0</td>\n",
       "      <td>Not Verified</td>\n",
       "      <td>5.04</td>\n",
       "      <td>NaN</td>\n",
       "      <td>NaN</td>\n",
       "      <td>NaN</td>\n",
       "      <td>...</td>\n",
       "      <td>C1</td>\n",
       "      <td>Feb-2018</td>\n",
       "      <td>Current</td>\n",
       "      <td>whole</td>\n",
       "      <td>Cash</td>\n",
       "      <td>4651.37</td>\n",
       "      <td>499.12</td>\n",
       "      <td>348.63</td>\n",
       "      <td>150.49</td>\n",
       "      <td>0.0</td>\n",
       "    </tr>\n",
       "    <tr>\n",
       "      <th>2</th>\n",
       "      <td>assembly</td>\n",
       "      <td>3.0</td>\n",
       "      <td>WI</td>\n",
       "      <td>RENT</td>\n",
       "      <td>40000.0</td>\n",
       "      <td>Source Verified</td>\n",
       "      <td>21.15</td>\n",
       "      <td>NaN</td>\n",
       "      <td>NaN</td>\n",
       "      <td>NaN</td>\n",
       "      <td>...</td>\n",
       "      <td>D1</td>\n",
       "      <td>Feb-2018</td>\n",
       "      <td>Current</td>\n",
       "      <td>fractional</td>\n",
       "      <td>Cash</td>\n",
       "      <td>1824.63</td>\n",
       "      <td>281.80</td>\n",
       "      <td>175.37</td>\n",
       "      <td>106.43</td>\n",
       "      <td>0.0</td>\n",
       "    </tr>\n",
       "    <tr>\n",
       "      <th>3</th>\n",
       "      <td>customer service</td>\n",
       "      <td>1.0</td>\n",
       "      <td>PA</td>\n",
       "      <td>RENT</td>\n",
       "      <td>30000.0</td>\n",
       "      <td>Not Verified</td>\n",
       "      <td>10.16</td>\n",
       "      <td>NaN</td>\n",
       "      <td>NaN</td>\n",
       "      <td>NaN</td>\n",
       "      <td>...</td>\n",
       "      <td>A3</td>\n",
       "      <td>Jan-2018</td>\n",
       "      <td>Current</td>\n",
       "      <td>whole</td>\n",
       "      <td>Cash</td>\n",
       "      <td>18853.26</td>\n",
       "      <td>3312.89</td>\n",
       "      <td>2746.74</td>\n",
       "      <td>566.15</td>\n",
       "      <td>0.0</td>\n",
       "    </tr>\n",
       "    <tr>\n",
       "      <th>4</th>\n",
       "      <td>security supervisor</td>\n",
       "      <td>10.0</td>\n",
       "      <td>CA</td>\n",
       "      <td>RENT</td>\n",
       "      <td>35000.0</td>\n",
       "      <td>Verified</td>\n",
       "      <td>57.96</td>\n",
       "      <td>57000.0</td>\n",
       "      <td>Verified</td>\n",
       "      <td>37.66</td>\n",
       "      <td>...</td>\n",
       "      <td>C3</td>\n",
       "      <td>Mar-2018</td>\n",
       "      <td>Current</td>\n",
       "      <td>whole</td>\n",
       "      <td>Cash</td>\n",
       "      <td>21430.15</td>\n",
       "      <td>2324.65</td>\n",
       "      <td>1569.85</td>\n",
       "      <td>754.80</td>\n",
       "      <td>0.0</td>\n",
       "    </tr>\n",
       "  </tbody>\n",
       "</table>\n",
       "<p>5 rows × 55 columns</p>\n",
       "</div>"
      ],
      "text/plain": [
       "                 emp_title  emp_length state homeownership  annual_income  \\\n",
       "0  global config engineer          3.0    NJ      MORTGAGE        90000.0   \n",
       "1   warehouse office clerk        10.0    HI          RENT        40000.0   \n",
       "2                 assembly         3.0    WI          RENT        40000.0   \n",
       "3         customer service         1.0    PA          RENT        30000.0   \n",
       "4     security supervisor         10.0    CA          RENT        35000.0   \n",
       "\n",
       "   verified_income  debt_to_income  annual_income_joint  \\\n",
       "0         Verified           18.01                  NaN   \n",
       "1     Not Verified            5.04                  NaN   \n",
       "2  Source Verified           21.15                  NaN   \n",
       "3     Not Verified           10.16                  NaN   \n",
       "4         Verified           57.96              57000.0   \n",
       "\n",
       "  verification_income_joint  debt_to_income_joint  ...  sub_grade  \\\n",
       "0                       NaN                   NaN  ...         C3   \n",
       "1                       NaN                   NaN  ...         C1   \n",
       "2                       NaN                   NaN  ...         D1   \n",
       "3                       NaN                   NaN  ...         A3   \n",
       "4                  Verified                 37.66  ...         C3   \n",
       "\n",
       "   issue_month  loan_status  initial_listing_status  disbursement_method  \\\n",
       "0     Mar-2018      Current                   whole                 Cash   \n",
       "1     Feb-2018      Current                   whole                 Cash   \n",
       "2     Feb-2018      Current              fractional                 Cash   \n",
       "3     Jan-2018      Current                   whole                 Cash   \n",
       "4     Mar-2018      Current                   whole                 Cash   \n",
       "\n",
       "    balance  paid_total  paid_principal  paid_interest  paid_late_fees  \n",
       "0  27015.86     1999.33          984.14        1015.19             0.0  \n",
       "1   4651.37      499.12          348.63         150.49             0.0  \n",
       "2   1824.63      281.80          175.37         106.43             0.0  \n",
       "3  18853.26     3312.89         2746.74         566.15             0.0  \n",
       "4  21430.15     2324.65         1569.85         754.80             0.0  \n",
       "\n",
       "[5 rows x 55 columns]"
      ]
     },
     "execution_count": 61,
     "metadata": {},
     "output_type": "execute_result"
    }
   ],
   "source": [
    "df.head()"
   ]
  },
  {
   "cell_type": "code",
   "execution_count": 62,
   "id": "0525d4f6",
   "metadata": {
    "ExecuteTime": {
     "end_time": "2022-01-21T16:04:30.396505Z",
     "start_time": "2022-01-21T16:04:30.369443Z"
    }
   },
   "outputs": [
    {
     "name": "stdout",
     "output_type": "stream",
     "text": [
      "<class 'pandas.core.frame.DataFrame'>\n",
      "RangeIndex: 10000 entries, 0 to 9999\n",
      "Data columns (total 55 columns):\n",
      " #   Column                            Non-Null Count  Dtype  \n",
      "---  ------                            --------------  -----  \n",
      " 0   emp_title                         9167 non-null   object \n",
      " 1   emp_length                        9183 non-null   float64\n",
      " 2   state                             10000 non-null  object \n",
      " 3   homeownership                     10000 non-null  object \n",
      " 4   annual_income                     10000 non-null  float64\n",
      " 5   verified_income                   10000 non-null  object \n",
      " 6   debt_to_income                    9976 non-null   float64\n",
      " 7   annual_income_joint               1495 non-null   float64\n",
      " 8   verification_income_joint         1455 non-null   object \n",
      " 9   debt_to_income_joint              1495 non-null   float64\n",
      " 10  delinq_2y                         10000 non-null  int64  \n",
      " 11  months_since_last_delinq          4342 non-null   float64\n",
      " 12  earliest_credit_line              10000 non-null  int64  \n",
      " 13  inquiries_last_12m                10000 non-null  int64  \n",
      " 14  total_credit_lines                10000 non-null  int64  \n",
      " 15  open_credit_lines                 10000 non-null  int64  \n",
      " 16  total_credit_limit                10000 non-null  int64  \n",
      " 17  total_credit_utilized             10000 non-null  int64  \n",
      " 18  num_collections_last_12m          10000 non-null  int64  \n",
      " 19  num_historical_failed_to_pay      10000 non-null  int64  \n",
      " 20  months_since_90d_late             2285 non-null   float64\n",
      " 21  current_accounts_delinq           10000 non-null  int64  \n",
      " 22  total_collection_amount_ever      10000 non-null  int64  \n",
      " 23  current_installment_accounts      10000 non-null  int64  \n",
      " 24  accounts_opened_24m               10000 non-null  int64  \n",
      " 25  months_since_last_credit_inquiry  8729 non-null   float64\n",
      " 26  num_satisfactory_accounts         10000 non-null  int64  \n",
      " 27  num_accounts_120d_past_due        9682 non-null   float64\n",
      " 28  num_accounts_30d_past_due         10000 non-null  int64  \n",
      " 29  num_active_debit_accounts         10000 non-null  int64  \n",
      " 30  total_debit_limit                 10000 non-null  int64  \n",
      " 31  num_total_cc_accounts             10000 non-null  int64  \n",
      " 32  num_open_cc_accounts              10000 non-null  int64  \n",
      " 33  num_cc_carrying_balance           10000 non-null  int64  \n",
      " 34  num_mort_accounts                 10000 non-null  int64  \n",
      " 35  account_never_delinq_percent      10000 non-null  float64\n",
      " 36  tax_liens                         10000 non-null  int64  \n",
      " 37  public_record_bankrupt            10000 non-null  int64  \n",
      " 38  loan_purpose                      10000 non-null  object \n",
      " 39  application_type                  10000 non-null  object \n",
      " 40  loan_amount                       10000 non-null  int64  \n",
      " 41  term                              10000 non-null  int64  \n",
      " 42  interest_rate                     10000 non-null  float64\n",
      " 43  installment                       10000 non-null  float64\n",
      " 44  grade                             10000 non-null  object \n",
      " 45  sub_grade                         10000 non-null  object \n",
      " 46  issue_month                       10000 non-null  object \n",
      " 47  loan_status                       10000 non-null  object \n",
      " 48  initial_listing_status            10000 non-null  object \n",
      " 49  disbursement_method               10000 non-null  object \n",
      " 50  balance                           10000 non-null  float64\n",
      " 51  paid_total                        10000 non-null  float64\n",
      " 52  paid_principal                    10000 non-null  float64\n",
      " 53  paid_interest                     10000 non-null  float64\n",
      " 54  paid_late_fees                    10000 non-null  float64\n",
      "dtypes: float64(17), int64(25), object(13)\n",
      "memory usage: 4.2+ MB\n"
     ]
    }
   ],
   "source": [
    "df.info()"
   ]
  },
  {
   "cell_type": "code",
   "execution_count": 63,
   "id": "47ff56ff",
   "metadata": {
    "ExecuteTime": {
     "end_time": "2022-01-21T16:04:30.532247Z",
     "start_time": "2022-01-21T16:04:30.397443Z"
    }
   },
   "outputs": [
    {
     "data": {
      "text/plain": [
       "<AxesSubplot:xlabel='public_record_bankrupt', ylabel='interest_rate'>"
      ]
     },
     "execution_count": 63,
     "metadata": {},
     "output_type": "execute_result"
    },
    {
     "data": {
      "image/png": "[encoded data removed]",
      "text/plain": [
       "<Figure size 864x576 with 1 Axes>"
      ]
     },
     "metadata": {
      "needs_background": "light"
     },
     "output_type": "display_data"
    }
   ],
   "source": [
    "plt.figure(figsize = (12,8))\n",
    "sns.scatterplot(data=df, x=\"public_record_bankrupt\", y=\"interest_rate\")"
   ]
  },
  {
   "cell_type": "code",
   "execution_count": 64,
   "id": "5e2f599c",
   "metadata": {
    "ExecuteTime": {
     "end_time": "2022-01-21T16:04:30.547319Z",
     "start_time": "2022-01-21T16:04:30.534271Z"
    }
   },
   "outputs": [
    {
     "data": {
      "text/plain": [
       "array([0, 1, 2, 3], dtype=int64)"
      ]
     },
     "execution_count": 64,
     "metadata": {},
     "output_type": "execute_result"
    }
   ],
   "source": [
    "np.unique(df['public_record_bankrupt'])"
   ]
  },
  {
   "cell_type": "code",
   "execution_count": 65,
   "id": "7424d1b9",
   "metadata": {
    "ExecuteTime": {
     "end_time": "2022-01-21T16:04:30.637086Z",
     "start_time": "2022-01-21T16:04:30.549192Z"
    }
   },
   "outputs": [
    {
     "data": {
      "text/plain": [
       "<AxesSubplot:xlabel='public_record_bankrupt', ylabel='count'>"
      ]
     },
     "execution_count": 65,
     "metadata": {},
     "output_type": "execute_result"
    },
    {
     "data": {
      "image/png": "[encoded data removed]",
      "text/plain": [
       "<Figure size 864x576 with 1 Axes>"
      ]
     },
     "metadata": {
      "needs_background": "light"
     },
     "output_type": "display_data"
    }
   ],
   "source": [
    "plt.figure(figsize = (12,8))\n",
    "sns.countplot(x=\"public_record_bankrupt\", data=df)"
   ]
  },
  {
   "cell_type": "code",
   "execution_count": 66,
   "id": "2a2c17e2",
   "metadata": {
    "ExecuteTime": {
     "end_time": "2022-01-21T16:04:30.652124Z",
     "start_time": "2022-01-21T16:04:30.639087Z"
    }
   },
   "outputs": [],
   "source": [
    "mod = sm.ols('interest_rate ~ public_record_bankrupt', data=df)"
   ]
  },
  {
   "cell_type": "code",
   "execution_count": 67,
   "id": "15619730",
   "metadata": {
    "ExecuteTime": {
     "end_time": "2022-01-21T16:04:30.667086Z",
     "start_time": "2022-01-21T16:04:30.653090Z"
    }
   },
   "outputs": [
    {
     "name": "stdout",
     "output_type": "stream",
     "text": [
      "                            OLS Regression Results                            \n",
      "==============================================================================\n",
      "Dep. Variable:          interest_rate   R-squared:                       0.002\n",
      "Model:                            OLS   Adj. R-squared:                  0.002\n",
      "Method:                 Least Squares   F-statistic:                     22.59\n",
      "Date:                Fri, 21 Jan 2022   Prob (F-statistic):           2.04e-06\n",
      "Time:                        21:34:30   Log-Likelihood:                -30274.\n",
      "No. Observations:               10000   AIC:                         6.055e+04\n",
      "Df Residuals:                    9998   BIC:                         6.057e+04\n",
      "Df Model:                           1                                         \n",
      "Covariance Type:            nonrobust                                         \n",
      "==========================================================================================\n",
      "                             coef    std err          t      P>|t|      [0.025      0.975]\n",
      "------------------------------------------------------------------------------------------\n",
      "Intercept                 12.3403      0.053    231.881      0.000      12.236      12.445\n",
      "public_record_bankrupt     0.7042      0.148      4.753      0.000       0.414       0.995\n",
      "==============================================================================\n",
      "Omnibus:                     1043.232   Durbin-Watson:                   1.992\n",
      "Prob(Omnibus):                  0.000   Jarque-Bera (JB):             1402.872\n",
      "Skew:                           0.868   Prob(JB):                    2.35e-305\n",
      "Kurtosis:                       3.595   Cond. No.                         3.02\n",
      "==============================================================================\n",
      "\n",
      "Notes:\n",
      "[1] Standard Errors assume that the covariance matrix of the errors is correctly specified.\n"
     ]
    }
   ],
   "source": [
    "res = mod.fit()\n",
    "print(res.summary())"
   ]
  },
  {
   "cell_type": "code",
   "execution_count": 68,
   "id": "ee450ceb",
   "metadata": {
    "ExecuteTime": {
     "end_time": "2022-01-21T16:04:30.682128Z",
     "start_time": "2022-01-21T16:04:30.670088Z"
    }
   },
   "outputs": [
    {
     "name": "stdout",
     "output_type": "stream",
     "text": [
      "Intercept                 12.340344\n",
      "public_record_bankrupt     0.704197\n",
      "dtype: float64\n"
     ]
    }
   ],
   "source": [
    "print(res.params)"
   ]
  },
  {
   "cell_type": "code",
   "execution_count": 69,
   "id": "29243168",
   "metadata": {
    "ExecuteTime": {
     "end_time": "2022-01-21T16:04:30.697120Z",
     "start_time": "2022-01-21T16:04:30.683088Z"
    }
   },
   "outputs": [
    {
     "name": "stdout",
     "output_type": "stream",
     "text": [
      "12.340344467086297\n"
     ]
    }
   ],
   "source": [
    "b0_val = res.params['Intercept']\n",
    "print(b0_val)"
   ]
  },
  {
   "cell_type": "code",
   "execution_count": 70,
   "id": "41f739ba",
   "metadata": {
    "ExecuteTime": {
     "end_time": "2022-01-21T16:04:30.712087Z",
     "start_time": "2022-01-21T16:04:30.698089Z"
    }
   },
   "outputs": [
    {
     "name": "stdout",
     "output_type": "stream",
     "text": [
      "0.704196550191649\n"
     ]
    }
   ],
   "source": [
    "b1_val = res.params['public_record_bankrupt']\n",
    "print(b1_val)"
   ]
  },
  {
   "cell_type": "code",
   "execution_count": 71,
   "id": "4d8c1b00",
   "metadata": {
    "ExecuteTime": {
     "end_time": "2022-01-21T16:04:30.727088Z",
     "start_time": "2022-01-21T16:04:30.714089Z"
    }
   },
   "outputs": [
    {
     "name": "stdout",
     "output_type": "stream",
     "text": [
      "R2:  0.0022540251330832595\n"
     ]
    }
   ],
   "source": [
    "print(\"R2: \", res.rsquared)"
   ]
  },
  {
   "cell_type": "code",
   "execution_count": 72,
   "id": "e80a496d",
   "metadata": {
    "ExecuteTime": {
     "end_time": "2022-01-21T16:04:30.862105Z",
     "start_time": "2022-01-21T16:04:30.729087Z"
    }
   },
   "outputs": [
    {
     "data": {
      "image/png": "[encoded data removed]",
      "text/plain": [
       "<Figure size 864x576 with 1 Axes>"
      ]
     },
     "metadata": {
      "needs_background": "light"
     },
     "output_type": "display_data"
    }
   ],
   "source": [
    "plt.figure(figsize = (12,8))\n",
    "\n",
    "x = np.array(df['public_record_bankrupt'])\n",
    "y = np.array(df['interest_rate'])\n",
    "             \n",
    "plt.plot(x, y, 'o')\n",
    "\n",
    "plt.plot(x, b1_val * x + b0_val)\n",
    "\n",
    "plt.xlabel(\"Interest Rate\")\n",
    "plt.ylabel(\"Public Record Bankrupt\")\n",
    "\n",
    "plt.show()"
   ]
  },
  {
   "cell_type": "code",
   "execution_count": 73,
   "id": "db06c2c0",
   "metadata": {
    "ExecuteTime": {
     "end_time": "2022-01-21T16:04:30.877123Z",
     "start_time": "2022-01-21T16:04:30.864093Z"
    }
   },
   "outputs": [
    {
     "data": {
      "text/plain": [
       "array(['Not Verified', 'Source Verified', 'Verified'], dtype=object)"
      ]
     },
     "execution_count": 73,
     "metadata": {},
     "output_type": "execute_result"
    }
   ],
   "source": [
    "np.unique(df['verified_income'])"
   ]
  },
  {
   "cell_type": "code",
   "execution_count": 74,
   "id": "296ccb7b",
   "metadata": {
    "ExecuteTime": {
     "end_time": "2022-01-21T16:04:30.932559Z",
     "start_time": "2022-01-21T16:04:30.879089Z"
    }
   },
   "outputs": [],
   "source": [
    "mod = sm.ols('interest_rate ~ verified_income', data=df)"
   ]
  },
  {
   "cell_type": "code",
   "execution_count": 75,
   "id": "284f0f19",
   "metadata": {
    "ExecuteTime": {
     "end_time": "2022-01-21T16:04:30.947536Z",
     "start_time": "2022-01-21T16:04:30.934472Z"
    }
   },
   "outputs": [
    {
     "name": "stdout",
     "output_type": "stream",
     "text": [
      "                            OLS Regression Results                            \n",
      "==============================================================================\n",
      "Dep. Variable:          interest_rate   R-squared:                       0.059\n",
      "Model:                            OLS   Adj. R-squared:                  0.059\n",
      "Method:                 Least Squares   F-statistic:                     315.9\n",
      "Date:                Fri, 21 Jan 2022   Prob (F-statistic):          8.92e-134\n",
      "Time:                        21:34:30   Log-Likelihood:                -29979.\n",
      "No. Observations:               10000   AIC:                         5.996e+04\n",
      "Df Residuals:                    9997   BIC:                         5.999e+04\n",
      "Df Model:                           2                                         \n",
      "Covariance Type:            nonrobust                                         \n",
      "======================================================================================================\n",
      "                                         coef    std err          t      P>|t|      [0.025      0.975]\n",
      "------------------------------------------------------------------------------------------------------\n",
      "Intercept                             11.0995      0.081    137.180      0.000      10.941      11.258\n",
      "verified_income[T.Source Verified]     1.4160      0.111     12.787      0.000       1.199       1.633\n",
      "verified_income[T.Verified]            3.2543      0.130     25.091      0.000       3.000       3.509\n",
      "==============================================================================\n",
      "Omnibus:                     1006.206   Durbin-Watson:                   1.993\n",
      "Prob(Omnibus):                  0.000   Jarque-Bera (JB):             1353.013\n",
      "Skew:                           0.834   Prob(JB):                    1.57e-294\n",
      "Kurtosis:                       3.681   Cond. No.                         3.71\n",
      "==============================================================================\n",
      "\n",
      "Notes:\n",
      "[1] Standard Errors assume that the covariance matrix of the errors is correctly specified.\n"
     ]
    }
   ],
   "source": [
    "res = mod.fit()\n",
    "print(res.summary())"
   ]
  },
  {
   "cell_type": "markdown",
   "id": "9a31971e",
   "metadata": {},
   "source": [
    "### Reference Level\n",
    "- When we fit a Categorial variable with k Levels, the software provided coefficients for (k-1) Levels"
   ]
  },
  {
   "cell_type": "code",
   "execution_count": 76,
   "id": "c6912ed2",
   "metadata": {
    "ExecuteTime": {
     "end_time": "2022-01-21T16:04:30.962473Z",
     "start_time": "2022-01-21T16:04:30.948475Z"
    }
   },
   "outputs": [
    {
     "name": "stdout",
     "output_type": "stream",
     "text": [
      "Intercept                             11.099457\n",
      "verified_income[T.Source Verified]     1.416021\n",
      "verified_income[T.Verified]            3.254289\n",
      "dtype: float64\n"
     ]
    }
   ],
   "source": [
    "print(res.params)"
   ]
  },
  {
   "cell_type": "code",
   "execution_count": 77,
   "id": "e316f389",
   "metadata": {
    "ExecuteTime": {
     "end_time": "2022-01-21T16:04:30.977508Z",
     "start_time": "2022-01-21T16:04:30.964473Z"
    }
   },
   "outputs": [
    {
     "name": "stdout",
     "output_type": "stream",
     "text": [
      "11.099457429048426\n"
     ]
    }
   ],
   "source": [
    "b0_val = res.params['Intercept']\n",
    "print(b0_val)"
   ]
  },
  {
   "cell_type": "code",
   "execution_count": 78,
   "id": "8defc849",
   "metadata": {
    "ExecuteTime": {
     "end_time": "2022-01-21T16:04:30.992497Z",
     "start_time": "2022-01-21T16:04:30.979476Z"
    }
   },
   "outputs": [
    {
     "name": "stdout",
     "output_type": "stream",
     "text": [
      "R2:  0.05944952137763426\n"
     ]
    }
   ],
   "source": [
    "print(\"R2: \", res.rsquared)"
   ]
  },
  {
   "cell_type": "markdown",
   "id": "5a62efa2",
   "metadata": {},
   "source": [
    "### Multiple Linear Regression Equation"
   ]
  },
  {
   "cell_type": "markdown",
   "id": "ad9d11c0",
   "metadata": {},
   "source": [
    "$\\hat y = \\beta_0 + \\beta_1x_1 + \\beta_2x_2 +...+ \\beta_nx_n$"
   ]
  },
  {
   "cell_type": "code",
   "execution_count": 79,
   "id": "8fe42ee3",
   "metadata": {
    "ExecuteTime": {
     "end_time": "2022-01-21T16:04:31.007471Z",
     "start_time": "2022-01-21T16:04:30.993474Z"
    }
   },
   "outputs": [
    {
     "name": "stdout",
     "output_type": "stream",
     "text": [
      "1.4160211909711065\n"
     ]
    }
   ],
   "source": [
    "b1_val = res.params['verified_income[T.Source Verified]']\n",
    "print(b1_val)"
   ]
  },
  {
   "cell_type": "code",
   "execution_count": 80,
   "id": "2444df25",
   "metadata": {
    "ExecuteTime": {
     "end_time": "2022-01-21T16:04:31.022496Z",
     "start_time": "2022-01-21T16:04:31.008471Z"
    }
   },
   "outputs": [
    {
     "name": "stdout",
     "output_type": "stream",
     "text": [
      "3.2542892958424696\n"
     ]
    }
   ],
   "source": [
    "b2_val = res.params['verified_income[T.Verified]']\n",
    "print(b2_val)"
   ]
  },
  {
   "cell_type": "markdown",
   "id": "ec9b4f0b",
   "metadata": {},
   "source": [
    "### One Prediction"
   ]
  },
  {
   "cell_type": "code",
   "execution_count": 81,
   "id": "11f84db3",
   "metadata": {
    "ExecuteTime": {
     "end_time": "2022-01-21T16:04:31.037472Z",
     "start_time": "2022-01-21T16:04:31.024472Z"
    }
   },
   "outputs": [
    {
     "name": "stdout",
     "output_type": "stream",
     "text": [
      "15.769767915862001\n"
     ]
    }
   ],
   "source": [
    "# Income and Income Source are Verified\n",
    "y_pred = b0_val + b1_val * 1 + b2_val * 1\n",
    "print(y_pred)"
   ]
  },
  {
   "cell_type": "code",
   "execution_count": 82,
   "id": "7acc3d13",
   "metadata": {
    "ExecuteTime": {
     "end_time": "2022-01-21T16:04:31.052473Z",
     "start_time": "2022-01-21T16:04:31.038475Z"
    }
   },
   "outputs": [
    {
     "name": "stdout",
     "output_type": "stream",
     "text": [
      "11.099457429048426\n"
     ]
    }
   ],
   "source": [
    "# both Income and Income Source are Not Verified\n",
    "y_pred = b0_val + b1_val * 0 + b2_val * 0\n",
    "print(y_pred)"
   ]
  },
  {
   "cell_type": "code",
   "execution_count": 83,
   "id": "1726a97c",
   "metadata": {
    "ExecuteTime": {
     "end_time": "2022-01-21T16:04:31.067475Z",
     "start_time": "2022-01-21T16:04:31.054472Z"
    }
   },
   "outputs": [
    {
     "name": "stdout",
     "output_type": "stream",
     "text": [
      "12.515478620019532\n"
     ]
    }
   ],
   "source": [
    "# Income Source is Verified\n",
    "y_pred = b0_val + b1_val * 1 + b2_val * 0\n",
    "print(y_pred)"
   ]
  },
  {
   "cell_type": "code",
   "execution_count": 84,
   "id": "9ab6d721",
   "metadata": {
    "ExecuteTime": {
     "end_time": "2022-01-21T16:04:31.082536Z",
     "start_time": "2022-01-21T16:04:31.069479Z"
    }
   },
   "outputs": [
    {
     "name": "stdout",
     "output_type": "stream",
     "text": [
      "14.353746724890897\n"
     ]
    }
   ],
   "source": [
    "# Income is Verified\n",
    "y_pred = b0_val + b1_val * 0 + b2_val * 1\n",
    "print(y_pred)"
   ]
  },
  {
   "cell_type": "markdown",
   "id": "2fb7ea39",
   "metadata": {},
   "source": [
    "### But why the Interest Rate is higher for Income Verified?\n",
    "- Poor Credit?\n",
    "\n",
    "#### The riskier the loan the higher the interest rate"
   ]
  },
  {
   "cell_type": "markdown",
   "id": "0acc4f41",
   "metadata": {},
   "source": [
    "### Including and assessing many variables in a model"
   ]
  },
  {
   "cell_type": "code",
   "execution_count": 85,
   "id": "ca7b9f2b",
   "metadata": {
    "ExecuteTime": {
     "end_time": "2022-01-21T16:04:31.097537Z",
     "start_time": "2022-01-21T16:04:31.083471Z"
    }
   },
   "outputs": [
    {
     "data": {
      "text/plain": [
       "'\\nverified_income\\npublic_record_bankrupt\\ndebt_to_income\\npublic_record_bankrupt\\nterm\\nissue_month\\n'"
      ]
     },
     "execution_count": 85,
     "metadata": {},
     "output_type": "execute_result"
    }
   ],
   "source": [
    "\"\"\"\n",
    "verified_income\n",
    "public_record_bankrupt\n",
    "debt_to_income\n",
    "public_record_bankrupt\n",
    "term\n",
    "issue_month\n",
    "\"\"\""
   ]
  },
  {
   "cell_type": "code",
   "execution_count": 86,
   "id": "009603e2",
   "metadata": {
    "ExecuteTime": {
     "end_time": "2022-01-21T16:04:31.172989Z",
     "start_time": "2022-01-21T16:04:31.101493Z"
    }
   },
   "outputs": [],
   "source": [
    "mod = sm.ols('interest_rate ~ verified_income + public_record_bankrupt + debt_to_income + public_record_bankrupt + term + issue_month', data=df)"
   ]
  },
  {
   "cell_type": "code",
   "execution_count": 87,
   "id": "03e9a5c4",
   "metadata": {
    "ExecuteTime": {
     "end_time": "2022-01-21T16:04:31.187972Z",
     "start_time": "2022-01-21T16:04:31.173995Z"
    }
   },
   "outputs": [
    {
     "name": "stdout",
     "output_type": "stream",
     "text": [
      "                            OLS Regression Results                            \n",
      "==============================================================================\n",
      "Dep. Variable:          interest_rate   R-squared:                       0.182\n",
      "Model:                            OLS   Adj. R-squared:                  0.182\n",
      "Method:                 Least Squares   F-statistic:                     317.0\n",
      "Date:                Fri, 21 Jan 2022   Prob (F-statistic):               0.00\n",
      "Time:                        21:34:31   Log-Likelihood:                -29204.\n",
      "No. Observations:                9976   AIC:                         5.842e+04\n",
      "Df Residuals:                    9968   BIC:                         5.848e+04\n",
      "Df Model:                           7                                         \n",
      "Covariance Type:            nonrobust                                         \n",
      "======================================================================================================\n",
      "                                         coef    std err          t      P>|t|      [0.025      0.975]\n",
      "------------------------------------------------------------------------------------------------------\n",
      "Intercept                              4.1954      0.208     20.156      0.000       3.787       4.603\n",
      "verified_income[T.Source Verified]     1.1602      0.104     11.165      0.000       0.957       1.364\n",
      "verified_income[T.Verified]            2.5671      0.123     20.895      0.000       2.326       2.808\n",
      "issue_month[T.Jan-2018]               -0.0120      0.114     -0.106      0.916      -0.235       0.211\n",
      "issue_month[T.Mar-2018]               -0.0932      0.112     -0.832      0.406      -0.313       0.126\n",
      "public_record_bankrupt                 0.6455      0.134      4.809      0.000       0.382       0.909\n",
      "debt_to_income                         0.0350      0.003     11.458      0.000       0.029       0.041\n",
      "term                                   0.1489      0.004     35.931      0.000       0.141       0.157\n",
      "==============================================================================\n",
      "Omnibus:                      907.346   Durbin-Watson:                   1.991\n",
      "Prob(Omnibus):                  0.000   Jarque-Bera (JB):             1174.672\n",
      "Skew:                           0.803   Prob(JB):                    8.38e-256\n",
      "Kurtosis:                       3.499   Cond. No.                         236.\n",
      "==============================================================================\n",
      "\n",
      "Notes:\n",
      "[1] Standard Errors assume that the covariance matrix of the errors is correctly specified.\n"
     ]
    }
   ],
   "source": [
    "res = mod.fit()\n",
    "print(res.summary())"
   ]
  },
  {
   "cell_type": "markdown",
   "id": "8dbc804c",
   "metadata": {},
   "source": [
    "### Adjusted R2"
   ]
  },
  {
   "cell_type": "markdown",
   "id": "d026ef8e",
   "metadata": {},
   "source": [
    "#### Before\n",
    "$R^2 = \\frac{s_y^2 - s_{res}^2}{s_y^2}$\n",
    "$= 1 - \\frac{s_{res}^2}{s_y^2}$\n",
    "\n",
    "\n",
    "#### After\n",
    "$R_{adj}^2 = 1 - \\frac{s_{res}^2}{s_y^2} \\times \\frac{n-1}{n-k-1}, \\text{where n is the number of cases to fit the model and k is the number of predictor variables}$\n",
    "\n",
    "$\\text{A categorical predictor with p levels, contributes p - 1 to the number of variables above}$"
   ]
  },
  {
   "cell_type": "code",
   "execution_count": null,
   "id": "14c11fcb",
   "metadata": {},
   "outputs": [],
   "source": []
  }
 ],
 "metadata": {
  "kernelspec": {
   "display_name": "Python 3 (ipykernel)",
   "language": "python",
   "name": "python3"
  },
  "language_info": {
   "codemirror_mode": {
    "name": "ipython",
    "version": 3
   },
   "file_extension": ".py",
   "mimetype": "text/x-python",
   "name": "python",
   "nbconvert_exporter": "python",
   "pygments_lexer": "ipython3",
   "version": "3.7.9"
  }
 },
 "nbformat": 4,
 "nbformat_minor": 5
}
