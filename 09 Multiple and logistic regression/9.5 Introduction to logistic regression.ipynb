{
 "cells": [
  {
   "cell_type": "code",
   "execution_count": 125,
   "id": "3012f222",
   "metadata": {
    "ExecuteTime": {
     "end_time": "2022-01-23T16:13:59.054536Z",
     "start_time": "2022-01-23T16:13:59.046531Z"
    }
   },
   "outputs": [],
   "source": [
    "import numpy as np\n",
    "import pandas as pd\n",
    "import matplotlib.pyplot as plt\n",
    "import seaborn as sns\n",
    "import statsmodels.api as sm\n",
    "from statsmodels.formula.api import ols\n",
    "import math"
   ]
  },
  {
   "cell_type": "markdown",
   "id": "1dfb18bd",
   "metadata": {},
   "source": [
    "### Outcome is a 2-level Categorial variable\n",
    "- Outcome $Y_i$, takes the value 1 with probability $p_i$ and the value 0 with probability $1 - p_i$"
   ]
  },
  {
   "cell_type": "markdown",
   "id": "e57c6065",
   "metadata": {},
   "source": [
    "$\\textit{transformation}(p_i) = \\beta_0 + \\beta_1\\textit{x}_{1,i} + \\beta_2\\textit{x}_{2,i} + ... + \\beta_k\\textit{x}_{k,i}$"
   ]
  },
  {
   "cell_type": "markdown",
   "id": "b4dbb4f6",
   "metadata": {},
   "source": [
    "$\\textit{logit}(p_i) = \\log_e(\\frac{p_i}{1-p_i})$"
   ]
  },
  {
   "cell_type": "code",
   "execution_count": 126,
   "id": "6bf56d0d",
   "metadata": {
    "ExecuteTime": {
     "end_time": "2022-01-23T16:13:59.084590Z",
     "start_time": "2022-01-23T16:13:59.056526Z"
    }
   },
   "outputs": [],
   "source": [
    "df = pd.read_csv('../data/resume.csv')"
   ]
  },
  {
   "cell_type": "code",
   "execution_count": 127,
   "id": "0cf9bb6e",
   "metadata": {
    "ExecuteTime": {
     "end_time": "2022-01-23T16:13:59.114528Z",
     "start_time": "2022-01-23T16:13:59.085524Z"
    }
   },
   "outputs": [
    {
     "data": {
      "text/html": [
       "<div>\n",
       "<style scoped>\n",
       "    .dataframe tbody tr th:only-of-type {\n",
       "        vertical-align: middle;\n",
       "    }\n",
       "\n",
       "    .dataframe tbody tr th {\n",
       "        vertical-align: top;\n",
       "    }\n",
       "\n",
       "    .dataframe thead th {\n",
       "        text-align: right;\n",
       "    }\n",
       "</style>\n",
       "<table border=\"1\" class=\"dataframe\">\n",
       "  <thead>\n",
       "    <tr style=\"text-align: right;\">\n",
       "      <th></th>\n",
       "      <th>job_ad_id</th>\n",
       "      <th>job_city</th>\n",
       "      <th>job_industry</th>\n",
       "      <th>job_type</th>\n",
       "      <th>job_fed_contractor</th>\n",
       "      <th>job_equal_opp_employer</th>\n",
       "      <th>job_ownership</th>\n",
       "      <th>job_req_any</th>\n",
       "      <th>job_req_communication</th>\n",
       "      <th>job_req_education</th>\n",
       "      <th>...</th>\n",
       "      <th>honors</th>\n",
       "      <th>worked_during_school</th>\n",
       "      <th>years_experience</th>\n",
       "      <th>computer_skills</th>\n",
       "      <th>special_skills</th>\n",
       "      <th>volunteer</th>\n",
       "      <th>military</th>\n",
       "      <th>employment_holes</th>\n",
       "      <th>has_email_address</th>\n",
       "      <th>resume_quality</th>\n",
       "    </tr>\n",
       "  </thead>\n",
       "  <tbody>\n",
       "    <tr>\n",
       "      <th>0</th>\n",
       "      <td>384</td>\n",
       "      <td>Chicago</td>\n",
       "      <td>manufacturing</td>\n",
       "      <td>supervisor</td>\n",
       "      <td>NaN</td>\n",
       "      <td>1</td>\n",
       "      <td>unknown</td>\n",
       "      <td>1</td>\n",
       "      <td>0</td>\n",
       "      <td>0</td>\n",
       "      <td>...</td>\n",
       "      <td>0</td>\n",
       "      <td>0</td>\n",
       "      <td>6</td>\n",
       "      <td>1</td>\n",
       "      <td>0</td>\n",
       "      <td>0</td>\n",
       "      <td>0</td>\n",
       "      <td>1</td>\n",
       "      <td>0</td>\n",
       "      <td>low</td>\n",
       "    </tr>\n",
       "    <tr>\n",
       "      <th>1</th>\n",
       "      <td>384</td>\n",
       "      <td>Chicago</td>\n",
       "      <td>manufacturing</td>\n",
       "      <td>supervisor</td>\n",
       "      <td>NaN</td>\n",
       "      <td>1</td>\n",
       "      <td>unknown</td>\n",
       "      <td>1</td>\n",
       "      <td>0</td>\n",
       "      <td>0</td>\n",
       "      <td>...</td>\n",
       "      <td>0</td>\n",
       "      <td>1</td>\n",
       "      <td>6</td>\n",
       "      <td>1</td>\n",
       "      <td>0</td>\n",
       "      <td>1</td>\n",
       "      <td>1</td>\n",
       "      <td>0</td>\n",
       "      <td>1</td>\n",
       "      <td>high</td>\n",
       "    </tr>\n",
       "    <tr>\n",
       "      <th>2</th>\n",
       "      <td>384</td>\n",
       "      <td>Chicago</td>\n",
       "      <td>manufacturing</td>\n",
       "      <td>supervisor</td>\n",
       "      <td>NaN</td>\n",
       "      <td>1</td>\n",
       "      <td>unknown</td>\n",
       "      <td>1</td>\n",
       "      <td>0</td>\n",
       "      <td>0</td>\n",
       "      <td>...</td>\n",
       "      <td>0</td>\n",
       "      <td>1</td>\n",
       "      <td>6</td>\n",
       "      <td>1</td>\n",
       "      <td>0</td>\n",
       "      <td>0</td>\n",
       "      <td>0</td>\n",
       "      <td>0</td>\n",
       "      <td>0</td>\n",
       "      <td>low</td>\n",
       "    </tr>\n",
       "    <tr>\n",
       "      <th>3</th>\n",
       "      <td>384</td>\n",
       "      <td>Chicago</td>\n",
       "      <td>manufacturing</td>\n",
       "      <td>supervisor</td>\n",
       "      <td>NaN</td>\n",
       "      <td>1</td>\n",
       "      <td>unknown</td>\n",
       "      <td>1</td>\n",
       "      <td>0</td>\n",
       "      <td>0</td>\n",
       "      <td>...</td>\n",
       "      <td>0</td>\n",
       "      <td>0</td>\n",
       "      <td>6</td>\n",
       "      <td>1</td>\n",
       "      <td>1</td>\n",
       "      <td>1</td>\n",
       "      <td>0</td>\n",
       "      <td>1</td>\n",
       "      <td>1</td>\n",
       "      <td>high</td>\n",
       "    </tr>\n",
       "    <tr>\n",
       "      <th>4</th>\n",
       "      <td>385</td>\n",
       "      <td>Chicago</td>\n",
       "      <td>other_service</td>\n",
       "      <td>secretary</td>\n",
       "      <td>0.0</td>\n",
       "      <td>1</td>\n",
       "      <td>nonprofit</td>\n",
       "      <td>1</td>\n",
       "      <td>0</td>\n",
       "      <td>0</td>\n",
       "      <td>...</td>\n",
       "      <td>0</td>\n",
       "      <td>1</td>\n",
       "      <td>22</td>\n",
       "      <td>1</td>\n",
       "      <td>0</td>\n",
       "      <td>0</td>\n",
       "      <td>0</td>\n",
       "      <td>0</td>\n",
       "      <td>1</td>\n",
       "      <td>high</td>\n",
       "    </tr>\n",
       "  </tbody>\n",
       "</table>\n",
       "<p>5 rows × 30 columns</p>\n",
       "</div>"
      ],
      "text/plain": [
       "   job_ad_id job_city   job_industry    job_type  job_fed_contractor  \\\n",
       "0        384  Chicago  manufacturing  supervisor                 NaN   \n",
       "1        384  Chicago  manufacturing  supervisor                 NaN   \n",
       "2        384  Chicago  manufacturing  supervisor                 NaN   \n",
       "3        384  Chicago  manufacturing  supervisor                 NaN   \n",
       "4        385  Chicago  other_service   secretary                 0.0   \n",
       "\n",
       "   job_equal_opp_employer job_ownership  job_req_any  job_req_communication  \\\n",
       "0                       1       unknown            1                      0   \n",
       "1                       1       unknown            1                      0   \n",
       "2                       1       unknown            1                      0   \n",
       "3                       1       unknown            1                      0   \n",
       "4                       1     nonprofit            1                      0   \n",
       "\n",
       "   job_req_education  ... honors  worked_during_school  years_experience  \\\n",
       "0                  0  ...      0                     0                 6   \n",
       "1                  0  ...      0                     1                 6   \n",
       "2                  0  ...      0                     1                 6   \n",
       "3                  0  ...      0                     0                 6   \n",
       "4                  0  ...      0                     1                22   \n",
       "\n",
       "  computer_skills  special_skills volunteer military employment_holes  \\\n",
       "0               1               0         0        0                1   \n",
       "1               1               0         1        1                0   \n",
       "2               1               0         0        0                0   \n",
       "3               1               1         1        0                1   \n",
       "4               1               0         0        0                0   \n",
       "\n",
       "   has_email_address  resume_quality  \n",
       "0                  0             low  \n",
       "1                  1            high  \n",
       "2                  0             low  \n",
       "3                  1            high  \n",
       "4                  1            high  \n",
       "\n",
       "[5 rows x 30 columns]"
      ]
     },
     "execution_count": 127,
     "metadata": {},
     "output_type": "execute_result"
    }
   ],
   "source": [
    "df.head()"
   ]
  },
  {
   "cell_type": "code",
   "execution_count": 128,
   "id": "61129269",
   "metadata": {
    "ExecuteTime": {
     "end_time": "2022-01-23T16:13:59.144523Z",
     "start_time": "2022-01-23T16:13:59.116557Z"
    }
   },
   "outputs": [
    {
     "name": "stdout",
     "output_type": "stream",
     "text": [
      "<class 'pandas.core.frame.DataFrame'>\n",
      "RangeIndex: 4870 entries, 0 to 4869\n",
      "Data columns (total 30 columns):\n",
      " #   Column                  Non-Null Count  Dtype  \n",
      "---  ------                  --------------  -----  \n",
      " 0   job_ad_id               4870 non-null   int64  \n",
      " 1   job_city                4870 non-null   object \n",
      " 2   job_industry            4870 non-null   object \n",
      " 3   job_type                4870 non-null   object \n",
      " 4   job_fed_contractor      3102 non-null   float64\n",
      " 5   job_equal_opp_employer  4870 non-null   int64  \n",
      " 6   job_ownership           4870 non-null   object \n",
      " 7   job_req_any             4870 non-null   int64  \n",
      " 8   job_req_communication   4870 non-null   int64  \n",
      " 9   job_req_education       4870 non-null   int64  \n",
      " 10  job_req_min_experience  2124 non-null   object \n",
      " 11  job_req_computer        4870 non-null   int64  \n",
      " 12  job_req_organization    4870 non-null   int64  \n",
      " 13  job_req_school          4870 non-null   object \n",
      " 14  received_callback       4870 non-null   int64  \n",
      " 15  firstname               4870 non-null   object \n",
      " 16  race                    4870 non-null   object \n",
      " 17  gender                  4870 non-null   object \n",
      " 18  years_college           4870 non-null   int64  \n",
      " 19  college_degree          4870 non-null   int64  \n",
      " 20  honors                  4870 non-null   int64  \n",
      " 21  worked_during_school    4870 non-null   int64  \n",
      " 22  years_experience        4870 non-null   int64  \n",
      " 23  computer_skills         4870 non-null   int64  \n",
      " 24  special_skills          4870 non-null   int64  \n",
      " 25  volunteer               4870 non-null   int64  \n",
      " 26  military                4870 non-null   int64  \n",
      " 27  employment_holes        4870 non-null   int64  \n",
      " 28  has_email_address       4870 non-null   int64  \n",
      " 29  resume_quality          4870 non-null   object \n",
      "dtypes: float64(1), int64(19), object(10)\n",
      "memory usage: 1.1+ MB\n"
     ]
    }
   ],
   "source": [
    "df.info()"
   ]
  },
  {
   "cell_type": "code",
   "execution_count": 129,
   "id": "bbf0ae45",
   "metadata": {
    "ExecuteTime": {
     "end_time": "2022-01-23T16:13:59.159525Z",
     "start_time": "2022-01-23T16:13:59.145524Z"
    }
   },
   "outputs": [],
   "source": [
    "X = sm.add_constant(df['honors'])\n",
    "y = df['received_callback']\n",
    "\n",
    "mod = sm.Logit(y, X)"
   ]
  },
  {
   "cell_type": "code",
   "execution_count": 130,
   "id": "15619730",
   "metadata": {
    "ExecuteTime": {
     "end_time": "2022-01-23T16:13:59.219551Z",
     "start_time": "2022-01-23T16:13:59.161526Z"
    }
   },
   "outputs": [
    {
     "name": "stdout",
     "output_type": "stream",
     "text": [
      "Optimization terminated successfully.\n",
      "         Current function value: 0.277898\n",
      "         Iterations 6\n",
      "                          Results: Logit\n",
      "==================================================================\n",
      "Model:              Logit             Pseudo R-squared: 0.007     \n",
      "Dependent Variable: received_callback AIC:              2710.7232 \n",
      "Date:               2022-01-23 21:43  BIC:              2723.7049 \n",
      "No. Observations:   4870              Log-Likelihood:   -1353.4   \n",
      "Df Model:           1                 LL-Null:          -1363.5   \n",
      "Df Residuals:       4868              LLR p-value:      6.9836e-06\n",
      "Converged:          1.0000            Scale:            1.0000    \n",
      "No. Iterations:     6.0000                                        \n",
      "--------------------------------------------------------------------\n",
      "           Coef.    Std.Err.      z       P>|z|     [0.025    0.975]\n",
      "--------------------------------------------------------------------\n",
      "const     -2.4998     0.0556   -44.9577   0.0000   -2.6088   -2.3908\n",
      "honors     0.8668     0.1776     4.8800   0.0000    0.5187    1.2150\n",
      "==================================================================\n",
      "\n"
     ]
    }
   ],
   "source": [
    "res = mod.fit()\n",
    "print(res.summary2())"
   ]
  },
  {
   "cell_type": "code",
   "execution_count": 131,
   "id": "3160f678",
   "metadata": {
    "ExecuteTime": {
     "end_time": "2022-01-23T16:13:59.234635Z",
     "start_time": "2022-01-23T16:13:59.221571Z"
    }
   },
   "outputs": [
    {
     "data": {
      "text/plain": [
       "const    -2.499795\n",
       "honors    0.866827\n",
       "dtype: float64"
      ]
     },
     "execution_count": 131,
     "metadata": {},
     "output_type": "execute_result"
    }
   ],
   "source": [
    "res.params"
   ]
  },
  {
   "cell_type": "code",
   "execution_count": 132,
   "id": "c4776b12",
   "metadata": {
    "ExecuteTime": {
     "end_time": "2022-01-23T16:13:59.250371Z",
     "start_time": "2022-01-23T16:13:59.236308Z"
    }
   },
   "outputs": [
    {
     "name": "stdout",
     "output_type": "stream",
     "text": [
      "0.08210180623973737\n"
     ]
    }
   ],
   "source": [
    "output = np.exp(res.params['const'])\n",
    "print(output)"
   ]
  },
  {
   "cell_type": "code",
   "execution_count": 133,
   "id": "08d781a6",
   "metadata": {
    "ExecuteTime": {
     "end_time": "2022-01-23T16:13:59.265345Z",
     "start_time": "2022-01-23T16:13:59.252310Z"
    }
   },
   "outputs": [
    {
     "name": "stdout",
     "output_type": "stream",
     "text": [
      "0.07587253414264045\n"
     ]
    }
   ],
   "source": [
    "# p = (1 - p) * output\n",
    "# p = output - p * output\n",
    "# p + p * output = output\n",
    "# p(1 + output) = output\n",
    "p = output / (1 + output)\n",
    "print(p)"
   ]
  },
  {
   "cell_type": "markdown",
   "id": "22222e06",
   "metadata": {},
   "source": [
    "### Akaike information criterion"
   ]
  },
  {
   "cell_type": "markdown",
   "id": "d22ca8c4",
   "metadata": {},
   "source": [
    "$AIC = 2k - 2ln(\\hat L)$, where $\\hat L$ is the maximum value of the P(y | X) likelihood function of the model\n",
    "\n"
   ]
  },
  {
   "cell_type": "code",
   "execution_count": 134,
   "id": "c816c5b3",
   "metadata": {
    "ExecuteTime": {
     "end_time": "2022-01-23T16:13:59.280301Z",
     "start_time": "2022-01-23T16:13:59.268265Z"
    }
   },
   "outputs": [
    {
     "data": {
      "text/plain": [
       "2710.7231826312927"
      ]
     },
     "execution_count": 134,
     "metadata": {},
     "output_type": "execute_result"
    }
   ],
   "source": [
    "res.aic"
   ]
  },
  {
   "cell_type": "markdown",
   "id": "91d1744c",
   "metadata": {},
   "source": [
    "### Building the logistic model with many variables"
   ]
  },
  {
   "cell_type": "markdown",
   "id": "86009e04",
   "metadata": {},
   "source": [
    "#### Backward / Forward Elimination using p-value or lower AIC"
   ]
  },
  {
   "cell_type": "markdown",
   "id": "bf24b646",
   "metadata": {},
   "source": [
    "### Diagnostics\n",
    "- Each outcome  $Y_i$ is independent of other outcomes.\n",
    "- Each predictor $x_i$ is linearly related to $\\textit{logit}(p_i)$ if all other predictors are held constant."
   ]
  }
 ],
 "metadata": {
  "kernelspec": {
   "display_name": "Python 3 (ipykernel)",
   "language": "python",
   "name": "python3"
  },
  "language_info": {
   "codemirror_mode": {
    "name": "ipython",
    "version": 3
   },
   "file_extension": ".py",
   "mimetype": "text/x-python",
   "name": "python",
   "nbconvert_exporter": "python",
   "pygments_lexer": "ipython3",
   "version": "3.7.9"
  }
 },
 "nbformat": 4,
 "nbformat_minor": 5
}
