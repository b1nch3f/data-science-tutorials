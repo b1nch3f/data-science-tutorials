{
 "cells": [
  {
   "cell_type": "code",
   "execution_count": 85,
   "id": "3012f222",
   "metadata": {
    "ExecuteTime": {
     "end_time": "2022-01-22T16:19:45.867431Z",
     "start_time": "2022-01-22T16:19:45.861409Z"
    }
   },
   "outputs": [],
   "source": [
    "import numpy as np\n",
    "import pandas as pd\n",
    "import matplotlib.pyplot as plt\n",
    "import seaborn as sns\n",
    "import statsmodels.api as sm\n",
    "from statsmodels.formula.api import ols"
   ]
  },
  {
   "cell_type": "code",
   "execution_count": 86,
   "id": "39c3fc12",
   "metadata": {
    "ExecuteTime": {
     "end_time": "2022-01-22T16:19:45.882405Z",
     "start_time": "2022-01-22T16:19:45.869407Z"
    }
   },
   "outputs": [],
   "source": [
    "df = pd.read_csv('../data/mariokart.csv')"
   ]
  },
  {
   "cell_type": "code",
   "execution_count": 87,
   "id": "0cf9bb6e",
   "metadata": {
    "ExecuteTime": {
     "end_time": "2022-01-22T16:19:45.897423Z",
     "start_time": "2022-01-22T16:19:45.884405Z"
    }
   },
   "outputs": [
    {
     "data": {
      "text/html": [
       "<div>\n",
       "<style scoped>\n",
       "    .dataframe tbody tr th:only-of-type {\n",
       "        vertical-align: middle;\n",
       "    }\n",
       "\n",
       "    .dataframe tbody tr th {\n",
       "        vertical-align: top;\n",
       "    }\n",
       "\n",
       "    .dataframe thead th {\n",
       "        text-align: right;\n",
       "    }\n",
       "</style>\n",
       "<table border=\"1\" class=\"dataframe\">\n",
       "  <thead>\n",
       "    <tr style=\"text-align: right;\">\n",
       "      <th></th>\n",
       "      <th>id</th>\n",
       "      <th>duration</th>\n",
       "      <th>n_bids</th>\n",
       "      <th>cond</th>\n",
       "      <th>start_pr</th>\n",
       "      <th>ship_pr</th>\n",
       "      <th>total_pr</th>\n",
       "      <th>ship_sp</th>\n",
       "      <th>seller_rate</th>\n",
       "      <th>stock_photo</th>\n",
       "      <th>wheels</th>\n",
       "      <th>title</th>\n",
       "    </tr>\n",
       "  </thead>\n",
       "  <tbody>\n",
       "    <tr>\n",
       "      <th>0</th>\n",
       "      <td>150377422259</td>\n",
       "      <td>3</td>\n",
       "      <td>20</td>\n",
       "      <td>new</td>\n",
       "      <td>0.99</td>\n",
       "      <td>4.00</td>\n",
       "      <td>51.55</td>\n",
       "      <td>standard</td>\n",
       "      <td>1580</td>\n",
       "      <td>yes</td>\n",
       "      <td>1</td>\n",
       "      <td>~~ Wii MARIO KART &amp;amp; WHEEL ~ NINTENDO Wii ~...</td>\n",
       "    </tr>\n",
       "    <tr>\n",
       "      <th>1</th>\n",
       "      <td>260483376854</td>\n",
       "      <td>7</td>\n",
       "      <td>13</td>\n",
       "      <td>used</td>\n",
       "      <td>0.99</td>\n",
       "      <td>3.99</td>\n",
       "      <td>37.04</td>\n",
       "      <td>firstClass</td>\n",
       "      <td>365</td>\n",
       "      <td>yes</td>\n",
       "      <td>1</td>\n",
       "      <td>Mariokart Wii Nintendo with wheel - Mario Kart...</td>\n",
       "    </tr>\n",
       "    <tr>\n",
       "      <th>2</th>\n",
       "      <td>320432342985</td>\n",
       "      <td>3</td>\n",
       "      <td>16</td>\n",
       "      <td>new</td>\n",
       "      <td>0.99</td>\n",
       "      <td>3.50</td>\n",
       "      <td>45.50</td>\n",
       "      <td>firstClass</td>\n",
       "      <td>998</td>\n",
       "      <td>no</td>\n",
       "      <td>1</td>\n",
       "      <td>Mario Kart Wii (Wii)</td>\n",
       "    </tr>\n",
       "    <tr>\n",
       "      <th>3</th>\n",
       "      <td>280405224677</td>\n",
       "      <td>3</td>\n",
       "      <td>18</td>\n",
       "      <td>new</td>\n",
       "      <td>0.99</td>\n",
       "      <td>0.00</td>\n",
       "      <td>44.00</td>\n",
       "      <td>standard</td>\n",
       "      <td>7</td>\n",
       "      <td>yes</td>\n",
       "      <td>1</td>\n",
       "      <td>Brand New Mario Kart Wii Comes with Wheel. Fre...</td>\n",
       "    </tr>\n",
       "    <tr>\n",
       "      <th>4</th>\n",
       "      <td>170392227765</td>\n",
       "      <td>1</td>\n",
       "      <td>20</td>\n",
       "      <td>new</td>\n",
       "      <td>0.01</td>\n",
       "      <td>0.00</td>\n",
       "      <td>71.00</td>\n",
       "      <td>media</td>\n",
       "      <td>820</td>\n",
       "      <td>yes</td>\n",
       "      <td>2</td>\n",
       "      <td>BRAND NEW NINTENDO 1 WII MARIO KART WITH 2 WHE...</td>\n",
       "    </tr>\n",
       "  </tbody>\n",
       "</table>\n",
       "</div>"
      ],
      "text/plain": [
       "             id  duration  n_bids  cond  start_pr  ship_pr  total_pr  \\\n",
       "0  150377422259         3      20   new      0.99     4.00     51.55   \n",
       "1  260483376854         7      13  used      0.99     3.99     37.04   \n",
       "2  320432342985         3      16   new      0.99     3.50     45.50   \n",
       "3  280405224677         3      18   new      0.99     0.00     44.00   \n",
       "4  170392227765         1      20   new      0.01     0.00     71.00   \n",
       "\n",
       "      ship_sp  seller_rate stock_photo  wheels  \\\n",
       "0    standard         1580         yes       1   \n",
       "1  firstClass          365         yes       1   \n",
       "2  firstClass          998          no       1   \n",
       "3    standard            7         yes       1   \n",
       "4       media          820         yes       2   \n",
       "\n",
       "                                               title  \n",
       "0  ~~ Wii MARIO KART &amp; WHEEL ~ NINTENDO Wii ~...  \n",
       "1  Mariokart Wii Nintendo with wheel - Mario Kart...  \n",
       "2                               Mario Kart Wii (Wii)  \n",
       "3  Brand New Mario Kart Wii Comes with Wheel. Fre...  \n",
       "4  BRAND NEW NINTENDO 1 WII MARIO KART WITH 2 WHE...  "
      ]
     },
     "execution_count": 87,
     "metadata": {},
     "output_type": "execute_result"
    }
   ],
   "source": [
    "df.head()"
   ]
  },
  {
   "cell_type": "markdown",
   "id": "23bed662",
   "metadata": {},
   "source": [
    "### Feature Selection"
   ]
  },
  {
   "cell_type": "code",
   "execution_count": 88,
   "id": "2e6e5285",
   "metadata": {
    "ExecuteTime": {
     "end_time": "2022-01-22T16:19:45.912410Z",
     "start_time": "2022-01-22T16:19:45.900410Z"
    }
   },
   "outputs": [],
   "source": [
    "# cond + stock_photo + duration + wheels"
   ]
  },
  {
   "cell_type": "code",
   "execution_count": 89,
   "id": "1ea1b7b1",
   "metadata": {
    "ExecuteTime": {
     "end_time": "2022-01-22T16:19:45.927440Z",
     "start_time": "2022-01-22T16:19:45.914409Z"
    }
   },
   "outputs": [],
   "source": [
    "df['cond_new'] = df['cond'].apply(lambda x: 1 if x == 'new' else 0)"
   ]
  },
  {
   "cell_type": "code",
   "execution_count": 90,
   "id": "847cf4c0",
   "metadata": {
    "ExecuteTime": {
     "end_time": "2022-01-22T16:19:45.942406Z",
     "start_time": "2022-01-22T16:19:45.929406Z"
    }
   },
   "outputs": [],
   "source": [
    "df['stock_photo'] = df['stock_photo'].apply(lambda x: 1 if x == 'yes' else 0)"
   ]
  },
  {
   "cell_type": "code",
   "execution_count": 91,
   "id": "07f0d7a7",
   "metadata": {
    "ExecuteTime": {
     "end_time": "2022-01-22T16:19:45.972412Z",
     "start_time": "2022-01-22T16:19:45.944408Z"
    }
   },
   "outputs": [
    {
     "data": {
      "text/html": [
       "<div>\n",
       "<style scoped>\n",
       "    .dataframe tbody tr th:only-of-type {\n",
       "        vertical-align: middle;\n",
       "    }\n",
       "\n",
       "    .dataframe tbody tr th {\n",
       "        vertical-align: top;\n",
       "    }\n",
       "\n",
       "    .dataframe thead th {\n",
       "        text-align: right;\n",
       "    }\n",
       "</style>\n",
       "<table border=\"1\" class=\"dataframe\">\n",
       "  <thead>\n",
       "    <tr style=\"text-align: right;\">\n",
       "      <th></th>\n",
       "      <th>id</th>\n",
       "      <th>duration</th>\n",
       "      <th>n_bids</th>\n",
       "      <th>cond</th>\n",
       "      <th>start_pr</th>\n",
       "      <th>ship_pr</th>\n",
       "      <th>total_pr</th>\n",
       "      <th>ship_sp</th>\n",
       "      <th>seller_rate</th>\n",
       "      <th>stock_photo</th>\n",
       "      <th>wheels</th>\n",
       "      <th>title</th>\n",
       "      <th>cond_new</th>\n",
       "    </tr>\n",
       "  </thead>\n",
       "  <tbody>\n",
       "    <tr>\n",
       "      <th>0</th>\n",
       "      <td>150377422259</td>\n",
       "      <td>3</td>\n",
       "      <td>20</td>\n",
       "      <td>new</td>\n",
       "      <td>0.99</td>\n",
       "      <td>4.00</td>\n",
       "      <td>51.55</td>\n",
       "      <td>standard</td>\n",
       "      <td>1580</td>\n",
       "      <td>1</td>\n",
       "      <td>1</td>\n",
       "      <td>~~ Wii MARIO KART &amp;amp; WHEEL ~ NINTENDO Wii ~...</td>\n",
       "      <td>1</td>\n",
       "    </tr>\n",
       "    <tr>\n",
       "      <th>1</th>\n",
       "      <td>260483376854</td>\n",
       "      <td>7</td>\n",
       "      <td>13</td>\n",
       "      <td>used</td>\n",
       "      <td>0.99</td>\n",
       "      <td>3.99</td>\n",
       "      <td>37.04</td>\n",
       "      <td>firstClass</td>\n",
       "      <td>365</td>\n",
       "      <td>1</td>\n",
       "      <td>1</td>\n",
       "      <td>Mariokart Wii Nintendo with wheel - Mario Kart...</td>\n",
       "      <td>0</td>\n",
       "    </tr>\n",
       "    <tr>\n",
       "      <th>2</th>\n",
       "      <td>320432342985</td>\n",
       "      <td>3</td>\n",
       "      <td>16</td>\n",
       "      <td>new</td>\n",
       "      <td>0.99</td>\n",
       "      <td>3.50</td>\n",
       "      <td>45.50</td>\n",
       "      <td>firstClass</td>\n",
       "      <td>998</td>\n",
       "      <td>0</td>\n",
       "      <td>1</td>\n",
       "      <td>Mario Kart Wii (Wii)</td>\n",
       "      <td>1</td>\n",
       "    </tr>\n",
       "    <tr>\n",
       "      <th>3</th>\n",
       "      <td>280405224677</td>\n",
       "      <td>3</td>\n",
       "      <td>18</td>\n",
       "      <td>new</td>\n",
       "      <td>0.99</td>\n",
       "      <td>0.00</td>\n",
       "      <td>44.00</td>\n",
       "      <td>standard</td>\n",
       "      <td>7</td>\n",
       "      <td>1</td>\n",
       "      <td>1</td>\n",
       "      <td>Brand New Mario Kart Wii Comes with Wheel. Fre...</td>\n",
       "      <td>1</td>\n",
       "    </tr>\n",
       "    <tr>\n",
       "      <th>4</th>\n",
       "      <td>170392227765</td>\n",
       "      <td>1</td>\n",
       "      <td>20</td>\n",
       "      <td>new</td>\n",
       "      <td>0.01</td>\n",
       "      <td>0.00</td>\n",
       "      <td>71.00</td>\n",
       "      <td>media</td>\n",
       "      <td>820</td>\n",
       "      <td>1</td>\n",
       "      <td>2</td>\n",
       "      <td>BRAND NEW NINTENDO 1 WII MARIO KART WITH 2 WHE...</td>\n",
       "      <td>1</td>\n",
       "    </tr>\n",
       "    <tr>\n",
       "      <th>...</th>\n",
       "      <td>...</td>\n",
       "      <td>...</td>\n",
       "      <td>...</td>\n",
       "      <td>...</td>\n",
       "      <td>...</td>\n",
       "      <td>...</td>\n",
       "      <td>...</td>\n",
       "      <td>...</td>\n",
       "      <td>...</td>\n",
       "      <td>...</td>\n",
       "      <td>...</td>\n",
       "      <td>...</td>\n",
       "      <td>...</td>\n",
       "    </tr>\n",
       "    <tr>\n",
       "      <th>138</th>\n",
       "      <td>110441497272</td>\n",
       "      <td>1</td>\n",
       "      <td>20</td>\n",
       "      <td>used</td>\n",
       "      <td>0.01</td>\n",
       "      <td>0.00</td>\n",
       "      <td>39.51</td>\n",
       "      <td>standard</td>\n",
       "      <td>7284</td>\n",
       "      <td>1</td>\n",
       "      <td>0</td>\n",
       "      <td>Mario Kart Wii (Wii) Nintendo Wii game *--WOW ...</td>\n",
       "      <td>0</td>\n",
       "    </tr>\n",
       "    <tr>\n",
       "      <th>139</th>\n",
       "      <td>150376936435</td>\n",
       "      <td>7</td>\n",
       "      <td>9</td>\n",
       "      <td>used</td>\n",
       "      <td>17.99</td>\n",
       "      <td>0.00</td>\n",
       "      <td>52.00</td>\n",
       "      <td>parcel</td>\n",
       "      <td>121</td>\n",
       "      <td>0</td>\n",
       "      <td>2</td>\n",
       "      <td>Mario Kart Wii (Wii)</td>\n",
       "      <td>0</td>\n",
       "    </tr>\n",
       "    <tr>\n",
       "      <th>140</th>\n",
       "      <td>140349730405</td>\n",
       "      <td>3</td>\n",
       "      <td>14</td>\n",
       "      <td>new</td>\n",
       "      <td>0.99</td>\n",
       "      <td>8.70</td>\n",
       "      <td>47.70</td>\n",
       "      <td>priority</td>\n",
       "      <td>251</td>\n",
       "      <td>1</td>\n",
       "      <td>1</td>\n",
       "      <td>Wii Mario Kart game + wheel:  NIB, factory sealed</td>\n",
       "      <td>1</td>\n",
       "    </tr>\n",
       "    <tr>\n",
       "      <th>141</th>\n",
       "      <td>300352306018</td>\n",
       "      <td>7</td>\n",
       "      <td>13</td>\n",
       "      <td>used</td>\n",
       "      <td>1.00</td>\n",
       "      <td>4.90</td>\n",
       "      <td>38.76</td>\n",
       "      <td>parcel</td>\n",
       "      <td>41</td>\n",
       "      <td>0</td>\n",
       "      <td>0</td>\n",
       "      <td>Mario Kart Wii</td>\n",
       "      <td>0</td>\n",
       "    </tr>\n",
       "    <tr>\n",
       "      <th>142</th>\n",
       "      <td>110443320905</td>\n",
       "      <td>1</td>\n",
       "      <td>13</td>\n",
       "      <td>new</td>\n",
       "      <td>1.00</td>\n",
       "      <td>2.99</td>\n",
       "      <td>54.51</td>\n",
       "      <td>upsGround</td>\n",
       "      <td>4858</td>\n",
       "      <td>1</td>\n",
       "      <td>2</td>\n",
       "      <td>BRAND NEW NINTENDO MARIO KART WITH 2 WHEELS</td>\n",
       "      <td>1</td>\n",
       "    </tr>\n",
       "  </tbody>\n",
       "</table>\n",
       "<p>143 rows × 13 columns</p>\n",
       "</div>"
      ],
      "text/plain": [
       "               id  duration  n_bids  cond  start_pr  ship_pr  total_pr  \\\n",
       "0    150377422259         3      20   new      0.99     4.00     51.55   \n",
       "1    260483376854         7      13  used      0.99     3.99     37.04   \n",
       "2    320432342985         3      16   new      0.99     3.50     45.50   \n",
       "3    280405224677         3      18   new      0.99     0.00     44.00   \n",
       "4    170392227765         1      20   new      0.01     0.00     71.00   \n",
       "..            ...       ...     ...   ...       ...      ...       ...   \n",
       "138  110441497272         1      20  used      0.01     0.00     39.51   \n",
       "139  150376936435         7       9  used     17.99     0.00     52.00   \n",
       "140  140349730405         3      14   new      0.99     8.70     47.70   \n",
       "141  300352306018         7      13  used      1.00     4.90     38.76   \n",
       "142  110443320905         1      13   new      1.00     2.99     54.51   \n",
       "\n",
       "        ship_sp  seller_rate  stock_photo  wheels  \\\n",
       "0      standard         1580            1       1   \n",
       "1    firstClass          365            1       1   \n",
       "2    firstClass          998            0       1   \n",
       "3      standard            7            1       1   \n",
       "4         media          820            1       2   \n",
       "..          ...          ...          ...     ...   \n",
       "138    standard         7284            1       0   \n",
       "139      parcel          121            0       2   \n",
       "140    priority          251            1       1   \n",
       "141      parcel           41            0       0   \n",
       "142   upsGround         4858            1       2   \n",
       "\n",
       "                                                 title  cond_new  \n",
       "0    ~~ Wii MARIO KART &amp; WHEEL ~ NINTENDO Wii ~...         1  \n",
       "1    Mariokart Wii Nintendo with wheel - Mario Kart...         0  \n",
       "2                                 Mario Kart Wii (Wii)         1  \n",
       "3    Brand New Mario Kart Wii Comes with Wheel. Fre...         1  \n",
       "4    BRAND NEW NINTENDO 1 WII MARIO KART WITH 2 WHE...         1  \n",
       "..                                                 ...       ...  \n",
       "138  Mario Kart Wii (Wii) Nintendo Wii game *--WOW ...         0  \n",
       "139                               Mario Kart Wii (Wii)         0  \n",
       "140  Wii Mario Kart game + wheel:  NIB, factory sealed         1  \n",
       "141                                     Mario Kart Wii         0  \n",
       "142        BRAND NEW NINTENDO MARIO KART WITH 2 WHEELS         1  \n",
       "\n",
       "[143 rows x 13 columns]"
      ]
     },
     "execution_count": 91,
     "metadata": {},
     "output_type": "execute_result"
    }
   ],
   "source": [
    "df"
   ]
  },
  {
   "cell_type": "code",
   "execution_count": 92,
   "id": "bbf0ae45",
   "metadata": {
    "ExecuteTime": {
     "end_time": "2022-01-22T16:19:45.987408Z",
     "start_time": "2022-01-22T16:19:45.974411Z"
    }
   },
   "outputs": [],
   "source": [
    "mod = ols('total_pr ~ cond_new + stock_photo + duration + wheels', data=df)"
   ]
  },
  {
   "cell_type": "code",
   "execution_count": 93,
   "id": "15619730",
   "metadata": {
    "ExecuteTime": {
     "end_time": "2022-01-22T16:19:46.002444Z",
     "start_time": "2022-01-22T16:19:45.989410Z"
    }
   },
   "outputs": [
    {
     "name": "stdout",
     "output_type": "stream",
     "text": [
      "                            OLS Regression Results                            \n",
      "==============================================================================\n",
      "Dep. Variable:               total_pr   R-squared:                       0.123\n",
      "Model:                            OLS   Adj. R-squared:                  0.098\n",
      "Method:                 Least Squares   F-statistic:                     4.860\n",
      "Date:                Sat, 22 Jan 2022   Prob (F-statistic):            0.00107\n",
      "Time:                        21:49:45   Log-Likelihood:                -657.17\n",
      "No. Observations:                 143   AIC:                             1324.\n",
      "Df Residuals:                     138   BIC:                             1339.\n",
      "Df Model:                           4                                         \n",
      "Covariance Type:            nonrobust                                         \n",
      "===============================================================================\n",
      "                  coef    std err          t      P>|t|      [0.025      0.975]\n",
      "-------------------------------------------------------------------------------\n",
      "Intercept      40.9385      7.361      5.562      0.000      26.384      55.493\n",
      "cond_new        2.5816      5.227      0.494      0.622      -7.754      12.917\n",
      "stock_photo    -6.7542      5.173     -1.306      0.194     -16.983       3.474\n",
      "duration        0.3788      0.939      0.403      0.687      -1.477       2.235\n",
      "wheels          9.9476      2.718      3.659      0.000       4.572      15.323\n",
      "==============================================================================\n",
      "Omnibus:                      276.313   Durbin-Watson:                   1.994\n",
      "Prob(Omnibus):                  0.000   Jarque-Bera (JB):            60758.374\n",
      "Skew:                           9.447   Prob(JB):                         0.00\n",
      "Kurtosis:                     102.198   Cond. No.                         19.4\n",
      "==============================================================================\n",
      "\n",
      "Notes:\n",
      "[1] Standard Errors assume that the covariance matrix of the errors is correctly specified.\n"
     ]
    }
   ],
   "source": [
    "res = mod.fit()\n",
    "print(res.summary())"
   ]
  },
  {
   "cell_type": "markdown",
   "id": "b4cbe9eb",
   "metadata": {},
   "source": [
    "### Model Selection"
   ]
  },
  {
   "cell_type": "markdown",
   "id": "ef3e878c",
   "metadata": {},
   "source": [
    "#### p-value approach backward elimination"
   ]
  },
  {
   "cell_type": "markdown",
   "id": "88b58ee0",
   "metadata": {},
   "source": [
    "### Passthrough-1"
   ]
  },
  {
   "cell_type": "code",
   "execution_count": 94,
   "id": "a0a01596",
   "metadata": {
    "ExecuteTime": {
     "end_time": "2022-01-22T16:19:46.032406Z",
     "start_time": "2022-01-22T16:19:46.006408Z"
    }
   },
   "outputs": [],
   "source": [
    "mod = ols('total_pr ~ cond_new + stock_photo + wheels', data=df)"
   ]
  },
  {
   "cell_type": "code",
   "execution_count": 95,
   "id": "49a65aed",
   "metadata": {
    "ExecuteTime": {
     "end_time": "2022-01-22T16:19:46.047404Z",
     "start_time": "2022-01-22T16:19:46.033406Z"
    }
   },
   "outputs": [
    {
     "name": "stdout",
     "output_type": "stream",
     "text": [
      "                            OLS Regression Results                            \n",
      "==============================================================================\n",
      "Dep. Variable:               total_pr   R-squared:                       0.122\n",
      "Model:                            OLS   Adj. R-squared:                  0.104\n",
      "Method:                 Least Squares   F-statistic:                     6.465\n",
      "Date:                Sat, 22 Jan 2022   Prob (F-statistic):           0.000396\n",
      "Time:                        21:49:46   Log-Likelihood:                -657.25\n",
      "No. Observations:                 143   AIC:                             1323.\n",
      "Df Residuals:                     139   BIC:                             1334.\n",
      "Df Model:                           3                                         \n",
      "Covariance Type:            nonrobust                                         \n",
      "===============================================================================\n",
      "                  coef    std err          t      P>|t|      [0.025      0.975]\n",
      "-------------------------------------------------------------------------------\n",
      "Intercept      43.2039      4.746      9.103      0.000      33.820      52.587\n",
      "cond_new        1.9188      4.947      0.388      0.699      -7.863      11.701\n",
      "stock_photo    -7.2673      4.999     -1.454      0.148     -17.151       2.617\n",
      "wheels          9.7842      2.680      3.651      0.000       4.485      15.083\n",
      "==============================================================================\n",
      "Omnibus:                      277.109   Durbin-Watson:                   2.000\n",
      "Prob(Omnibus):                  0.000   Jarque-Bera (JB):            61752.710\n",
      "Skew:                           9.496   Prob(JB):                         0.00\n",
      "Kurtosis:                     103.017   Cond. No.                         6.24\n",
      "==============================================================================\n",
      "\n",
      "Notes:\n",
      "[1] Standard Errors assume that the covariance matrix of the errors is correctly specified.\n"
     ]
    }
   ],
   "source": [
    "res = mod.fit()\n",
    "print(res.summary())"
   ]
  },
  {
   "cell_type": "markdown",
   "id": "bc84a889",
   "metadata": {},
   "source": [
    "### Passthrough-2"
   ]
  },
  {
   "cell_type": "code",
   "execution_count": 96,
   "id": "d7800238",
   "metadata": {
    "ExecuteTime": {
     "end_time": "2022-01-22T16:19:46.062408Z",
     "start_time": "2022-01-22T16:19:46.049408Z"
    }
   },
   "outputs": [],
   "source": [
    "mod = ols('total_pr ~ stock_photo + wheels', data=df)"
   ]
  },
  {
   "cell_type": "code",
   "execution_count": 97,
   "id": "99209d5f",
   "metadata": {
    "ExecuteTime": {
     "end_time": "2022-01-22T16:19:46.077410Z",
     "start_time": "2022-01-22T16:19:46.064409Z"
    }
   },
   "outputs": [
    {
     "name": "stdout",
     "output_type": "stream",
     "text": [
      "                            OLS Regression Results                            \n",
      "==============================================================================\n",
      "Dep. Variable:               total_pr   R-squared:                       0.121\n",
      "Model:                            OLS   Adj. R-squared:                  0.109\n",
      "Method:                 Least Squares   F-statistic:                     9.681\n",
      "Date:                Sat, 22 Jan 2022   Prob (F-statistic):           0.000115\n",
      "Time:                        21:49:46   Log-Likelihood:                -657.33\n",
      "No. Observations:                 143   AIC:                             1321.\n",
      "Df Residuals:                     140   BIC:                             1330.\n",
      "Df Model:                           2                                         \n",
      "Covariance Type:            nonrobust                                         \n",
      "===============================================================================\n",
      "                  coef    std err          t      P>|t|      [0.025      0.975]\n",
      "-------------------------------------------------------------------------------\n",
      "Intercept      42.9313      4.679      9.175      0.000      33.680      52.183\n",
      "stock_photo    -6.5220      4.601     -1.418      0.159     -15.618       2.574\n",
      "wheels         10.2350      2.407      4.251      0.000       5.475      14.995\n",
      "==============================================================================\n",
      "Omnibus:                      275.841   Durbin-Watson:                   2.002\n",
      "Prob(Omnibus):                  0.000   Jarque-Bera (JB):            60317.834\n",
      "Skew:                           9.416   Prob(JB):                         0.00\n",
      "Kurtosis:                     101.836   Cond. No.                         5.41\n",
      "==============================================================================\n",
      "\n",
      "Notes:\n",
      "[1] Standard Errors assume that the covariance matrix of the errors is correctly specified.\n"
     ]
    }
   ],
   "source": [
    "res = mod.fit()\n",
    "print(res.summary())"
   ]
  },
  {
   "cell_type": "markdown",
   "id": "443af66b",
   "metadata": {},
   "source": [
    "### Passthrough-3"
   ]
  },
  {
   "cell_type": "code",
   "execution_count": 98,
   "id": "69b3bd59",
   "metadata": {
    "ExecuteTime": {
     "end_time": "2022-01-22T16:19:46.092437Z",
     "start_time": "2022-01-22T16:19:46.079407Z"
    }
   },
   "outputs": [],
   "source": [
    "mod = ols('total_pr ~ wheels', data=df)"
   ]
  },
  {
   "cell_type": "code",
   "execution_count": 99,
   "id": "e46e1308",
   "metadata": {
    "ExecuteTime": {
     "end_time": "2022-01-22T16:19:46.107408Z",
     "start_time": "2022-01-22T16:19:46.094409Z"
    }
   },
   "outputs": [
    {
     "name": "stdout",
     "output_type": "stream",
     "text": [
      "                            OLS Regression Results                            \n",
      "==============================================================================\n",
      "Dep. Variable:               total_pr   R-squared:                       0.109\n",
      "Model:                            OLS   Adj. R-squared:                  0.103\n",
      "Method:                 Least Squares   F-statistic:                     17.23\n",
      "Date:                Sat, 22 Jan 2022   Prob (F-statistic):           5.70e-05\n",
      "Time:                        21:49:46   Log-Likelihood:                -658.35\n",
      "No. Observations:                 143   AIC:                             1321.\n",
      "Df Residuals:                     141   BIC:                             1327.\n",
      "Df Model:                           1                                         \n",
      "Covariance Type:            nonrobust                                         \n",
      "==============================================================================\n",
      "                 coef    std err          t      P>|t|      [0.025      0.975]\n",
      "------------------------------------------------------------------------------\n",
      "Intercept     38.4052      3.433     11.188      0.000      31.619      45.192\n",
      "wheels        10.0059      2.411      4.151      0.000       5.240      14.771\n",
      "==============================================================================\n",
      "Omnibus:                      281.585   Durbin-Watson:                   2.026\n",
      "Prob(Omnibus):                  0.000   Jarque-Bera (JB):            66481.291\n",
      "Skew:                           9.792   Prob(JB):                         0.00\n",
      "Kurtosis:                     106.799   Cond. No.                         3.28\n",
      "==============================================================================\n",
      "\n",
      "Notes:\n",
      "[1] Standard Errors assume that the covariance matrix of the errors is correctly specified.\n"
     ]
    }
   ],
   "source": [
    "res = mod.fit()\n",
    "print(res.summary())"
   ]
  }
 ],
 "metadata": {
  "kernelspec": {
   "display_name": "Python 3 (ipykernel)",
   "language": "python",
   "name": "python3"
  },
  "language_info": {
   "codemirror_mode": {
    "name": "ipython",
    "version": 3
   },
   "file_extension": ".py",
   "mimetype": "text/x-python",
   "name": "python",
   "nbconvert_exporter": "python",
   "pygments_lexer": "ipython3",
   "version": "3.7.9"
  }
 },
 "nbformat": 4,
 "nbformat_minor": 5
}
