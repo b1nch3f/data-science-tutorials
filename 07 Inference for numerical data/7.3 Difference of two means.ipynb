{
 "cells": [
  {
   "cell_type": "code",
   "execution_count": 108,
   "metadata": {
    "ExecuteTime": {
     "end_time": "2022-01-12T14:06:27.839037Z",
     "start_time": "2022-01-12T14:06:27.829010Z"
    },
    "id": "2njiu1i6PqH6"
   },
   "outputs": [],
   "source": [
    "import numpy as np\n",
    "import pandas as pd\n",
    "import matplotlib.pyplot as plt\n",
    "import seaborn as sns\n",
    "import math\n",
    "import scipy.stats as stats\n",
    "from scipy.stats import chi2_contingency"
   ]
  },
  {
   "cell_type": "code",
   "execution_count": 109,
   "metadata": {
    "ExecuteTime": {
     "end_time": "2022-01-12T14:06:27.855009Z",
     "start_time": "2022-01-12T14:06:27.841014Z"
    }
   },
   "outputs": [],
   "source": [
    "df = pd.read_csv('../data/ncbirths.csv')"
   ]
  },
  {
   "cell_type": "code",
   "execution_count": 110,
   "metadata": {
    "ExecuteTime": {
     "end_time": "2022-01-12T14:06:27.887012Z",
     "start_time": "2022-01-12T14:06:27.856011Z"
    }
   },
   "outputs": [
    {
     "data": {
      "text/html": [
       "<div>\n",
       "<style scoped>\n",
       "    .dataframe tbody tr th:only-of-type {\n",
       "        vertical-align: middle;\n",
       "    }\n",
       "\n",
       "    .dataframe tbody tr th {\n",
       "        vertical-align: top;\n",
       "    }\n",
       "\n",
       "    .dataframe thead th {\n",
       "        text-align: right;\n",
       "    }\n",
       "</style>\n",
       "<table border=\"1\" class=\"dataframe\">\n",
       "  <thead>\n",
       "    <tr style=\"text-align: right;\">\n",
       "      <th></th>\n",
       "      <th>fage</th>\n",
       "      <th>mage</th>\n",
       "      <th>mature</th>\n",
       "      <th>weeks</th>\n",
       "      <th>premie</th>\n",
       "      <th>visits</th>\n",
       "      <th>marital</th>\n",
       "      <th>gained</th>\n",
       "      <th>weight</th>\n",
       "      <th>lowbirthweight</th>\n",
       "      <th>gender</th>\n",
       "      <th>habit</th>\n",
       "      <th>whitemom</th>\n",
       "    </tr>\n",
       "  </thead>\n",
       "  <tbody>\n",
       "    <tr>\n",
       "      <th>0</th>\n",
       "      <td>NaN</td>\n",
       "      <td>13</td>\n",
       "      <td>younger mom</td>\n",
       "      <td>39.0</td>\n",
       "      <td>full term</td>\n",
       "      <td>10.0</td>\n",
       "      <td>not married</td>\n",
       "      <td>38.0</td>\n",
       "      <td>7.63</td>\n",
       "      <td>not low</td>\n",
       "      <td>male</td>\n",
       "      <td>nonsmoker</td>\n",
       "      <td>not white</td>\n",
       "    </tr>\n",
       "    <tr>\n",
       "      <th>1</th>\n",
       "      <td>NaN</td>\n",
       "      <td>14</td>\n",
       "      <td>younger mom</td>\n",
       "      <td>42.0</td>\n",
       "      <td>full term</td>\n",
       "      <td>15.0</td>\n",
       "      <td>not married</td>\n",
       "      <td>20.0</td>\n",
       "      <td>7.88</td>\n",
       "      <td>not low</td>\n",
       "      <td>male</td>\n",
       "      <td>nonsmoker</td>\n",
       "      <td>not white</td>\n",
       "    </tr>\n",
       "    <tr>\n",
       "      <th>2</th>\n",
       "      <td>19.0</td>\n",
       "      <td>15</td>\n",
       "      <td>younger mom</td>\n",
       "      <td>37.0</td>\n",
       "      <td>full term</td>\n",
       "      <td>11.0</td>\n",
       "      <td>not married</td>\n",
       "      <td>38.0</td>\n",
       "      <td>6.63</td>\n",
       "      <td>not low</td>\n",
       "      <td>female</td>\n",
       "      <td>nonsmoker</td>\n",
       "      <td>white</td>\n",
       "    </tr>\n",
       "    <tr>\n",
       "      <th>3</th>\n",
       "      <td>21.0</td>\n",
       "      <td>15</td>\n",
       "      <td>younger mom</td>\n",
       "      <td>41.0</td>\n",
       "      <td>full term</td>\n",
       "      <td>6.0</td>\n",
       "      <td>not married</td>\n",
       "      <td>34.0</td>\n",
       "      <td>8.00</td>\n",
       "      <td>not low</td>\n",
       "      <td>male</td>\n",
       "      <td>nonsmoker</td>\n",
       "      <td>white</td>\n",
       "    </tr>\n",
       "    <tr>\n",
       "      <th>4</th>\n",
       "      <td>NaN</td>\n",
       "      <td>15</td>\n",
       "      <td>younger mom</td>\n",
       "      <td>39.0</td>\n",
       "      <td>full term</td>\n",
       "      <td>9.0</td>\n",
       "      <td>not married</td>\n",
       "      <td>27.0</td>\n",
       "      <td>6.38</td>\n",
       "      <td>not low</td>\n",
       "      <td>female</td>\n",
       "      <td>nonsmoker</td>\n",
       "      <td>not white</td>\n",
       "    </tr>\n",
       "    <tr>\n",
       "      <th>...</th>\n",
       "      <td>...</td>\n",
       "      <td>...</td>\n",
       "      <td>...</td>\n",
       "      <td>...</td>\n",
       "      <td>...</td>\n",
       "      <td>...</td>\n",
       "      <td>...</td>\n",
       "      <td>...</td>\n",
       "      <td>...</td>\n",
       "      <td>...</td>\n",
       "      <td>...</td>\n",
       "      <td>...</td>\n",
       "      <td>...</td>\n",
       "    </tr>\n",
       "    <tr>\n",
       "      <th>95</th>\n",
       "      <td>21.0</td>\n",
       "      <td>19</td>\n",
       "      <td>younger mom</td>\n",
       "      <td>39.0</td>\n",
       "      <td>full term</td>\n",
       "      <td>15.0</td>\n",
       "      <td>not married</td>\n",
       "      <td>38.0</td>\n",
       "      <td>6.88</td>\n",
       "      <td>not low</td>\n",
       "      <td>male</td>\n",
       "      <td>nonsmoker</td>\n",
       "      <td>not white</td>\n",
       "    </tr>\n",
       "    <tr>\n",
       "      <th>96</th>\n",
       "      <td>NaN</td>\n",
       "      <td>19</td>\n",
       "      <td>younger mom</td>\n",
       "      <td>38.0</td>\n",
       "      <td>full term</td>\n",
       "      <td>3.0</td>\n",
       "      <td>not married</td>\n",
       "      <td>36.0</td>\n",
       "      <td>6.75</td>\n",
       "      <td>not low</td>\n",
       "      <td>female</td>\n",
       "      <td>smoker</td>\n",
       "      <td>not white</td>\n",
       "    </tr>\n",
       "    <tr>\n",
       "      <th>97</th>\n",
       "      <td>19.0</td>\n",
       "      <td>19</td>\n",
       "      <td>younger mom</td>\n",
       "      <td>37.0</td>\n",
       "      <td>full term</td>\n",
       "      <td>0.0</td>\n",
       "      <td>not married</td>\n",
       "      <td>12.0</td>\n",
       "      <td>6.94</td>\n",
       "      <td>not low</td>\n",
       "      <td>male</td>\n",
       "      <td>smoker</td>\n",
       "      <td>white</td>\n",
       "    </tr>\n",
       "    <tr>\n",
       "      <th>98</th>\n",
       "      <td>NaN</td>\n",
       "      <td>19</td>\n",
       "      <td>younger mom</td>\n",
       "      <td>39.0</td>\n",
       "      <td>full term</td>\n",
       "      <td>11.0</td>\n",
       "      <td>not married</td>\n",
       "      <td>48.0</td>\n",
       "      <td>8.38</td>\n",
       "      <td>not low</td>\n",
       "      <td>female</td>\n",
       "      <td>smoker</td>\n",
       "      <td>not white</td>\n",
       "    </tr>\n",
       "    <tr>\n",
       "      <th>99</th>\n",
       "      <td>NaN</td>\n",
       "      <td>19</td>\n",
       "      <td>younger mom</td>\n",
       "      <td>39.0</td>\n",
       "      <td>full term</td>\n",
       "      <td>7.0</td>\n",
       "      <td>not married</td>\n",
       "      <td>0.0</td>\n",
       "      <td>7.31</td>\n",
       "      <td>not low</td>\n",
       "      <td>male</td>\n",
       "      <td>smoker</td>\n",
       "      <td>not white</td>\n",
       "    </tr>\n",
       "  </tbody>\n",
       "</table>\n",
       "<p>100 rows × 13 columns</p>\n",
       "</div>"
      ],
      "text/plain": [
       "    fage  mage       mature  weeks     premie  visits      marital  gained  \\\n",
       "0    NaN    13  younger mom   39.0  full term    10.0  not married    38.0   \n",
       "1    NaN    14  younger mom   42.0  full term    15.0  not married    20.0   \n",
       "2   19.0    15  younger mom   37.0  full term    11.0  not married    38.0   \n",
       "3   21.0    15  younger mom   41.0  full term     6.0  not married    34.0   \n",
       "4    NaN    15  younger mom   39.0  full term     9.0  not married    27.0   \n",
       "..   ...   ...          ...    ...        ...     ...          ...     ...   \n",
       "95  21.0    19  younger mom   39.0  full term    15.0  not married    38.0   \n",
       "96   NaN    19  younger mom   38.0  full term     3.0  not married    36.0   \n",
       "97  19.0    19  younger mom   37.0  full term     0.0  not married    12.0   \n",
       "98   NaN    19  younger mom   39.0  full term    11.0  not married    48.0   \n",
       "99   NaN    19  younger mom   39.0  full term     7.0  not married     0.0   \n",
       "\n",
       "    weight lowbirthweight  gender      habit   whitemom  \n",
       "0     7.63        not low    male  nonsmoker  not white  \n",
       "1     7.88        not low    male  nonsmoker  not white  \n",
       "2     6.63        not low  female  nonsmoker      white  \n",
       "3     8.00        not low    male  nonsmoker      white  \n",
       "4     6.38        not low  female  nonsmoker  not white  \n",
       "..     ...            ...     ...        ...        ...  \n",
       "95    6.88        not low    male  nonsmoker  not white  \n",
       "96    6.75        not low  female     smoker  not white  \n",
       "97    6.94        not low    male     smoker      white  \n",
       "98    8.38        not low  female     smoker  not white  \n",
       "99    7.31        not low    male     smoker  not white  \n",
       "\n",
       "[100 rows x 13 columns]"
      ]
     },
     "execution_count": 110,
     "metadata": {},
     "output_type": "execute_result"
    }
   ],
   "source": [
    "df.head(100)"
   ]
  },
  {
   "cell_type": "code",
   "execution_count": 111,
   "metadata": {
    "ExecuteTime": {
     "end_time": "2022-01-12T14:06:27.902010Z",
     "start_time": "2022-01-12T14:06:27.890025Z"
    }
   },
   "outputs": [
    {
     "name": "stdout",
     "output_type": "stream",
     "text": [
      "<class 'pandas.core.frame.DataFrame'>\n",
      "RangeIndex: 1000 entries, 0 to 999\n",
      "Data columns (total 13 columns):\n",
      " #   Column          Non-Null Count  Dtype  \n",
      "---  ------          --------------  -----  \n",
      " 0   fage            829 non-null    float64\n",
      " 1   mage            1000 non-null   int64  \n",
      " 2   mature          1000 non-null   object \n",
      " 3   weeks           998 non-null    float64\n",
      " 4   premie          998 non-null    object \n",
      " 5   visits          991 non-null    float64\n",
      " 6   marital         999 non-null    object \n",
      " 7   gained          973 non-null    float64\n",
      " 8   weight          1000 non-null   float64\n",
      " 9   lowbirthweight  1000 non-null   object \n",
      " 10  gender          1000 non-null   object \n",
      " 11  habit           999 non-null    object \n",
      " 12  whitemom        998 non-null    object \n",
      "dtypes: float64(5), int64(1), object(7)\n",
      "memory usage: 101.7+ KB\n"
     ]
    }
   ],
   "source": [
    "df.info()"
   ]
  },
  {
   "cell_type": "code",
   "execution_count": 112,
   "metadata": {
    "ExecuteTime": {
     "end_time": "2022-01-12T14:06:27.918048Z",
     "start_time": "2022-01-12T14:06:27.904031Z"
    }
   },
   "outputs": [],
   "source": [
    "df_nonsmoker = df[df['habit'] == 'nonsmoker']"
   ]
  },
  {
   "cell_type": "code",
   "execution_count": 113,
   "metadata": {
    "ExecuteTime": {
     "end_time": "2022-01-12T14:06:27.934044Z",
     "start_time": "2022-01-12T14:06:27.921011Z"
    }
   },
   "outputs": [],
   "source": [
    "df_smoker = df[df['habit'] == 'smoker']"
   ]
  },
  {
   "cell_type": "code",
   "execution_count": 129,
   "metadata": {
    "ExecuteTime": {
     "end_time": "2022-01-12T14:07:51.843335Z",
     "start_time": "2022-01-12T14:07:51.811610Z"
    }
   },
   "outputs": [
    {
     "data": {
      "text/html": [
       "<div>\n",
       "<style scoped>\n",
       "    .dataframe tbody tr th:only-of-type {\n",
       "        vertical-align: middle;\n",
       "    }\n",
       "\n",
       "    .dataframe tbody tr th {\n",
       "        vertical-align: top;\n",
       "    }\n",
       "\n",
       "    .dataframe thead th {\n",
       "        text-align: right;\n",
       "    }\n",
       "</style>\n",
       "<table border=\"1\" class=\"dataframe\">\n",
       "  <thead>\n",
       "    <tr style=\"text-align: right;\">\n",
       "      <th></th>\n",
       "      <th>fage</th>\n",
       "      <th>mage</th>\n",
       "      <th>mature</th>\n",
       "      <th>weeks</th>\n",
       "      <th>premie</th>\n",
       "      <th>visits</th>\n",
       "      <th>marital</th>\n",
       "      <th>gained</th>\n",
       "      <th>weight</th>\n",
       "      <th>lowbirthweight</th>\n",
       "      <th>gender</th>\n",
       "      <th>habit</th>\n",
       "      <th>whitemom</th>\n",
       "    </tr>\n",
       "  </thead>\n",
       "  <tbody>\n",
       "    <tr>\n",
       "      <th>0</th>\n",
       "      <td>NaN</td>\n",
       "      <td>13</td>\n",
       "      <td>younger mom</td>\n",
       "      <td>39.0</td>\n",
       "      <td>full term</td>\n",
       "      <td>10.0</td>\n",
       "      <td>not married</td>\n",
       "      <td>38.0</td>\n",
       "      <td>7.63</td>\n",
       "      <td>not low</td>\n",
       "      <td>male</td>\n",
       "      <td>nonsmoker</td>\n",
       "      <td>not white</td>\n",
       "    </tr>\n",
       "    <tr>\n",
       "      <th>1</th>\n",
       "      <td>NaN</td>\n",
       "      <td>14</td>\n",
       "      <td>younger mom</td>\n",
       "      <td>42.0</td>\n",
       "      <td>full term</td>\n",
       "      <td>15.0</td>\n",
       "      <td>not married</td>\n",
       "      <td>20.0</td>\n",
       "      <td>7.88</td>\n",
       "      <td>not low</td>\n",
       "      <td>male</td>\n",
       "      <td>nonsmoker</td>\n",
       "      <td>not white</td>\n",
       "    </tr>\n",
       "    <tr>\n",
       "      <th>2</th>\n",
       "      <td>19.0</td>\n",
       "      <td>15</td>\n",
       "      <td>younger mom</td>\n",
       "      <td>37.0</td>\n",
       "      <td>full term</td>\n",
       "      <td>11.0</td>\n",
       "      <td>not married</td>\n",
       "      <td>38.0</td>\n",
       "      <td>6.63</td>\n",
       "      <td>not low</td>\n",
       "      <td>female</td>\n",
       "      <td>nonsmoker</td>\n",
       "      <td>white</td>\n",
       "    </tr>\n",
       "    <tr>\n",
       "      <th>3</th>\n",
       "      <td>21.0</td>\n",
       "      <td>15</td>\n",
       "      <td>younger mom</td>\n",
       "      <td>41.0</td>\n",
       "      <td>full term</td>\n",
       "      <td>6.0</td>\n",
       "      <td>not married</td>\n",
       "      <td>34.0</td>\n",
       "      <td>8.00</td>\n",
       "      <td>not low</td>\n",
       "      <td>male</td>\n",
       "      <td>nonsmoker</td>\n",
       "      <td>white</td>\n",
       "    </tr>\n",
       "    <tr>\n",
       "      <th>4</th>\n",
       "      <td>NaN</td>\n",
       "      <td>15</td>\n",
       "      <td>younger mom</td>\n",
       "      <td>39.0</td>\n",
       "      <td>full term</td>\n",
       "      <td>9.0</td>\n",
       "      <td>not married</td>\n",
       "      <td>27.0</td>\n",
       "      <td>6.38</td>\n",
       "      <td>not low</td>\n",
       "      <td>female</td>\n",
       "      <td>nonsmoker</td>\n",
       "      <td>not white</td>\n",
       "    </tr>\n",
       "    <tr>\n",
       "      <th>...</th>\n",
       "      <td>...</td>\n",
       "      <td>...</td>\n",
       "      <td>...</td>\n",
       "      <td>...</td>\n",
       "      <td>...</td>\n",
       "      <td>...</td>\n",
       "      <td>...</td>\n",
       "      <td>...</td>\n",
       "      <td>...</td>\n",
       "      <td>...</td>\n",
       "      <td>...</td>\n",
       "      <td>...</td>\n",
       "      <td>...</td>\n",
       "    </tr>\n",
       "    <tr>\n",
       "      <th>995</th>\n",
       "      <td>47.0</td>\n",
       "      <td>42</td>\n",
       "      <td>mature mom</td>\n",
       "      <td>40.0</td>\n",
       "      <td>full term</td>\n",
       "      <td>10.0</td>\n",
       "      <td>married</td>\n",
       "      <td>26.0</td>\n",
       "      <td>8.44</td>\n",
       "      <td>not low</td>\n",
       "      <td>male</td>\n",
       "      <td>nonsmoker</td>\n",
       "      <td>not white</td>\n",
       "    </tr>\n",
       "    <tr>\n",
       "      <th>996</th>\n",
       "      <td>34.0</td>\n",
       "      <td>42</td>\n",
       "      <td>mature mom</td>\n",
       "      <td>38.0</td>\n",
       "      <td>full term</td>\n",
       "      <td>18.0</td>\n",
       "      <td>married</td>\n",
       "      <td>20.0</td>\n",
       "      <td>6.19</td>\n",
       "      <td>not low</td>\n",
       "      <td>female</td>\n",
       "      <td>nonsmoker</td>\n",
       "      <td>white</td>\n",
       "    </tr>\n",
       "    <tr>\n",
       "      <th>997</th>\n",
       "      <td>39.0</td>\n",
       "      <td>45</td>\n",
       "      <td>mature mom</td>\n",
       "      <td>40.0</td>\n",
       "      <td>full term</td>\n",
       "      <td>15.0</td>\n",
       "      <td>married</td>\n",
       "      <td>32.0</td>\n",
       "      <td>6.94</td>\n",
       "      <td>not low</td>\n",
       "      <td>female</td>\n",
       "      <td>nonsmoker</td>\n",
       "      <td>white</td>\n",
       "    </tr>\n",
       "    <tr>\n",
       "      <th>998</th>\n",
       "      <td>55.0</td>\n",
       "      <td>46</td>\n",
       "      <td>mature mom</td>\n",
       "      <td>31.0</td>\n",
       "      <td>premie</td>\n",
       "      <td>8.0</td>\n",
       "      <td>married</td>\n",
       "      <td>25.0</td>\n",
       "      <td>4.56</td>\n",
       "      <td>low</td>\n",
       "      <td>female</td>\n",
       "      <td>nonsmoker</td>\n",
       "      <td>not white</td>\n",
       "    </tr>\n",
       "    <tr>\n",
       "      <th>999</th>\n",
       "      <td>45.0</td>\n",
       "      <td>50</td>\n",
       "      <td>mature mom</td>\n",
       "      <td>39.0</td>\n",
       "      <td>full term</td>\n",
       "      <td>14.0</td>\n",
       "      <td>married</td>\n",
       "      <td>23.0</td>\n",
       "      <td>7.13</td>\n",
       "      <td>not low</td>\n",
       "      <td>female</td>\n",
       "      <td>nonsmoker</td>\n",
       "      <td>white</td>\n",
       "    </tr>\n",
       "  </tbody>\n",
       "</table>\n",
       "<p>873 rows × 13 columns</p>\n",
       "</div>"
      ],
      "text/plain": [
       "     fage  mage       mature  weeks     premie  visits      marital  gained  \\\n",
       "0     NaN    13  younger mom   39.0  full term    10.0  not married    38.0   \n",
       "1     NaN    14  younger mom   42.0  full term    15.0  not married    20.0   \n",
       "2    19.0    15  younger mom   37.0  full term    11.0  not married    38.0   \n",
       "3    21.0    15  younger mom   41.0  full term     6.0  not married    34.0   \n",
       "4     NaN    15  younger mom   39.0  full term     9.0  not married    27.0   \n",
       "..    ...   ...          ...    ...        ...     ...          ...     ...   \n",
       "995  47.0    42   mature mom   40.0  full term    10.0      married    26.0   \n",
       "996  34.0    42   mature mom   38.0  full term    18.0      married    20.0   \n",
       "997  39.0    45   mature mom   40.0  full term    15.0      married    32.0   \n",
       "998  55.0    46   mature mom   31.0     premie     8.0      married    25.0   \n",
       "999  45.0    50   mature mom   39.0  full term    14.0      married    23.0   \n",
       "\n",
       "     weight lowbirthweight  gender      habit   whitemom  \n",
       "0      7.63        not low    male  nonsmoker  not white  \n",
       "1      7.88        not low    male  nonsmoker  not white  \n",
       "2      6.63        not low  female  nonsmoker      white  \n",
       "3      8.00        not low    male  nonsmoker      white  \n",
       "4      6.38        not low  female  nonsmoker  not white  \n",
       "..      ...            ...     ...        ...        ...  \n",
       "995    8.44        not low    male  nonsmoker  not white  \n",
       "996    6.19        not low  female  nonsmoker      white  \n",
       "997    6.94        not low  female  nonsmoker      white  \n",
       "998    4.56            low  female  nonsmoker  not white  \n",
       "999    7.13        not low  female  nonsmoker      white  \n",
       "\n",
       "[873 rows x 13 columns]"
      ]
     },
     "execution_count": 129,
     "metadata": {},
     "output_type": "execute_result"
    }
   ],
   "source": [
    "df_nonsmoker"
   ]
  },
  {
   "cell_type": "code",
   "execution_count": 114,
   "metadata": {
    "ExecuteTime": {
     "end_time": "2022-01-12T14:06:28.138446Z",
     "start_time": "2022-01-12T14:06:27.936010Z"
    }
   },
   "outputs": [
    {
     "data": {
      "image/png": "[encoded data removed]",
      "text/plain": [
       "<Figure size 576x432 with 2 Axes>"
      ]
     },
     "metadata": {
      "needs_background": "light"
     },
     "output_type": "display_data"
    }
   ],
   "source": [
    "fig, (ax1, ax2) = plt.subplots(1, 2, figsize=(8, 6))\n",
    "\n",
    "ax1.hist(df_nonsmoker['weight'])\n",
    "ax1.set_title('Non-Smoker Moms')\n",
    "\n",
    "ax2.hist(df_smoker['weight'])\n",
    "ax2.set_title('Smoker Moms')\n",
    "\n",
    "fig.tight_layout()"
   ]
  },
  {
   "cell_type": "code",
   "execution_count": 115,
   "metadata": {
    "ExecuteTime": {
     "end_time": "2022-01-12T14:06:28.170484Z",
     "start_time": "2022-01-12T14:06:28.140358Z"
    }
   },
   "outputs": [
    {
     "data": {
      "text/html": [
       "<div>\n",
       "<style scoped>\n",
       "    .dataframe tbody tr th:only-of-type {\n",
       "        vertical-align: middle;\n",
       "    }\n",
       "\n",
       "    .dataframe tbody tr th {\n",
       "        vertical-align: top;\n",
       "    }\n",
       "\n",
       "    .dataframe thead th {\n",
       "        text-align: right;\n",
       "    }\n",
       "</style>\n",
       "<table border=\"1\" class=\"dataframe\">\n",
       "  <thead>\n",
       "    <tr style=\"text-align: right;\">\n",
       "      <th></th>\n",
       "      <th>count</th>\n",
       "      <th>mean</th>\n",
       "      <th>std</th>\n",
       "      <th>min</th>\n",
       "      <th>25%</th>\n",
       "      <th>50%</th>\n",
       "      <th>75%</th>\n",
       "      <th>max</th>\n",
       "    </tr>\n",
       "    <tr>\n",
       "      <th>habit</th>\n",
       "      <th></th>\n",
       "      <th></th>\n",
       "      <th></th>\n",
       "      <th></th>\n",
       "      <th></th>\n",
       "      <th></th>\n",
       "      <th></th>\n",
       "      <th></th>\n",
       "    </tr>\n",
       "  </thead>\n",
       "  <tbody>\n",
       "    <tr>\n",
       "      <th>nonsmoker</th>\n",
       "      <td>873.0</td>\n",
       "      <td>7.144273</td>\n",
       "      <td>1.518681</td>\n",
       "      <td>1.00</td>\n",
       "      <td>6.4400</td>\n",
       "      <td>7.31</td>\n",
       "      <td>8.060</td>\n",
       "      <td>11.75</td>\n",
       "    </tr>\n",
       "    <tr>\n",
       "      <th>smoker</th>\n",
       "      <td>126.0</td>\n",
       "      <td>6.828730</td>\n",
       "      <td>1.386180</td>\n",
       "      <td>1.69</td>\n",
       "      <td>6.0775</td>\n",
       "      <td>7.06</td>\n",
       "      <td>7.735</td>\n",
       "      <td>9.19</td>\n",
       "    </tr>\n",
       "  </tbody>\n",
       "</table>\n",
       "</div>"
      ],
      "text/plain": [
       "           count      mean       std   min     25%   50%    75%    max\n",
       "habit                                                                 \n",
       "nonsmoker  873.0  7.144273  1.518681  1.00  6.4400  7.31  8.060  11.75\n",
       "smoker     126.0  6.828730  1.386180  1.69  6.0775  7.06  7.735   9.19"
      ]
     },
     "execution_count": 115,
     "metadata": {},
     "output_type": "execute_result"
    }
   ],
   "source": [
    "df.groupby('habit')['weight'].describe()"
   ]
  },
  {
   "cell_type": "code",
   "execution_count": 116,
   "metadata": {
    "ExecuteTime": {
     "end_time": "2022-01-12T14:06:28.186358Z",
     "start_time": "2022-01-12T14:06:28.172350Z"
    }
   },
   "outputs": [],
   "source": [
    "ns_mean = 7.144273\n",
    "ns_std = 1.518681\n",
    "ns_count = 873.0\n",
    "\n",
    "s_mean = 6.828730\n",
    "s_std = 1.386180\n",
    "s_count = 126"
   ]
  },
  {
   "cell_type": "code",
   "execution_count": 117,
   "metadata": {
    "ExecuteTime": {
     "end_time": "2022-01-12T14:06:28.346276Z",
     "start_time": "2022-01-12T14:06:28.188361Z"
    }
   },
   "outputs": [
    {
     "data": {
      "image/png": "[encoded data removed]",
      "text/plain": [
       "<Figure size 576x432 with 2 Axes>"
      ]
     },
     "metadata": {
      "needs_background": "light"
     },
     "output_type": "display_data"
    }
   ],
   "source": [
    "fig, (ax1, ax2) = plt.subplots(1, 2, figsize=(8, 6))\n",
    "\n",
    "ax1.boxplot(df_nonsmoker['weight'])\n",
    "ax1.set_title('Non-Smoker Moms')\n",
    "\n",
    "ax2.boxplot(df_smoker['weight'])\n",
    "ax2.set_title('Smoker Moms')\n",
    "\n",
    "fig.tight_layout()"
   ]
  },
  {
   "cell_type": "code",
   "execution_count": 118,
   "metadata": {
    "ExecuteTime": {
     "end_time": "2022-01-12T14:06:28.362278Z",
     "start_time": "2022-01-12T14:06:28.347276Z"
    }
   },
   "outputs": [
    {
     "name": "stdout",
     "output_type": "stream",
     "text": [
      "1.62\n"
     ]
    }
   ],
   "source": [
    "# Non-Smokers\n",
    "\n",
    "\n",
    "# First quartile (Q1)\n",
    "Q1 = np.percentile(df_nonsmoker['weight'], 25, interpolation = 'midpoint')\n",
    "  \n",
    "# Third quartile (Q3)\n",
    "Q3 = np.percentile(df_nonsmoker['weight'], 75, interpolation = 'midpoint')\n",
    "  \n",
    "# Interquaritle range (IQR)\n",
    "IQR = Q3 - Q1\n",
    " \n",
    "print(IQR)"
   ]
  },
  {
   "cell_type": "code",
   "execution_count": 119,
   "metadata": {
    "ExecuteTime": {
     "end_time": "2022-01-12T14:06:28.378279Z",
     "start_time": "2022-01-12T14:06:28.363275Z"
    }
   },
   "outputs": [
    {
     "name": "stdout",
     "output_type": "stream",
     "text": [
      "1.58 12.920000000000002\n"
     ]
    }
   ],
   "source": [
    "# extreme-outliers\n",
    "\n",
    "# lower-bound\n",
    "l_b = Q1 - 3 * IQR\n",
    "\n",
    "# upper-bound\n",
    "u_b = Q3 + 3 * IQR\n",
    "\n",
    "print(l_b, u_b)"
   ]
  },
  {
   "cell_type": "code",
   "execution_count": 120,
   "metadata": {
    "ExecuteTime": {
     "end_time": "2022-01-12T14:06:28.394275Z",
     "start_time": "2022-01-12T14:06:28.379276Z"
    }
   },
   "outputs": [
    {
     "name": "stdout",
     "output_type": "stream",
     "text": [
      "1.6250000000000009\n"
     ]
    }
   ],
   "source": [
    "# Smokers\n",
    "\n",
    "\n",
    "# First quartile (Q1)\n",
    "Q1 = np.percentile(df_smoker['weight'], 25, interpolation = 'midpoint')\n",
    "  \n",
    "# Third quartile (Q3)\n",
    "Q3 = np.percentile(df_smoker['weight'], 75, interpolation = 'midpoint')\n",
    "  \n",
    "# Interquaritle range (IQR)\n",
    "IQR = Q3 - Q1\n",
    " \n",
    "print(IQR)"
   ]
  },
  {
   "cell_type": "code",
   "execution_count": 121,
   "metadata": {
    "ExecuteTime": {
     "end_time": "2022-01-12T14:06:28.410277Z",
     "start_time": "2022-01-12T14:06:28.395276Z"
    }
   },
   "outputs": [
    {
     "name": "stdout",
     "output_type": "stream",
     "text": [
      "1.219999999999997 12.595000000000002\n"
     ]
    }
   ],
   "source": [
    "# extreme-outliers\n",
    "\n",
    "# lower-bound\n",
    "l_b = Q1 - 3 * IQR\n",
    "\n",
    "# upper-bound\n",
    "u_b = Q3 + 3 * IQR\n",
    "\n",
    "print(l_b, u_b)"
   ]
  },
  {
   "cell_type": "markdown",
   "metadata": {},
   "source": [
    "**CONDITIONS FOR THE t-distribution**\n",
    "\n",
    "1. Independence\n",
    "2. Normality\n",
    "    * $n \\lt 30$, no clear outliers\n",
    "    * $n \\ge 30$, no extreme outliers "
   ]
  },
  {
   "cell_type": "markdown",
   "metadata": {},
   "source": [
    "**Hypothesis**\n",
    "\n",
    "$H_o = 0, \\text{there's no difference in the avg. birth weights for newborns}\\\\$\n",
    "$H_A \\neq 0, \\text{there's difference in the avg. birth weights for newborns}$"
   ]
  },
  {
   "cell_type": "code",
   "execution_count": 122,
   "metadata": {
    "ExecuteTime": {
     "end_time": "2022-01-12T14:06:28.426013Z",
     "start_time": "2022-01-12T14:06:28.411278Z"
    }
   },
   "outputs": [],
   "source": [
    "# null-hypothesis\n",
    "h_0 = 0"
   ]
  },
  {
   "cell_type": "code",
   "execution_count": 123,
   "metadata": {
    "ExecuteTime": {
     "end_time": "2022-01-12T14:06:28.441276Z",
     "start_time": "2022-01-12T14:06:28.428017Z"
    }
   },
   "outputs": [
    {
     "name": "stdout",
     "output_type": "stream",
     "text": [
      "0.3155429999999999\n"
     ]
    }
   ],
   "source": [
    "# difference in mean\n",
    "x_bar = ns_mean - s_mean\n",
    "print(x_bar)"
   ]
  },
  {
   "cell_type": "markdown",
   "metadata": {},
   "source": [
    "**standard error**\n",
    "\n",
    "$SE = \\sqrt{\\frac{\\sigma_1^2}{n_1} + \\frac{\\sigma_2^2}{n_2}}$"
   ]
  },
  {
   "cell_type": "code",
   "execution_count": 124,
   "metadata": {
    "ExecuteTime": {
     "end_time": "2022-01-12T14:06:28.456912Z",
     "start_time": "2022-01-12T14:06:28.442212Z"
    }
   },
   "outputs": [
    {
     "name": "stdout",
     "output_type": "stream",
     "text": [
      "0.1337605153577917\n"
     ]
    }
   ],
   "source": [
    "# std err\n",
    "std_err = math.sqrt((ns_std**2)/ns_count + (s_std**2)/s_count)\n",
    "print(std_err)"
   ]
  },
  {
   "cell_type": "markdown",
   "metadata": {},
   "source": [
    "**t-statistic**\n",
    "\n",
    "$t = \\frac{\\bar{x} - \\mu}{SE}$"
   ]
  },
  {
   "cell_type": "code",
   "execution_count": 125,
   "metadata": {
    "ExecuteTime": {
     "end_time": "2022-01-12T14:06:28.472994Z",
     "start_time": "2022-01-12T14:06:28.458923Z"
    }
   },
   "outputs": [
    {
     "name": "stdout",
     "output_type": "stream",
     "text": [
      "2.359014535462607\n"
     ]
    }
   ],
   "source": [
    "# t-statistic\n",
    "t = (x_bar - h_0)/std_err\n",
    "print(t)"
   ]
  },
  {
   "cell_type": "markdown",
   "metadata": {},
   "source": [
    "**degrees of freedom**\n",
    "\n",
    "$df = n - 1$"
   ]
  },
  {
   "cell_type": "code",
   "execution_count": 126,
   "metadata": {
    "ExecuteTime": {
     "end_time": "2022-01-12T14:06:28.489001Z",
     "start_time": "2022-01-12T14:06:28.473835Z"
    }
   },
   "outputs": [
    {
     "name": "stdout",
     "output_type": "stream",
     "text": [
      "125\n"
     ]
    }
   ],
   "source": [
    "# degree of freedom\n",
    "dof = ns_count - 1 if ns_count - 1 < s_count - 1 else s_count - 1\n",
    "print(dof)"
   ]
  },
  {
   "cell_type": "markdown",
   "metadata": {
    "ExecuteTime": {
     "end_time": "2022-01-10T12:45:33.152040Z",
     "start_time": "2022-01-10T12:45:33.137864Z"
    }
   },
   "source": [
    "***p-value***"
   ]
  },
  {
   "cell_type": "code",
   "execution_count": 127,
   "metadata": {
    "ExecuteTime": {
     "end_time": "2022-01-12T14:06:28.504951Z",
     "start_time": "2022-01-12T14:06:28.489961Z"
    }
   },
   "outputs": [
    {
     "name": "stdout",
     "output_type": "stream",
     "text": [
      "0.019823038860634336\n"
     ]
    }
   ],
   "source": [
    "# p-value\n",
    "result = stats.t.sf(abs(2.36), df=125)*2\n",
    "print(result)"
   ]
  },
  {
   "cell_type": "markdown",
   "metadata": {},
   "source": [
    "***Computationally***"
   ]
  },
  {
   "cell_type": "code",
   "execution_count": 128,
   "metadata": {
    "ExecuteTime": {
     "end_time": "2022-01-12T14:06:28.520966Z",
     "start_time": "2022-01-12T14:06:28.505953Z"
    }
   },
   "outputs": [
    {
     "data": {
      "text/plain": [
       "Ttest_indResult(statistic=2.2033962812961625, pvalue=0.027794878776408287)"
      ]
     },
     "execution_count": 128,
     "metadata": {},
     "output_type": "execute_result"
    }
   ],
   "source": [
    "stats.ttest_ind(df_nonsmoker['weight'], df_smoker['weight'])"
   ]
  },
  {
   "cell_type": "code",
   "execution_count": null,
   "metadata": {},
   "outputs": [],
   "source": []
  }
 ],
 "metadata": {
  "colab": {
   "collapsed_sections": [],
   "name": "5.3 Hypothesis testing for a proportion",
   "provenance": []
  },
  "kernelspec": {
   "display_name": "Python 3 (ipykernel)",
   "language": "python",
   "name": "python3"
  },
  "language_info": {
   "codemirror_mode": {
    "name": "ipython",
    "version": 3
   },
   "file_extension": ".py",
   "mimetype": "text/x-python",
   "name": "python",
   "nbconvert_exporter": "python",
   "pygments_lexer": "ipython3",
   "version": "3.7.9"
  }
 },
 "nbformat": 4,
 "nbformat_minor": 1
}
