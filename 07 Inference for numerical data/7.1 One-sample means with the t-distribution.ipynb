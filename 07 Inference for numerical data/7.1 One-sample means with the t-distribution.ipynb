{
 "cells": [
  {
   "cell_type": "code",
   "execution_count": 1,
   "metadata": {
    "ExecuteTime": {
     "end_time": "2022-01-14T17:34:06.550245Z",
     "start_time": "2022-01-14T17:34:04.966265Z"
    },
    "id": "2njiu1i6PqH6"
   },
   "outputs": [],
   "source": [
    "import numpy as np\n",
    "import pandas as pd\n",
    "import matplotlib.pyplot as plt\n",
    "import seaborn as sns\n",
    "import math\n",
    "import scipy.stats as stats\n",
    "from scipy.stats import chi2_contingency"
   ]
  },
  {
   "cell_type": "markdown",
   "metadata": {},
   "source": [
    "\\begin{array}{ c|c|c|c|c } \n",
    " \\hline\n",
    " \\text{n} & \\bar{x} & s & \\text{min} & \\text{max} \\\\\n",
    " \\hline\n",
    " \\text{25} & 7.73 & 0.77 & 6.17 & 9.78 \\\\\n",
    " \\hline\n",
    "\\end{array}"
   ]
  },
  {
   "cell_type": "markdown",
   "metadata": {},
   "source": [
    "**Hypothesis**\n",
    "\n",
    "$H_o = 8, \\text{they sleep 8 hrs on average}\\\\$\n",
    "$H_A \\neq 8, \\text{they do not sleep 8 hrs on average}$"
   ]
  },
  {
   "cell_type": "code",
   "execution_count": 2,
   "metadata": {
    "ExecuteTime": {
     "end_time": "2022-01-14T17:34:06.565245Z",
     "start_time": "2022-01-14T17:34:06.552246Z"
    }
   },
   "outputs": [],
   "source": [
    "# null-hypothesis\n",
    "h_0 = 8"
   ]
  },
  {
   "cell_type": "markdown",
   "metadata": {},
   "source": [
    "**CONDITIONS FOR THE t-distribution**\n",
    "\n",
    "1. Independence\n",
    "2. Normality\n",
    "    * $n \\lt 30$, no clear outliers\n",
    "    * $n \\ge 30$, no extreme outliers "
   ]
  },
  {
   "cell_type": "code",
   "execution_count": 3,
   "metadata": {
    "ExecuteTime": {
     "end_time": "2022-01-14T17:34:06.580246Z",
     "start_time": "2022-01-14T17:34:06.566247Z"
    }
   },
   "outputs": [
    {
     "name": "stdout",
     "output_type": "stream",
     "text": [
      "10.040000000000001 5.42\n"
     ]
    }
   ],
   "source": [
    "# identify outliers\n",
    "x_bar = 7.73\n",
    "s = 0.77\n",
    "n = 25\n",
    "\n",
    "max_val = x_bar + 3 * s\n",
    "min_val = x_bar - 3 * s\n",
    "\n",
    "print(max_val, min_val)"
   ]
  },
  {
   "cell_type": "markdown",
   "metadata": {},
   "source": [
    "**standard error**\n",
    "\n",
    "$SE = \\frac{\\sigma}{\\sqrt{n}} \\approx \\frac{s}{\\sqrt{n}}$"
   ]
  },
  {
   "cell_type": "code",
   "execution_count": 4,
   "metadata": {
    "ExecuteTime": {
     "end_time": "2022-01-14T17:34:06.595246Z",
     "start_time": "2022-01-14T17:34:06.582248Z"
    }
   },
   "outputs": [
    {
     "name": "stdout",
     "output_type": "stream",
     "text": [
      "0.154\n"
     ]
    }
   ],
   "source": [
    "# std err\n",
    "std_err = s / math.sqrt(n)\n",
    "print(std_err)"
   ]
  },
  {
   "cell_type": "markdown",
   "metadata": {},
   "source": [
    "**t-statistic**\n",
    "\n",
    "$t = \\frac{\\bar{x} - \\mu}{SE}$"
   ]
  },
  {
   "cell_type": "code",
   "execution_count": 5,
   "metadata": {
    "ExecuteTime": {
     "end_time": "2022-01-14T17:34:06.610247Z",
     "start_time": "2022-01-14T17:34:06.597249Z"
    }
   },
   "outputs": [
    {
     "name": "stdout",
     "output_type": "stream",
     "text": [
      "-1.7532467532467506\n"
     ]
    }
   ],
   "source": [
    "# t-statistic\n",
    "t = (x_bar - h_0)/std_err\n",
    "print(t)"
   ]
  },
  {
   "cell_type": "markdown",
   "metadata": {},
   "source": [
    "**degrees of freedom**\n",
    "\n",
    "$df = n - 1$"
   ]
  },
  {
   "cell_type": "code",
   "execution_count": 6,
   "metadata": {
    "ExecuteTime": {
     "end_time": "2022-01-14T17:34:06.625247Z",
     "start_time": "2022-01-14T17:34:06.613247Z"
    }
   },
   "outputs": [
    {
     "name": "stdout",
     "output_type": "stream",
     "text": [
      "24\n"
     ]
    }
   ],
   "source": [
    "# degree of freedom\n",
    "dof = n - 1\n",
    "print(dof)"
   ]
  },
  {
   "cell_type": "markdown",
   "metadata": {
    "ExecuteTime": {
     "end_time": "2022-01-10T12:45:33.152040Z",
     "start_time": "2022-01-10T12:45:33.137864Z"
    }
   },
   "source": [
    "***p-value***"
   ]
  },
  {
   "cell_type": "code",
   "execution_count": 7,
   "metadata": {
    "ExecuteTime": {
     "end_time": "2022-01-14T17:34:06.640246Z",
     "start_time": "2022-01-14T17:34:06.627302Z"
    }
   },
   "outputs": [
    {
     "name": "stdout",
     "output_type": "stream",
     "text": [
      "0.09232522846059198\n"
     ]
    }
   ],
   "source": [
    "# p-value\n",
    "result = stats.t.sf(abs(t), df=dof)*2\n",
    "print(result)"
   ]
  }
 ],
 "metadata": {
  "colab": {
   "collapsed_sections": [],
   "name": "5.3 Hypothesis testing for a proportion",
   "provenance": []
  },
  "kernelspec": {
   "display_name": "Python 3 (ipykernel)",
   "language": "python",
   "name": "python3"
  },
  "language_info": {
   "codemirror_mode": {
    "name": "ipython",
    "version": 3
   },
   "file_extension": ".py",
   "mimetype": "text/x-python",
   "name": "python",
   "nbconvert_exporter": "python",
   "pygments_lexer": "ipython3",
   "version": "3.7.9"
  }
 },
 "nbformat": 4,
 "nbformat_minor": 1
}
