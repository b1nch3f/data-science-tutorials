{
 "cells": [
  {
   "cell_type": "code",
   "execution_count": 111,
   "metadata": {
    "ExecuteTime": {
     "end_time": "2022-01-11T16:09:04.886753Z",
     "start_time": "2022-01-11T16:09:04.878753Z"
    },
    "id": "2njiu1i6PqH6"
   },
   "outputs": [],
   "source": [
    "import numpy as np\n",
    "import pandas as pd\n",
    "import matplotlib.pyplot as plt\n",
    "import seaborn as sns\n",
    "import math\n",
    "import scipy.stats as stats\n",
    "from scipy.stats import chi2_contingency"
   ]
  },
  {
   "cell_type": "code",
   "execution_count": 112,
   "metadata": {
    "ExecuteTime": {
     "end_time": "2022-01-11T16:09:04.901753Z",
     "start_time": "2022-01-11T16:09:04.888754Z"
    }
   },
   "outputs": [],
   "source": [
    "df = pd.read_csv('../data/textbooks.csv')"
   ]
  },
  {
   "cell_type": "code",
   "execution_count": 113,
   "metadata": {
    "ExecuteTime": {
     "end_time": "2022-01-11T16:09:04.917754Z",
     "start_time": "2022-01-11T16:09:04.903754Z"
    }
   },
   "outputs": [
    {
     "data": {
      "text/html": [
       "<div>\n",
       "<style scoped>\n",
       "    .dataframe tbody tr th:only-of-type {\n",
       "        vertical-align: middle;\n",
       "    }\n",
       "\n",
       "    .dataframe tbody tr th {\n",
       "        vertical-align: top;\n",
       "    }\n",
       "\n",
       "    .dataframe thead th {\n",
       "        text-align: right;\n",
       "    }\n",
       "</style>\n",
       "<table border=\"1\" class=\"dataframe\">\n",
       "  <thead>\n",
       "    <tr style=\"text-align: right;\">\n",
       "      <th></th>\n",
       "      <th>dept_abbr</th>\n",
       "      <th>course</th>\n",
       "      <th>isbn</th>\n",
       "      <th>ucla_new</th>\n",
       "      <th>amaz_new</th>\n",
       "      <th>more</th>\n",
       "      <th>diff</th>\n",
       "    </tr>\n",
       "  </thead>\n",
       "  <tbody>\n",
       "    <tr>\n",
       "      <th>0</th>\n",
       "      <td>Am Ind</td>\n",
       "      <td>C170</td>\n",
       "      <td>978-0803272620</td>\n",
       "      <td>27.67</td>\n",
       "      <td>27.95</td>\n",
       "      <td>Y</td>\n",
       "      <td>-0.28</td>\n",
       "    </tr>\n",
       "    <tr>\n",
       "      <th>1</th>\n",
       "      <td>Anthro</td>\n",
       "      <td>9</td>\n",
       "      <td>978-0030119194</td>\n",
       "      <td>40.59</td>\n",
       "      <td>31.14</td>\n",
       "      <td>Y</td>\n",
       "      <td>9.45</td>\n",
       "    </tr>\n",
       "    <tr>\n",
       "      <th>2</th>\n",
       "      <td>Anthro</td>\n",
       "      <td>135T</td>\n",
       "      <td>978-0300080643</td>\n",
       "      <td>31.68</td>\n",
       "      <td>32.00</td>\n",
       "      <td>Y</td>\n",
       "      <td>-0.32</td>\n",
       "    </tr>\n",
       "    <tr>\n",
       "      <th>3</th>\n",
       "      <td>Anthro</td>\n",
       "      <td>191HB</td>\n",
       "      <td>978-0226206813</td>\n",
       "      <td>16.00</td>\n",
       "      <td>11.52</td>\n",
       "      <td>Y</td>\n",
       "      <td>4.48</td>\n",
       "    </tr>\n",
       "    <tr>\n",
       "      <th>4</th>\n",
       "      <td>Art His</td>\n",
       "      <td>M102K</td>\n",
       "      <td>978-0892365999</td>\n",
       "      <td>18.95</td>\n",
       "      <td>14.21</td>\n",
       "      <td>Y</td>\n",
       "      <td>4.74</td>\n",
       "    </tr>\n",
       "  </tbody>\n",
       "</table>\n",
       "</div>"
      ],
      "text/plain": [
       "  dept_abbr course            isbn  ucla_new  amaz_new more  diff\n",
       "0    Am Ind   C170  978-0803272620     27.67     27.95    Y -0.28\n",
       "1    Anthro      9  978-0030119194     40.59     31.14    Y  9.45\n",
       "2    Anthro   135T  978-0300080643     31.68     32.00    Y -0.32\n",
       "3    Anthro  191HB  978-0226206813     16.00     11.52    Y  4.48\n",
       "4   Art His  M102K  978-0892365999     18.95     14.21    Y  4.74"
      ]
     },
     "execution_count": 113,
     "metadata": {},
     "output_type": "execute_result"
    }
   ],
   "source": [
    "df.head()"
   ]
  },
  {
   "cell_type": "code",
   "execution_count": 114,
   "metadata": {
    "ExecuteTime": {
     "end_time": "2022-01-11T16:09:04.933845Z",
     "start_time": "2022-01-11T16:09:04.920755Z"
    }
   },
   "outputs": [
    {
     "name": "stdout",
     "output_type": "stream",
     "text": [
      "<class 'pandas.core.frame.DataFrame'>\n",
      "RangeIndex: 73 entries, 0 to 72\n",
      "Data columns (total 7 columns):\n",
      " #   Column     Non-Null Count  Dtype  \n",
      "---  ------     --------------  -----  \n",
      " 0   dept_abbr  73 non-null     object \n",
      " 1   course     73 non-null     object \n",
      " 2   isbn       73 non-null     object \n",
      " 3   ucla_new   73 non-null     float64\n",
      " 4   amaz_new   73 non-null     float64\n",
      " 5   more       73 non-null     object \n",
      " 6   diff       73 non-null     float64\n",
      "dtypes: float64(3), object(4)\n",
      "memory usage: 4.1+ KB\n"
     ]
    }
   ],
   "source": [
    "df.info()"
   ]
  },
  {
   "cell_type": "code",
   "execution_count": 115,
   "metadata": {
    "ExecuteTime": {
     "end_time": "2022-01-11T16:09:05.044042Z",
     "start_time": "2022-01-11T16:09:04.934845Z"
    }
   },
   "outputs": [
    {
     "data": {
      "text/plain": [
       "Text(0, 0.5, 'Frequency')"
      ]
     },
     "execution_count": 115,
     "metadata": {},
     "output_type": "execute_result"
    },
    {
     "data": {
      "image/png": "[encoded data removed]",
      "text/plain": [
       "<Figure size 432x288 with 1 Axes>"
      ]
     },
     "metadata": {
      "needs_background": "light"
     },
     "output_type": "display_data"
    }
   ],
   "source": [
    "plt.hist(df['diff'])\n",
    "plt.xlabel(\"UCLA Bookstore Price − Amazon Price (USD)\")\n",
    "plt.ylabel(\"Frequency\")"
   ]
  },
  {
   "cell_type": "code",
   "execution_count": 116,
   "metadata": {
    "ExecuteTime": {
     "end_time": "2022-01-11T16:09:05.124030Z",
     "start_time": "2022-01-11T16:09:05.044998Z"
    }
   },
   "outputs": [
    {
     "data": {
      "image/png": "[encoded data removed]",
      "text/plain": [
       "<Figure size 864x576 with 1 Axes>"
      ]
     },
     "metadata": {
      "needs_background": "light"
     },
     "output_type": "display_data"
    }
   ],
   "source": [
    "plt.figure(figsize=(12, 8))\n",
    "plt.boxplot(df['diff'])\n",
    "plt.show()"
   ]
  },
  {
   "cell_type": "code",
   "execution_count": 117,
   "metadata": {
    "ExecuteTime": {
     "end_time": "2022-01-11T16:09:05.140030Z",
     "start_time": "2022-01-11T16:09:05.124996Z"
    }
   },
   "outputs": [
    {
     "name": "stdout",
     "output_type": "stream",
     "text": [
      "13.79\n"
     ]
    }
   ],
   "source": [
    "# First quartile (Q1)\n",
    "Q1 = np.percentile(df['diff'], 25, interpolation = 'midpoint')\n",
    "  \n",
    "# Third quartile (Q3)\n",
    "Q3 = np.percentile(df['diff'], 75, interpolation = 'midpoint')\n",
    "  \n",
    "# Interquaritle range (IQR)\n",
    "IQR = Q3 - Q1\n",
    " \n",
    "print(IQR)"
   ]
  },
  {
   "cell_type": "code",
   "execution_count": 118,
   "metadata": {
    "ExecuteTime": {
     "end_time": "2022-01-11T16:09:05.156039Z",
     "start_time": "2022-01-11T16:09:05.140997Z"
    }
   },
   "outputs": [],
   "source": [
    "# lower-bound\n",
    "l_b = Q1 - 1.5 * IQR\n",
    "\n",
    "# upper-bound\n",
    "u_b = Q3 + 1.5 * IQR"
   ]
  },
  {
   "cell_type": "code",
   "execution_count": 119,
   "metadata": {
    "ExecuteTime": {
     "end_time": "2022-01-11T16:09:05.172047Z",
     "start_time": "2022-01-11T16:09:05.156998Z"
    }
   },
   "outputs": [],
   "source": [
    "df = df[(df['diff'] >= l_b) & (df['diff'] <= u_b)]['diff']"
   ]
  },
  {
   "cell_type": "markdown",
   "metadata": {},
   "source": [
    "**CONDITIONS FOR THE t-distribution**\n",
    "\n",
    "1. Independence\n",
    "2. Normality\n",
    "    * $n \\lt 30$, no clear outliers\n",
    "    * $n \\ge 30$, no extreme outliers "
   ]
  },
  {
   "cell_type": "code",
   "execution_count": 120,
   "metadata": {
    "ExecuteTime": {
     "end_time": "2022-01-11T16:09:05.187530Z",
     "start_time": "2022-01-11T16:09:05.174054Z"
    }
   },
   "outputs": [
    {
     "name": "stdout",
     "output_type": "stream",
     "text": [
      "9.813283582089552\n",
      "10.229356844733427\n",
      "67\n",
      "38.23 -9.53\n",
      "40.50135411628983 -20.874786952110732\n"
     ]
    }
   ],
   "source": [
    "# identify outliers\n",
    "x_bar = np.mean(df)\n",
    "print(x_bar)\n",
    "\n",
    "s = np.std(df)\n",
    "print(s)\n",
    "\n",
    "n = df.size\n",
    "print(n)\n",
    "\n",
    "print(np.amax(df), np.amin(df))\n",
    "\n",
    "max_val = x_bar + 3 * s\n",
    "min_val = x_bar - 3 * s\n",
    "\n",
    "print(max_val, min_val)"
   ]
  },
  {
   "cell_type": "markdown",
   "metadata": {},
   "source": [
    "**Hypothesis**\n",
    "\n",
    "$H_o = 0, \\text{there's no difference in the average prices}\\\\$\n",
    "$H_A \\neq 0, \\text{there's difference in the average prices}$"
   ]
  },
  {
   "cell_type": "code",
   "execution_count": 121,
   "metadata": {
    "ExecuteTime": {
     "end_time": "2022-01-11T16:09:05.203325Z",
     "start_time": "2022-01-11T16:09:05.188477Z"
    }
   },
   "outputs": [],
   "source": [
    "# null-hypothesis\n",
    "h_0 = 0"
   ]
  },
  {
   "cell_type": "markdown",
   "metadata": {},
   "source": [
    "**standard error**\n",
    "\n",
    "$SE = \\frac{\\sigma}{\\sqrt{n}} \\approx \\frac{s}{\\sqrt{n}}$"
   ]
  },
  {
   "cell_type": "code",
   "execution_count": 122,
   "metadata": {
    "ExecuteTime": {
     "end_time": "2022-01-11T16:09:05.218390Z",
     "start_time": "2022-01-11T16:09:05.204256Z"
    }
   },
   "outputs": [
    {
     "name": "stdout",
     "output_type": "stream",
     "text": [
      "1.2497148418434503\n"
     ]
    }
   ],
   "source": [
    "# std err\n",
    "std_err = s / math.sqrt(n)\n",
    "print(std_err)"
   ]
  },
  {
   "cell_type": "markdown",
   "metadata": {},
   "source": [
    "**t-statistic**\n",
    "\n",
    "$t = \\frac{\\bar{x} - \\mu}{SE}$"
   ]
  },
  {
   "cell_type": "code",
   "execution_count": 123,
   "metadata": {
    "ExecuteTime": {
     "end_time": "2022-01-11T16:09:05.234313Z",
     "start_time": "2022-01-11T16:09:05.219308Z"
    }
   },
   "outputs": [
    {
     "name": "stdout",
     "output_type": "stream",
     "text": [
      "7.852418210552744\n"
     ]
    }
   ],
   "source": [
    "# t-statistic\n",
    "t = (x_bar - h_0)/std_err\n",
    "print(t)"
   ]
  },
  {
   "cell_type": "markdown",
   "metadata": {},
   "source": [
    "**degrees of freedom**\n",
    "\n",
    "$df = n - 1$"
   ]
  },
  {
   "cell_type": "code",
   "execution_count": 124,
   "metadata": {
    "ExecuteTime": {
     "end_time": "2022-01-11T16:09:05.250548Z",
     "start_time": "2022-01-11T16:09:05.235405Z"
    }
   },
   "outputs": [
    {
     "name": "stdout",
     "output_type": "stream",
     "text": [
      "66\n"
     ]
    }
   ],
   "source": [
    "# degree of freedom\n",
    "dof = n - 1\n",
    "print(dof)"
   ]
  },
  {
   "cell_type": "markdown",
   "metadata": {
    "ExecuteTime": {
     "end_time": "2022-01-10T12:45:33.152040Z",
     "start_time": "2022-01-10T12:45:33.137864Z"
    }
   },
   "source": [
    "***p-value***"
   ]
  },
  {
   "cell_type": "code",
   "execution_count": 125,
   "metadata": {
    "ExecuteTime": {
     "end_time": "2022-01-11T16:09:05.266459Z",
     "start_time": "2022-01-11T16:09:05.251449Z"
    }
   },
   "outputs": [
    {
     "name": "stdout",
     "output_type": "stream",
     "text": [
      "4.864537029174424e-11\n"
     ]
    }
   ],
   "source": [
    "# p-value\n",
    "result = stats.t.sf(abs(t), df=dof)*2\n",
    "print(result)"
   ]
  },
  {
   "cell_type": "code",
   "execution_count": null,
   "metadata": {},
   "outputs": [],
   "source": []
  }
 ],
 "metadata": {
  "colab": {
   "collapsed_sections": [],
   "name": "5.3 Hypothesis testing for a proportion",
   "provenance": []
  },
  "kernelspec": {
   "display_name": "Python 3 (ipykernel)",
   "language": "python",
   "name": "python3"
  },
  "language_info": {
   "codemirror_mode": {
    "name": "ipython",
    "version": 3
   },
   "file_extension": ".py",
   "mimetype": "text/x-python",
   "name": "python",
   "nbconvert_exporter": "python",
   "pygments_lexer": "ipython3",
   "version": "3.7.9"
  }
 },
 "nbformat": 4,
 "nbformat_minor": 1
}
