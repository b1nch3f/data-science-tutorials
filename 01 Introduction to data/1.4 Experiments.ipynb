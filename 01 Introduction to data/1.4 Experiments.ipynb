{
 "cells": [
  {
   "cell_type": "markdown",
   "metadata": {},
   "source": [
    "### Principles of experimental design\n",
    "    - Controlling\n",
    "    - Randomization\n",
    "    - Replication\n",
    "    - Blocking"
   ]
  },
  {
   "cell_type": "markdown",
   "metadata": {
    "ExecuteTime": {
     "end_time": "2022-01-15T10:38:54.704277Z",
     "start_time": "2022-01-15T10:38:54.694268Z"
    }
   },
   "source": [
    "### Reducing bias in human experiments\n",
    "    - Placebo\n",
    "    - blind\n",
    "    - double-blind"
   ]
  }
 ],
 "metadata": {
  "accelerator": "GPU",
  "colab": {
   "name": "1.2 Data basics notebook",
   "private_outputs": true,
   "provenance": []
  },
  "kernelspec": {
   "display_name": "Python 3 (ipykernel)",
   "language": "python",
   "name": "python3"
  },
  "language_info": {
   "codemirror_mode": {
    "name": "ipython",
    "version": 3
   },
   "file_extension": ".py",
   "mimetype": "text/x-python",
   "name": "python",
   "nbconvert_exporter": "python",
   "pygments_lexer": "ipython3",
   "version": "3.7.9"
  }
 },
 "nbformat": 4,
 "nbformat_minor": 1
}
