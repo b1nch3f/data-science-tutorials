{
 "cells": [
  {
   "cell_type": "markdown",
   "metadata": {},
   "source": [
    "### Without replacement"
   ]
  },
  {
   "cell_type": "markdown",
   "metadata": {},
   "source": [
    "$P(\\sim picked) = 14/15$\n",
    "\n",
    "$P(\\sim picked \\hspace{1mm} \\vert \\sim picked) = 13/14 \\times 14/15$\n",
    "\n",
    "$P(\\sim picked \\hspace{1mm} \\vert \\sim picked, \\sim picked) = 12/13 \\times 13/14 \\times 14/15$"
   ]
  },
  {
   "cell_type": "code",
   "execution_count": 1,
   "metadata": {
    "ExecuteTime": {
     "end_time": "2022-01-16T08:38:47.789010Z",
     "start_time": "2022-01-16T08:38:47.771399Z"
    }
   },
   "outputs": [
    {
     "data": {
      "text/plain": [
       "0.9333333333333333"
      ]
     },
     "execution_count": 1,
     "metadata": {},
     "output_type": "execute_result"
    }
   ],
   "source": [
    "# not picked\n",
    "14/15"
   ]
  },
  {
   "cell_type": "code",
   "execution_count": 2,
   "metadata": {
    "ExecuteTime": {
     "end_time": "2022-01-16T08:38:47.804015Z",
     "start_time": "2022-01-16T08:38:47.792010Z"
    }
   },
   "outputs": [
    {
     "data": {
      "text/plain": [
       "0.8666666666666667"
      ]
     },
     "execution_count": 2,
     "metadata": {},
     "output_type": "execute_result"
    }
   ],
   "source": [
    "# not picked given not picked\n",
    "13/14 * 14/15"
   ]
  },
  {
   "cell_type": "code",
   "execution_count": 3,
   "metadata": {
    "ExecuteTime": {
     "end_time": "2022-01-16T08:38:47.819039Z",
     "start_time": "2022-01-16T08:38:47.806014Z"
    }
   },
   "outputs": [
    {
     "data": {
      "text/plain": [
       "0.8"
      ]
     },
     "execution_count": 3,
     "metadata": {},
     "output_type": "execute_result"
    }
   ],
   "source": [
    "# not picked given not picked, not picked\n",
    "12/13 * 13/14 * 14/15"
   ]
  },
  {
   "cell_type": "markdown",
   "metadata": {},
   "source": [
    "### With replacement"
   ]
  },
  {
   "cell_type": "markdown",
   "metadata": {},
   "source": [
    "$P(\\sim picked) = 14/15$\n",
    "\n",
    "$P(\\sim picked \\hspace{1mm} \\vert \\sim picked) = 14/15 \\times 14/15$\n",
    "\n",
    "$P(\\sim picked \\hspace{1mm} \\vert \\sim picked, \\sim picked) = 14/15 \\times 14/15 \\times 14/15$"
   ]
  },
  {
   "cell_type": "code",
   "execution_count": 4,
   "metadata": {
    "ExecuteTime": {
     "end_time": "2022-01-16T08:38:47.834244Z",
     "start_time": "2022-01-16T08:38:47.821379Z"
    }
   },
   "outputs": [
    {
     "data": {
      "text/plain": [
       "0.9333333333333333"
      ]
     },
     "execution_count": 4,
     "metadata": {},
     "output_type": "execute_result"
    }
   ],
   "source": [
    "# not picked\n",
    "14/15"
   ]
  },
  {
   "cell_type": "code",
   "execution_count": 5,
   "metadata": {
    "ExecuteTime": {
     "end_time": "2022-01-16T08:38:47.849659Z",
     "start_time": "2022-01-16T08:38:47.836245Z"
    }
   },
   "outputs": [
    {
     "data": {
      "text/plain": [
       "0.8711111111111111"
      ]
     },
     "execution_count": 5,
     "metadata": {},
     "output_type": "execute_result"
    }
   ],
   "source": [
    "# not picked given not picked\n",
    "14/15 * 14/15"
   ]
  },
  {
   "cell_type": "code",
   "execution_count": 6,
   "metadata": {
    "ExecuteTime": {
     "end_time": "2022-01-16T08:38:47.865358Z",
     "start_time": "2022-01-16T08:38:47.851659Z"
    }
   },
   "outputs": [
    {
     "data": {
      "text/plain": [
       "0.8130370370370369"
      ]
     },
     "execution_count": 6,
     "metadata": {},
     "output_type": "execute_result"
    }
   ],
   "source": [
    "# not picked given not picked, not picked\n",
    "14/15 * 14/15 * 14/15"
   ]
  }
 ],
 "metadata": {
  "accelerator": "GPU",
  "colab": {
   "name": "1.2 Data basics notebook",
   "private_outputs": true,
   "provenance": []
  },
  "kernelspec": {
   "display_name": "Python 3 (ipykernel)",
   "language": "python",
   "name": "python3"
  },
  "language_info": {
   "codemirror_mode": {
    "name": "ipython",
    "version": 3
   },
   "file_extension": ".py",
   "mimetype": "text/x-python",
   "name": "python",
   "nbconvert_exporter": "python",
   "pygments_lexer": "ipython3",
   "version": "3.7.9"
  }
 },
 "nbformat": 4,
 "nbformat_minor": 1
}
