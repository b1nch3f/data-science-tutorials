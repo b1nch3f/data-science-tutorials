{
 "cells": [
  {
   "cell_type": "code",
   "execution_count": 8,
   "metadata": {
    "ExecuteTime": {
     "end_time": "2022-01-16T08:38:39.595574Z",
     "start_time": "2022-01-16T08:38:39.578851Z"
    },
    "id": "2njiu1i6PqH6"
   },
   "outputs": [],
   "source": [
    "import numpy as np\n",
    "import pandas as pd\n",
    "import matplotlib.pyplot as plt\n",
    "import seaborn as sns"
   ]
  },
  {
   "cell_type": "code",
   "execution_count": 9,
   "metadata": {
    "ExecuteTime": {
     "end_time": "2022-01-16T08:38:39.611543Z",
     "start_time": "2022-01-16T08:38:39.597543Z"
    },
    "id": "ewW3fBUSa1Qr"
   },
   "outputs": [],
   "source": [
    "df = pd.read_csv('../data/photo_classify.csv')"
   ]
  },
  {
   "cell_type": "code",
   "execution_count": 10,
   "metadata": {
    "ExecuteTime": {
     "end_time": "2022-01-16T08:38:39.626543Z",
     "start_time": "2022-01-16T08:38:39.613543Z"
    }
   },
   "outputs": [
    {
     "name": "stdout",
     "output_type": "stream",
     "text": [
      "<class 'pandas.core.frame.DataFrame'>\n",
      "RangeIndex: 1822 entries, 0 to 1821\n",
      "Data columns (total 2 columns):\n",
      " #   Column      Non-Null Count  Dtype \n",
      "---  ------      --------------  ----- \n",
      " 0   mach_learn  1822 non-null   object\n",
      " 1   truth       1822 non-null   object\n",
      "dtypes: object(2)\n",
      "memory usage: 28.6+ KB\n"
     ]
    }
   ],
   "source": [
    "df.info()"
   ]
  },
  {
   "cell_type": "code",
   "execution_count": 11,
   "metadata": {
    "ExecuteTime": {
     "end_time": "2022-01-16T08:38:39.641848Z",
     "start_time": "2022-01-16T08:38:39.628826Z"
    },
    "id": "XPDtrwdOTESK"
   },
   "outputs": [
    {
     "data": {
      "text/html": [
       "<div>\n",
       "<style scoped>\n",
       "    .dataframe tbody tr th:only-of-type {\n",
       "        vertical-align: middle;\n",
       "    }\n",
       "\n",
       "    .dataframe tbody tr th {\n",
       "        vertical-align: top;\n",
       "    }\n",
       "\n",
       "    .dataframe thead th {\n",
       "        text-align: right;\n",
       "    }\n",
       "</style>\n",
       "<table border=\"1\" class=\"dataframe\">\n",
       "  <thead>\n",
       "    <tr style=\"text-align: right;\">\n",
       "      <th></th>\n",
       "      <th>mach_learn</th>\n",
       "      <th>truth</th>\n",
       "    </tr>\n",
       "  </thead>\n",
       "  <tbody>\n",
       "    <tr>\n",
       "      <th>0</th>\n",
       "      <td>pred_fashion</td>\n",
       "      <td>fashion</td>\n",
       "    </tr>\n",
       "    <tr>\n",
       "      <th>1</th>\n",
       "      <td>pred_fashion</td>\n",
       "      <td>fashion</td>\n",
       "    </tr>\n",
       "    <tr>\n",
       "      <th>2</th>\n",
       "      <td>pred_fashion</td>\n",
       "      <td>fashion</td>\n",
       "    </tr>\n",
       "    <tr>\n",
       "      <th>3</th>\n",
       "      <td>pred_fashion</td>\n",
       "      <td>fashion</td>\n",
       "    </tr>\n",
       "    <tr>\n",
       "      <th>4</th>\n",
       "      <td>pred_fashion</td>\n",
       "      <td>fashion</td>\n",
       "    </tr>\n",
       "  </tbody>\n",
       "</table>\n",
       "</div>"
      ],
      "text/plain": [
       "     mach_learn    truth\n",
       "0  pred_fashion  fashion\n",
       "1  pred_fashion  fashion\n",
       "2  pred_fashion  fashion\n",
       "3  pred_fashion  fashion\n",
       "4  pred_fashion  fashion"
      ]
     },
     "execution_count": 11,
     "metadata": {},
     "output_type": "execute_result"
    }
   ],
   "source": [
    "df.head()"
   ]
  },
  {
   "cell_type": "markdown",
   "metadata": {},
   "source": [
    "### Marginal probabilities\n",
    "    - Probability based on a single variables\n",
    "    \n",
    "### Joint Probabilities\n",
    "    - Probability based on two or more variables"
   ]
  },
  {
   "cell_type": "code",
   "execution_count": 12,
   "metadata": {
    "ExecuteTime": {
     "end_time": "2022-01-16T08:38:39.686852Z",
     "start_time": "2022-01-16T08:38:39.643848Z"
    },
    "id": "D5bcSpc8TXMR"
   },
   "outputs": [
    {
     "data": {
      "text/html": [
       "<div>\n",
       "<style scoped>\n",
       "    .dataframe tbody tr th:only-of-type {\n",
       "        vertical-align: middle;\n",
       "    }\n",
       "\n",
       "    .dataframe tbody tr th {\n",
       "        vertical-align: top;\n",
       "    }\n",
       "\n",
       "    .dataframe thead th {\n",
       "        text-align: right;\n",
       "    }\n",
       "</style>\n",
       "<table border=\"1\" class=\"dataframe\">\n",
       "  <thead>\n",
       "    <tr style=\"text-align: right;\">\n",
       "      <th>truth</th>\n",
       "      <th>fashion</th>\n",
       "      <th>not</th>\n",
       "      <th>All</th>\n",
       "    </tr>\n",
       "    <tr>\n",
       "      <th>mach_learn</th>\n",
       "      <th></th>\n",
       "      <th></th>\n",
       "      <th></th>\n",
       "    </tr>\n",
       "  </thead>\n",
       "  <tbody>\n",
       "    <tr>\n",
       "      <th>pred_fashion</th>\n",
       "      <td>197</td>\n",
       "      <td>22</td>\n",
       "      <td>219</td>\n",
       "    </tr>\n",
       "    <tr>\n",
       "      <th>pred_not</th>\n",
       "      <td>112</td>\n",
       "      <td>1491</td>\n",
       "      <td>1603</td>\n",
       "    </tr>\n",
       "    <tr>\n",
       "      <th>All</th>\n",
       "      <td>309</td>\n",
       "      <td>1513</td>\n",
       "      <td>1822</td>\n",
       "    </tr>\n",
       "  </tbody>\n",
       "</table>\n",
       "</div>"
      ],
      "text/plain": [
       "truth         fashion   not   All\n",
       "mach_learn                       \n",
       "pred_fashion      197    22   219\n",
       "pred_not          112  1491  1603\n",
       "All               309  1513  1822"
      ]
     },
     "execution_count": 12,
     "metadata": {},
     "output_type": "execute_result"
    }
   ],
   "source": [
    "pd.crosstab(df['mach_learn'], df['truth'], margins=True)"
   ]
  },
  {
   "cell_type": "markdown",
   "metadata": {},
   "source": [
    "#### Marginal probability\n",
    "$P(pred\\text{_}fashion) = \\frac{219}{1822}$\n",
    "\n",
    "#### Joint probability\n",
    "$P(pred\\text{_}fashion \\hspace{1mm} \\text{and} fashion) = \\frac{197}{1822}$"
   ]
  },
  {
   "cell_type": "code",
   "execution_count": 13,
   "metadata": {
    "ExecuteTime": {
     "end_time": "2022-01-16T08:38:39.731852Z",
     "start_time": "2022-01-16T08:38:39.687848Z"
    },
    "id": "rrQykb6MWpPO"
   },
   "outputs": [
    {
     "data": {
      "text/html": [
       "<div>\n",
       "<style scoped>\n",
       "    .dataframe tbody tr th:only-of-type {\n",
       "        vertical-align: middle;\n",
       "    }\n",
       "\n",
       "    .dataframe tbody tr th {\n",
       "        vertical-align: top;\n",
       "    }\n",
       "\n",
       "    .dataframe thead th {\n",
       "        text-align: right;\n",
       "    }\n",
       "</style>\n",
       "<table border=\"1\" class=\"dataframe\">\n",
       "  <thead>\n",
       "    <tr style=\"text-align: right;\">\n",
       "      <th>truth</th>\n",
       "      <th>fashion</th>\n",
       "      <th>not</th>\n",
       "      <th>All</th>\n",
       "    </tr>\n",
       "    <tr>\n",
       "      <th>mach_learn</th>\n",
       "      <th></th>\n",
       "      <th></th>\n",
       "      <th></th>\n",
       "    </tr>\n",
       "  </thead>\n",
       "  <tbody>\n",
       "    <tr>\n",
       "      <th>pred_fashion</th>\n",
       "      <td>0.108123</td>\n",
       "      <td>0.012075</td>\n",
       "      <td>0.120198</td>\n",
       "    </tr>\n",
       "    <tr>\n",
       "      <th>pred_not</th>\n",
       "      <td>0.061471</td>\n",
       "      <td>0.818332</td>\n",
       "      <td>0.879802</td>\n",
       "    </tr>\n",
       "    <tr>\n",
       "      <th>All</th>\n",
       "      <td>0.169594</td>\n",
       "      <td>0.830406</td>\n",
       "      <td>1.000000</td>\n",
       "    </tr>\n",
       "  </tbody>\n",
       "</table>\n",
       "</div>"
      ],
      "text/plain": [
       "truth          fashion       not       All\n",
       "mach_learn                                \n",
       "pred_fashion  0.108123  0.012075  0.120198\n",
       "pred_not      0.061471  0.818332  0.879802\n",
       "All           0.169594  0.830406  1.000000"
      ]
     },
     "execution_count": 13,
     "metadata": {},
     "output_type": "execute_result"
    }
   ],
   "source": [
    "pd.crosstab(df['mach_learn'], df['truth'], margins=True, normalize='all')"
   ]
  },
  {
   "cell_type": "markdown",
   "metadata": {
    "id": "eehkfGfh8hnj"
   },
   "source": [
    "### Conditional probability\n",
    "\n",
    "$P(A | B) = \\frac{P(A \\hspace{1mm} \\text{and} \\hspace{1mm} B)}{P(B)}$\n",
    "\n",
    "$P(\\textit{truth is fashion} \\hspace{1mm} \\text{given} \\hspace{1mm} \\textit{mach_learn is pred_fashion}) = \\frac{197}{219}$\n",
    "\n",
    "$P(\\textit{truth is fashion} \\hspace{1mm} \\text{|} \\hspace{1mm} \\textit{mach_learn is pred_fashion}) = \\frac{197}{219}$"
   ]
  },
  {
   "cell_type": "code",
   "execution_count": 14,
   "metadata": {
    "ExecuteTime": {
     "end_time": "2022-01-16T08:38:39.776848Z",
     "start_time": "2022-01-16T08:38:39.732850Z"
    }
   },
   "outputs": [
    {
     "data": {
      "text/html": [
       "<div>\n",
       "<style scoped>\n",
       "    .dataframe tbody tr th:only-of-type {\n",
       "        vertical-align: middle;\n",
       "    }\n",
       "\n",
       "    .dataframe tbody tr th {\n",
       "        vertical-align: top;\n",
       "    }\n",
       "\n",
       "    .dataframe thead th {\n",
       "        text-align: right;\n",
       "    }\n",
       "</style>\n",
       "<table border=\"1\" class=\"dataframe\">\n",
       "  <thead>\n",
       "    <tr style=\"text-align: right;\">\n",
       "      <th>truth</th>\n",
       "      <th>fashion</th>\n",
       "      <th>not</th>\n",
       "    </tr>\n",
       "    <tr>\n",
       "      <th>mach_learn</th>\n",
       "      <th></th>\n",
       "      <th></th>\n",
       "    </tr>\n",
       "  </thead>\n",
       "  <tbody>\n",
       "    <tr>\n",
       "      <th>pred_fashion</th>\n",
       "      <td>0.899543</td>\n",
       "      <td>0.100457</td>\n",
       "    </tr>\n",
       "    <tr>\n",
       "      <th>pred_not</th>\n",
       "      <td>0.069869</td>\n",
       "      <td>0.930131</td>\n",
       "    </tr>\n",
       "    <tr>\n",
       "      <th>All</th>\n",
       "      <td>0.169594</td>\n",
       "      <td>0.830406</td>\n",
       "    </tr>\n",
       "  </tbody>\n",
       "</table>\n",
       "</div>"
      ],
      "text/plain": [
       "truth          fashion       not\n",
       "mach_learn                      \n",
       "pred_fashion  0.899543  0.100457\n",
       "pred_not      0.069869  0.930131\n",
       "All           0.169594  0.830406"
      ]
     },
     "execution_count": 14,
     "metadata": {},
     "output_type": "execute_result"
    }
   ],
   "source": [
    "pd.crosstab(df['mach_learn'], df['truth'], margins=True, normalize='index')"
   ]
  },
  {
   "cell_type": "markdown",
   "metadata": {},
   "source": [
    "### General multiplication rule\n",
    "\n",
    "$P(A \\hspace{1mm} \\text{and} \\hspace{1mm} B) = P(A | B) \\times {P(B)}$"
   ]
  },
  {
   "cell_type": "markdown",
   "metadata": {},
   "source": [
    "### Bayes Theorem\n",
    "\n",
    "$P(A_j | E) = \\frac{P(E | A_j) P(A_j)}{\\sum_{i} P(A_i)P(E | A_i)}$"
   ]
  }
 ],
 "metadata": {
  "colab": {
   "name": "3.1 Defining probability",
   "private_outputs": true,
   "provenance": []
  },
  "kernelspec": {
   "display_name": "Python 3 (ipykernel)",
   "language": "python",
   "name": "python3"
  },
  "language_info": {
   "codemirror_mode": {
    "name": "ipython",
    "version": 3
   },
   "file_extension": ".py",
   "mimetype": "text/x-python",
   "name": "python",
   "nbconvert_exporter": "python",
   "pygments_lexer": "ipython3",
   "version": "3.7.9"
  }
 },
 "nbformat": 4,
 "nbformat_minor": 1
}
