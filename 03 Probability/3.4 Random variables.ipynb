{
 "cells": [
  {
   "cell_type": "markdown",
   "metadata": {},
   "source": [
    "\\begin{array}{l r r r r r}\n",
    "     \\hline\n",
    "      & & &Planet List & & & \\\\\n",
    "     \\hline\n",
    "     i &1 &2 &3 &4 &Total \\\\\n",
    "     \\hline\n",
    "     x_i &.5g &2.5g &8g &1.5g &- \\\\\n",
    "     P(X = x_i) &.25 &.45 &.20 &.10 &1 \\\\\n",
    "     \\hline\n",
    "\\end{array}"
   ]
  },
  {
   "cell_type": "markdown",
   "metadata": {},
   "source": [
    "### Expectation"
   ]
  },
  {
   "cell_type": "markdown",
   "metadata": {},
   "source": [
    "\\begin{align*}\n",
    "    E(X) &= .5 \\times P(X = .5) + 2.5 \\times P(X = 2.5) + 8 \\times P(X = 8) \\\\\n",
    "    &+ 1.5 \\times P(X = 1.5) \\\\\n",
    "    &= .5 \\times .25 + 2.5 \\times .45 + 8 \\times .20 + 1.5 \\times .10 \\\\\n",
    "    &= .125 + 1.125 + 1.6 + .15 \\\\\n",
    "    &= 3 \\\\\n",
    "    avg(X) &= \\dfrac{.5 \\times 25 + 2.5 \\times 45 + 8 \\times 20 + 1.5 \\times 10}{100} \\\\\n",
    "    &= \\dfrac{12.5 + 112.5 + 160 + 15}{100} \\\\\n",
    "    &= \\dfrac{300}{100} \\\\\n",
    "    &= 3\n",
    "\\end{align*}"
   ]
  },
  {
   "cell_type": "markdown",
   "metadata": {},
   "source": [
    "### Variability in random variables"
   ]
  },
  {
   "cell_type": "markdown",
   "metadata": {},
   "source": [
    "\\begin{align*}\n",
    "    E(X) & = \\sum_{i=1}^{k} x_iP(X = x_i) \\\\\n",
    "    \\mu & = \\sum_{i=1}^{k} x_iP(X = x_i) \\\\\n",
    "    \\sigma^{2} & = \\sum_{i=1}^{k}(x_j - \\mu)^{2}P(X = x_j)\n",
    "\\end{align*}"
   ]
  },
  {
   "cell_type": "markdown",
   "metadata": {},
   "source": [
    "\\begin{array}{l r r r r r}\n",
    "     \\hline\n",
    "     & & &Planet List & & & \\\\\n",
    "     \\hline\n",
    "     $i &1 &2 &3 &4 &Total \\\\\n",
    "     \\hline\n",
    "     $x_i &.5g &2.5g &8g &1.5g &- \\\\\n",
    "     $P(X = x_i) &.25 &.45 &.20 &.10 &1 \\\\\n",
    "     $x_i \\times P(X = x_i) &.125 &1.125 &1.6 &.15 &3 \\\\\n",
    "     $x_i - \\mu &-2.5 &-.5 &5 &-1.5 &.5 \\\\\n",
    "     $(x_i - \\mu)^{2} &6.25 &.25 &25 &2.25 &33.75 \\\\\n",
    "     $(x_i - \\mu)^{2} \\times P(X = x_i) &1.56 &.11 &5 &.225 &7.15 \\\\\n",
    "     \\hline\n",
    "\\end{array}\n",
    "\n",
    "\\begin{align*}\n",
    "    \\sigma^{2} &= 7.15 \\\\\n",
    "    \\sigma & = \\sqrt{7.15} \\\\\n",
    "    & = 2.67 \\\\\n",
    "\\end{align*}"
   ]
  },
  {
   "cell_type": "markdown",
   "metadata": {},
   "source": [
    "### Linear combinations of random variables"
   ]
  },
  {
   "cell_type": "markdown",
   "metadata": {},
   "source": [
    "\\begin{align*}\n",
    "    E(X) &= E(X_1 + X_2 + X_3 + X_4) \\\\\n",
    "    &= E(X_1) + E(X_2) + E(X_3) + E(X_4) \\\\\n",
    "    &= 3 + 3 + 3 + 3 = 12\n",
    "\\end{align*}"
   ]
  },
  {
   "cell_type": "markdown",
   "metadata": {},
   "source": [
    "\\begin{align*}\n",
    "    aX + bY\n",
    "\\end{align*}\n",
    "\n",
    "\\begin{align*}\n",
    "    E(X) &= a \\times E(X) + b \\times E(Y)\n",
    "\\end{align*}"
   ]
  },
  {
   "cell_type": "markdown",
   "metadata": {},
   "source": [
    "### Variability in linear combinations of random variables"
   ]
  },
  {
   "cell_type": "markdown",
   "metadata": {},
   "source": [
    "\\begin{align*}\n",
    "    Var(aX + bY ) = a^2 \\times Var(X) + b^2 \\times Var(Y )\n",
    "\\end{align*}"
   ]
  }
 ],
 "metadata": {
  "accelerator": "GPU",
  "colab": {
   "name": "1.2 Data basics notebook",
   "private_outputs": true,
   "provenance": []
  },
  "kernelspec": {
   "display_name": "Python 3 (ipykernel)",
   "language": "python",
   "name": "python3"
  },
  "language_info": {
   "codemirror_mode": {
    "name": "ipython",
    "version": 3
   },
   "file_extension": ".py",
   "mimetype": "text/x-python",
   "name": "python",
   "nbconvert_exporter": "python",
   "pygments_lexer": "ipython3",
   "version": "3.7.9"
  }
 },
 "nbformat": 4,
 "nbformat_minor": 1
}
