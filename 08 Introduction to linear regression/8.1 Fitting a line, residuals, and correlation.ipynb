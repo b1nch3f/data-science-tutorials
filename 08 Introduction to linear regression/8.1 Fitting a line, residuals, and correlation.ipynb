{
 "cells": [
  {
   "cell_type": "code",
   "execution_count": 1,
   "id": "3012f222",
   "metadata": {
    "ExecuteTime": {
     "end_time": "2022-01-17T15:52:07.928808Z",
     "start_time": "2022-01-17T15:52:01.967754Z"
    }
   },
   "outputs": [],
   "source": [
    "import numpy as np\n",
    "import pandas as pd\n",
    "import matplotlib.pyplot as plt\n",
    "import seaborn as sns"
   ]
  },
  {
   "cell_type": "markdown",
   "id": "692ccd44",
   "metadata": {},
   "source": [
    "### There might be a causal relationship between associated variables\n",
    "\n",
    "- Explanatory variable\n",
    "\n",
    "- Response variable"
   ]
  },
  {
   "cell_type": "markdown",
   "id": "2a92d2be",
   "metadata": {},
   "source": [
    "$\\text{Association} \\ne \\text{Causation}$"
   ]
  },
  {
   "cell_type": "code",
   "execution_count": 2,
   "id": "39c3fc12",
   "metadata": {
    "ExecuteTime": {
     "end_time": "2022-01-17T15:52:11.434024Z",
     "start_time": "2022-01-17T15:52:11.402990Z"
    }
   },
   "outputs": [],
   "source": [
    "df = pd.read_csv('../data/loan50.csv')"
   ]
  },
  {
   "cell_type": "code",
   "execution_count": 3,
   "id": "0cf9bb6e",
   "metadata": {
    "ExecuteTime": {
     "end_time": "2022-01-17T15:52:22.228548Z",
     "start_time": "2022-01-17T15:52:22.178587Z"
    }
   },
   "outputs": [
    {
     "data": {
      "text/html": [
       "<div>\n",
       "<style scoped>\n",
       "    .dataframe tbody tr th:only-of-type {\n",
       "        vertical-align: middle;\n",
       "    }\n",
       "\n",
       "    .dataframe tbody tr th {\n",
       "        vertical-align: top;\n",
       "    }\n",
       "\n",
       "    .dataframe thead th {\n",
       "        text-align: right;\n",
       "    }\n",
       "</style>\n",
       "<table border=\"1\" class=\"dataframe\">\n",
       "  <thead>\n",
       "    <tr style=\"text-align: right;\">\n",
       "      <th></th>\n",
       "      <th>state</th>\n",
       "      <th>emp_length</th>\n",
       "      <th>term</th>\n",
       "      <th>homeownership</th>\n",
       "      <th>annual_income</th>\n",
       "      <th>verified_income</th>\n",
       "      <th>debt_to_income</th>\n",
       "      <th>total_credit_limit</th>\n",
       "      <th>total_credit_utilized</th>\n",
       "      <th>num_cc_carrying_balance</th>\n",
       "      <th>loan_purpose</th>\n",
       "      <th>loan_amount</th>\n",
       "      <th>grade</th>\n",
       "      <th>interest_rate</th>\n",
       "      <th>public_record_bankrupt</th>\n",
       "      <th>loan_status</th>\n",
       "      <th>has_second_income</th>\n",
       "      <th>total_income</th>\n",
       "    </tr>\n",
       "  </thead>\n",
       "  <tbody>\n",
       "    <tr>\n",
       "      <th>0</th>\n",
       "      <td>NJ</td>\n",
       "      <td>3.0</td>\n",
       "      <td>60</td>\n",
       "      <td>rent</td>\n",
       "      <td>59000</td>\n",
       "      <td>Not Verified</td>\n",
       "      <td>0.557525</td>\n",
       "      <td>95131</td>\n",
       "      <td>32894</td>\n",
       "      <td>8</td>\n",
       "      <td>debt_consolidation</td>\n",
       "      <td>22000</td>\n",
       "      <td>B</td>\n",
       "      <td>10.90</td>\n",
       "      <td>0</td>\n",
       "      <td>Current</td>\n",
       "      <td>False</td>\n",
       "      <td>59000</td>\n",
       "    </tr>\n",
       "    <tr>\n",
       "      <th>1</th>\n",
       "      <td>CA</td>\n",
       "      <td>10.0</td>\n",
       "      <td>36</td>\n",
       "      <td>rent</td>\n",
       "      <td>60000</td>\n",
       "      <td>Not Verified</td>\n",
       "      <td>1.305683</td>\n",
       "      <td>51929</td>\n",
       "      <td>78341</td>\n",
       "      <td>2</td>\n",
       "      <td>credit_card</td>\n",
       "      <td>6000</td>\n",
       "      <td>B</td>\n",
       "      <td>9.92</td>\n",
       "      <td>1</td>\n",
       "      <td>Current</td>\n",
       "      <td>False</td>\n",
       "      <td>60000</td>\n",
       "    </tr>\n",
       "    <tr>\n",
       "      <th>2</th>\n",
       "      <td>SC</td>\n",
       "      <td>NaN</td>\n",
       "      <td>36</td>\n",
       "      <td>mortgage</td>\n",
       "      <td>75000</td>\n",
       "      <td>Verified</td>\n",
       "      <td>1.056280</td>\n",
       "      <td>301373</td>\n",
       "      <td>79221</td>\n",
       "      <td>14</td>\n",
       "      <td>debt_consolidation</td>\n",
       "      <td>25000</td>\n",
       "      <td>E</td>\n",
       "      <td>26.30</td>\n",
       "      <td>0</td>\n",
       "      <td>Current</td>\n",
       "      <td>False</td>\n",
       "      <td>75000</td>\n",
       "    </tr>\n",
       "    <tr>\n",
       "      <th>3</th>\n",
       "      <td>CA</td>\n",
       "      <td>0.0</td>\n",
       "      <td>36</td>\n",
       "      <td>rent</td>\n",
       "      <td>75000</td>\n",
       "      <td>Not Verified</td>\n",
       "      <td>0.574347</td>\n",
       "      <td>59890</td>\n",
       "      <td>43076</td>\n",
       "      <td>10</td>\n",
       "      <td>credit_card</td>\n",
       "      <td>6000</td>\n",
       "      <td>B</td>\n",
       "      <td>9.92</td>\n",
       "      <td>0</td>\n",
       "      <td>Current</td>\n",
       "      <td>False</td>\n",
       "      <td>75000</td>\n",
       "    </tr>\n",
       "    <tr>\n",
       "      <th>4</th>\n",
       "      <td>OH</td>\n",
       "      <td>4.0</td>\n",
       "      <td>60</td>\n",
       "      <td>mortgage</td>\n",
       "      <td>254000</td>\n",
       "      <td>Not Verified</td>\n",
       "      <td>0.238150</td>\n",
       "      <td>422619</td>\n",
       "      <td>60490</td>\n",
       "      <td>2</td>\n",
       "      <td>home_improvement</td>\n",
       "      <td>25000</td>\n",
       "      <td>B</td>\n",
       "      <td>9.43</td>\n",
       "      <td>0</td>\n",
       "      <td>Current</td>\n",
       "      <td>False</td>\n",
       "      <td>254000</td>\n",
       "    </tr>\n",
       "  </tbody>\n",
       "</table>\n",
       "</div>"
      ],
      "text/plain": [
       "  state  emp_length  term homeownership  annual_income verified_income  \\\n",
       "0    NJ         3.0    60          rent          59000    Not Verified   \n",
       "1    CA        10.0    36          rent          60000    Not Verified   \n",
       "2    SC         NaN    36      mortgage          75000        Verified   \n",
       "3    CA         0.0    36          rent          75000    Not Verified   \n",
       "4    OH         4.0    60      mortgage         254000    Not Verified   \n",
       "\n",
       "   debt_to_income  total_credit_limit  total_credit_utilized  \\\n",
       "0        0.557525               95131                  32894   \n",
       "1        1.305683               51929                  78341   \n",
       "2        1.056280              301373                  79221   \n",
       "3        0.574347               59890                  43076   \n",
       "4        0.238150              422619                  60490   \n",
       "\n",
       "   num_cc_carrying_balance        loan_purpose  loan_amount grade  \\\n",
       "0                        8  debt_consolidation        22000     B   \n",
       "1                        2         credit_card         6000     B   \n",
       "2                       14  debt_consolidation        25000     E   \n",
       "3                       10         credit_card         6000     B   \n",
       "4                        2    home_improvement        25000     B   \n",
       "\n",
       "   interest_rate  public_record_bankrupt loan_status  has_second_income  \\\n",
       "0          10.90                       0     Current              False   \n",
       "1           9.92                       1     Current              False   \n",
       "2          26.30                       0     Current              False   \n",
       "3           9.92                       0     Current              False   \n",
       "4           9.43                       0     Current              False   \n",
       "\n",
       "   total_income  \n",
       "0         59000  \n",
       "1         60000  \n",
       "2         75000  \n",
       "3         75000  \n",
       "4        254000  "
      ]
     },
     "execution_count": 3,
     "metadata": {},
     "output_type": "execute_result"
    }
   ],
   "source": [
    "df.head()"
   ]
  },
  {
   "cell_type": "code",
   "execution_count": 5,
   "id": "47ff56ff",
   "metadata": {
    "ExecuteTime": {
     "end_time": "2022-01-17T15:52:37.674368Z",
     "start_time": "2022-01-17T15:52:37.472446Z"
    }
   },
   "outputs": [
    {
     "data": {
      "text/plain": [
       "<AxesSubplot:xlabel='total_income', ylabel='loan_amount'>"
      ]
     },
     "execution_count": 5,
     "metadata": {},
     "output_type": "execute_result"
    },
    {
     "data": {
      "image/png": "[encoded data removed]",
      "text/plain": [
       "<Figure size 864x576 with 1 Axes>"
      ]
     },
     "metadata": {
      "needs_background": "light"
     },
     "output_type": "display_data"
    }
   ],
   "source": [
    "plt.figure(figsize = (12,8))\n",
    "sns.scatterplot(data=df, x=\"total_income\", y=\"loan_amount\")"
   ]
  },
  {
   "cell_type": "markdown",
   "id": "ddc8abbc",
   "metadata": {},
   "source": [
    "### Given x can we predict y"
   ]
  },
  {
   "cell_type": "markdown",
   "id": "6c23beb8",
   "metadata": {},
   "source": [
    "#### Fitting a line to data"
   ]
  },
  {
   "cell_type": "markdown",
   "id": "8e3d9b31",
   "metadata": {},
   "source": [
    "$y = \\beta_0 + \\beta_1x + \\epsilon$"
   ]
  },
  {
   "cell_type": "code",
   "execution_count": 13,
   "id": "8e32959a",
   "metadata": {
    "ExecuteTime": {
     "end_time": "2022-01-17T15:59:40.644102Z",
     "start_time": "2022-01-17T15:59:40.506575Z"
    }
   },
   "outputs": [
    {
     "data": {
      "text/plain": [
       "<AxesSubplot:xlabel='total_income', ylabel='loan_amount'>"
      ]
     },
     "execution_count": 13,
     "metadata": {},
     "output_type": "execute_result"
    },
    {
     "data": {
      "image/png": "[encoded data removed]",
      "text/plain": [
       "<Figure size 864x576 with 1 Axes>"
      ]
     },
     "metadata": {
      "needs_background": "light"
     },
     "output_type": "display_data"
    }
   ],
   "source": [
    "plt.figure(figsize = (12,8))\n",
    "\n",
    "sns.regplot(data=df, x=\"total_income\", y=\"loan_amount\", ci=None)"
   ]
  },
  {
   "cell_type": "markdown",
   "id": "47a3fef5",
   "metadata": {},
   "source": [
    "### Residuals"
   ]
  },
  {
   "cell_type": "markdown",
   "id": "d4c0e9ce",
   "metadata": {},
   "source": [
    "$e_i = y_i - \\hat y_i$"
   ]
  },
  {
   "cell_type": "markdown",
   "id": "5596d8f9",
   "metadata": {},
   "source": [
    "### Correlation"
   ]
  },
  {
   "cell_type": "markdown",
   "id": "4abf59b7",
   "metadata": {},
   "source": [
    "$R = \\frac{1}{n-1} \\sum_{i=1}^n \\frac{x_i - \\bar x}{s_x} \\frac{y_i - \\bar y}{s_y}$"
   ]
  },
  {
   "cell_type": "code",
   "execution_count": null,
   "id": "da50a47f",
   "metadata": {},
   "outputs": [],
   "source": []
  }
 ],
 "metadata": {
  "kernelspec": {
   "display_name": "Python 3 (ipykernel)",
   "language": "python",
   "name": "python3"
  },
  "language_info": {
   "codemirror_mode": {
    "name": "ipython",
    "version": 3
   },
   "file_extension": ".py",
   "mimetype": "text/x-python",
   "name": "python",
   "nbconvert_exporter": "python",
   "pygments_lexer": "ipython3",
   "version": "3.7.9"
  }
 },
 "nbformat": 4,
 "nbformat_minor": 5
}
